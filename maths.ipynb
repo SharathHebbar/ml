{
 "cells": [
  {
   "cell_type": "code",
   "execution_count": 2,
   "id": "3e642327",
   "metadata": {},
   "outputs": [],
   "source": [
    "import numpy as np"
   ]
  },
  {
   "cell_type": "code",
   "execution_count": 13,
   "id": "b84c62a2",
   "metadata": {},
   "outputs": [],
   "source": [
    "import matplotlib.pyplot as plt\n",
    "import seaborn as sns\n",
    "sns.set()"
   ]
  },
  {
   "cell_type": "markdown",
   "id": "3b1031e3",
   "metadata": {},
   "source": [
    "# plotting a vector"
   ]
  },
  {
   "cell_type": "code",
   "execution_count": 20,
   "id": "b080880c",
   "metadata": {},
   "outputs": [
    {
     "data": {
      "text/plain": [
       "<matplotlib.quiver.Quiver at 0x23376988be0>"
      ]
     },
     "execution_count": 20,
     "metadata": {},
     "output_type": "execute_result"
    },
    {
     "data": {
      "image/png": "[encoded data removed]",
      "text/plain": [
       "<Figure size 432x288 with 1 Axes>"
      ]
     },
     "metadata": {},
     "output_type": "display_data"
    }
   ],
   "source": [
    "plt.quiver(0,0,4,5)"
   ]
  },
  {
   "cell_type": "code",
   "execution_count": 19,
   "id": "8c85e5f6",
   "metadata": {},
   "outputs": [
    {
     "data": {
      "image/png": "[encoded data removed]",
      "text/plain": [
       "<Figure size 432x288 with 1 Axes>"
      ]
     },
     "metadata": {},
     "output_type": "display_data"
    }
   ],
   "source": [
    "\n",
    "plt.quiver(0,0,4,5, scale_units='xy', angles='xy', scale=1)\n",
    "plt.xlim(-8,8)\n",
    "plt.ylim(-8,8)\n",
    "plt.show()\n"
   ]
  },
  {
   "cell_type": "code",
   "execution_count": null,
   "id": "efa50027",
   "metadata": {},
   "outputs": [],
   "source": []
  },
  {
   "cell_type": "code",
   "execution_count": null,
   "id": "f084c357",
   "metadata": {},
   "outputs": [],
   "source": []
  },
  {
   "cell_type": "code",
   "execution_count": null,
   "id": "5d687491",
   "metadata": {},
   "outputs": [],
   "source": []
  },
  {
   "cell_type": "code",
   "execution_count": null,
   "id": "08fab08d",
   "metadata": {},
   "outputs": [],
   "source": []
  },
  {
   "cell_type": "markdown",
   "id": "e68c4e69",
   "metadata": {},
   "source": [
    "# dot product of 2 vectors"
   ]
  },
  {
   "cell_type": "code",
   "execution_count": 6,
   "id": "798aa0b3",
   "metadata": {},
   "outputs": [
    {
     "name": "stdout",
     "output_type": "stream",
     "text": [
      "20\n",
      "<class 'numpy.int32'>\n",
      "4980\n"
     ]
    }
   ],
   "source": [
    "a = np.array([2,3])\n",
    "b = np.array([4,4])\n",
    "dot_prod = np.dot(a,b)\n",
    "print(dot_prod)\n",
    "print(type(dot_prod))\n",
    "c = np.array([40,20,35])\n",
    "d = np.array([53,24,68])\n",
    "c_dot_d = np.dot(c,d)\n",
    "print(c_dot_d)"
   ]
  },
  {
   "cell_type": "markdown",
   "id": "1f05a739",
   "metadata": {},
   "source": [
    "# cross product of 2 vectors"
   ]
  },
  {
   "cell_type": "code",
   "execution_count": 10,
   "id": "246389a9",
   "metadata": {},
   "outputs": [
    {
     "name": "stdout",
     "output_type": "stream",
     "text": [
      "-4\n",
      "<class 'numpy.ndarray'>\n",
      "[ 520 -865 -100]\n",
      "<class 'numpy.ndarray'>\n"
     ]
    }
   ],
   "source": [
    "a = np.array([2,3])\n",
    "b = np.array([4,4])\n",
    "cross_prod = np.cross(a,b)\n",
    "print(cross_prod)\n",
    "print(type(cross_prod))\n",
    "c = np.array([40,20,35])\n",
    "d = np.array([53,24,68])\n",
    "c_cross_d = np.cross(c,d)\n",
    "print(c_cross_d)\n",
    "print(type(c_cross_d))"
   ]
  },
  {
   "cell_type": "markdown",
   "id": "2e336fc7",
   "metadata": {},
   "source": [
    "# projection of one vector on another"
   ]
  },
  {
   "cell_type": "code",
   "execution_count": 5,
   "id": "c5eb59a5",
   "metadata": {},
   "outputs": [
    {
     "name": "stdout",
     "output_type": "stream",
     "text": [
      "10.0\n",
      "[-1.12  0.84]\n"
     ]
    }
   ],
   "source": [
    "a = np.array([2,5])\n",
    "v = np.array([8,-6])\n",
    "# magnitude of v\n",
    "mag_v = np.sqrt(sum(v**2))\n",
    "print(mag_v)\n",
    "\n",
    "proj_a_on_b = np.dot(a,v)/(mag_v ** 2)*v\n",
    "print(proj_a_on_b)"
   ]
  },
  {
   "cell_type": "markdown",
   "id": "2d0c5b94",
   "metadata": {},
   "source": [
    "# Matrix"
   ]
  },
  {
   "cell_type": "code",
   "execution_count": 22,
   "id": "7bc1d373",
   "metadata": {},
   "outputs": [
    {
     "name": "stdout",
     "output_type": "stream",
     "text": [
      "[[2 3]\n",
      " [3 2]]\n"
     ]
    },
    {
     "data": {
      "text/plain": [
       "(2, 2)"
      ]
     },
     "execution_count": 22,
     "metadata": {},
     "output_type": "execute_result"
    }
   ],
   "source": [
    "matrix1 = np.array([[2,3],[3,2]])\n",
    "print(matrix1)\n",
    "matrix1.shape"
   ]
  },
  {
   "cell_type": "code",
   "execution_count": null,
   "id": "f3111402",
   "metadata": {},
   "outputs": [],
   "source": []
  },
  {
   "cell_type": "code",
   "execution_count": null,
   "id": "3e85a408",
   "metadata": {},
   "outputs": [],
   "source": []
  },
  {
   "cell_type": "code",
   "execution_count": null,
   "id": "7a890494",
   "metadata": {},
   "outputs": [],
   "source": []
  },
  {
   "cell_type": "code",
   "execution_count": null,
   "id": "d610e81d",
   "metadata": {},
   "outputs": [],
   "source": []
  },
  {
   "cell_type": "code",
   "execution_count": null,
   "id": "83a1ca60",
   "metadata": {},
   "outputs": [],
   "source": []
  },
  {
   "cell_type": "code",
   "execution_count": null,
   "id": "e96783f0",
   "metadata": {},
   "outputs": [],
   "source": []
  }
 ],
 "metadata": {
  "kernelspec": {
   "display_name": "Python 3 (ipykernel)",
   "language": "python",
   "name": "python3"
  },
  "language_info": {
   "codemirror_mode": {
    "name": "ipython",
    "version": 3
   },
   "file_extension": ".py",
   "mimetype": "text/x-python",
   "name": "python",
   "nbconvert_exporter": "python",
   "pygments_lexer": "ipython3",
   "version": "3.9.6"
  }
 },
 "nbformat": 4,
 "nbformat_minor": 5
}
