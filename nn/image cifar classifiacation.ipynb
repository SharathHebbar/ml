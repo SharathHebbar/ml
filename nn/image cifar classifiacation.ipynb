{
 "cells": [
  {
   "cell_type": "code",
   "execution_count": 1,
   "id": "37a36439",
   "metadata": {},
   "outputs": [],
   "source": [
    "import tensorflow as tf\n",
    "import matplotlib.pyplot as plt\n",
    "import numpy as np\n",
    "from tensorflow.keras import datasets,layers,models"
   ]
  },
  {
   "cell_type": "code",
   "execution_count": 2,
   "id": "7a683809",
   "metadata": {},
   "outputs": [
    {
     "data": {
      "text/plain": [
       "(50000, 32, 32, 3)"
      ]
     },
     "execution_count": 2,
     "metadata": {},
     "output_type": "execute_result"
    }
   ],
   "source": [
    "(x_train,y_train), (x_test,y_test) = datasets.cifar10.load_data()\n",
    "x_train.shape"
   ]
  },
  {
   "cell_type": "code",
   "execution_count": 3,
   "id": "d0662e35",
   "metadata": {},
   "outputs": [
    {
     "data": {
      "text/plain": [
       "(10000, 32, 32, 3)"
      ]
     },
     "execution_count": 3,
     "metadata": {},
     "output_type": "execute_result"
    }
   ],
   "source": [
    "x_test.shape"
   ]
  },
  {
   "cell_type": "code",
   "execution_count": 7,
   "id": "e65bb4f3",
   "metadata": {},
   "outputs": [
    {
     "data": {
      "text/plain": [
       "array([[6],\n",
       "       [9],\n",
       "       [9],\n",
       "       [4],\n",
       "       [1]], dtype=uint8)"
      ]
     },
     "execution_count": 7,
     "metadata": {},
     "output_type": "execute_result"
    }
   ],
   "source": [
    "y_train[:5]"
   ]
  },
  {
   "cell_type": "code",
   "execution_count": 8,
   "id": "fa847deb",
   "metadata": {},
   "outputs": [
    {
     "data": {
      "text/plain": [
       "array([6, 9, 9, 4, 1], dtype=uint8)"
      ]
     },
     "execution_count": 8,
     "metadata": {},
     "output_type": "execute_result"
    }
   ],
   "source": [
    "y_train = y_train.reshape(-1,)\n",
    "y_train[:5]"
   ]
  },
  {
   "cell_type": "code",
   "execution_count": null,
   "id": "4c7d8fac",
   "metadata": {},
   "outputs": [],
   "source": []
  },
  {
   "cell_type": "code",
   "execution_count": 4,
   "id": "f9227a19",
   "metadata": {},
   "outputs": [],
   "source": [
    "cls = [\"airplane\",'automobile','bird','cat','deer','dog','frog','horse','ship','truck']"
   ]
  },
  {
   "cell_type": "code",
   "execution_count": 14,
   "id": "8d571614",
   "metadata": {},
   "outputs": [],
   "source": [
    "def plot_sample(x,y,index):    \n",
    "    plt.figure(figsize=(15,2))\n",
    "    plt.imshow(x[index])\n",
    "    plt.xlabel(cls[y[index]])"
   ]
  },
  {
   "cell_type": "code",
   "execution_count": 16,
   "id": "f2be65d4",
   "metadata": {},
   "outputs": [
    {
     "data": {
      "image/png": "[encoded data removed]",
      "text/plain": [
       "<Figure size 1080x144 with 1 Axes>"
      ]
     },
     "metadata": {
      "needs_background": "light"
     },
     "output_type": "display_data"
    },
    {
     "data": {
      "image/png": "[encoded data removed]",
      "text/plain": [
       "<Figure size 1080x144 with 1 Axes>"
      ]
     },
     "metadata": {
      "needs_background": "light"
     },
     "output_type": "display_data"
    }
   ],
   "source": [
    "plot_sample(x_train,y_train,0)\n",
    "plot_sample(x_train,y_train,1)"
   ]
  },
  {
   "cell_type": "code",
   "execution_count": 18,
   "id": "42c03b18",
   "metadata": {},
   "outputs": [],
   "source": [
    "x_train = x_train/255\n",
    "x_test =x_test/255"
   ]
  },
  {
   "cell_type": "code",
   "execution_count": 19,
   "id": "fda83cc3",
   "metadata": {},
   "outputs": [
    {
     "data": {
      "text/plain": [
       "array([[[0.23137255, 0.24313725, 0.24705882],\n",
       "        [0.16862745, 0.18039216, 0.17647059],\n",
       "        [0.19607843, 0.18823529, 0.16862745],\n",
       "        ...,\n",
       "        [0.61960784, 0.51764706, 0.42352941],\n",
       "        [0.59607843, 0.49019608, 0.4       ],\n",
       "        [0.58039216, 0.48627451, 0.40392157]],\n",
       "\n",
       "       [[0.0627451 , 0.07843137, 0.07843137],\n",
       "        [0.        , 0.        , 0.        ],\n",
       "        [0.07058824, 0.03137255, 0.        ],\n",
       "        ...,\n",
       "        [0.48235294, 0.34509804, 0.21568627],\n",
       "        [0.46666667, 0.3254902 , 0.19607843],\n",
       "        [0.47843137, 0.34117647, 0.22352941]],\n",
       "\n",
       "       [[0.09803922, 0.09411765, 0.08235294],\n",
       "        [0.0627451 , 0.02745098, 0.        ],\n",
       "        [0.19215686, 0.10588235, 0.03137255],\n",
       "        ...,\n",
       "        [0.4627451 , 0.32941176, 0.19607843],\n",
       "        [0.47058824, 0.32941176, 0.19607843],\n",
       "        [0.42745098, 0.28627451, 0.16470588]],\n",
       "\n",
       "       ...,\n",
       "\n",
       "       [[0.81568627, 0.66666667, 0.37647059],\n",
       "        [0.78823529, 0.6       , 0.13333333],\n",
       "        [0.77647059, 0.63137255, 0.10196078],\n",
       "        ...,\n",
       "        [0.62745098, 0.52156863, 0.2745098 ],\n",
       "        [0.21960784, 0.12156863, 0.02745098],\n",
       "        [0.20784314, 0.13333333, 0.07843137]],\n",
       "\n",
       "       [[0.70588235, 0.54509804, 0.37647059],\n",
       "        [0.67843137, 0.48235294, 0.16470588],\n",
       "        [0.72941176, 0.56470588, 0.11764706],\n",
       "        ...,\n",
       "        [0.72156863, 0.58039216, 0.36862745],\n",
       "        [0.38039216, 0.24313725, 0.13333333],\n",
       "        [0.3254902 , 0.20784314, 0.13333333]],\n",
       "\n",
       "       [[0.69411765, 0.56470588, 0.45490196],\n",
       "        [0.65882353, 0.50588235, 0.36862745],\n",
       "        [0.70196078, 0.55686275, 0.34117647],\n",
       "        ...,\n",
       "        [0.84705882, 0.72156863, 0.54901961],\n",
       "        [0.59215686, 0.4627451 , 0.32941176],\n",
       "        [0.48235294, 0.36078431, 0.28235294]]])"
      ]
     },
     "execution_count": 19,
     "metadata": {},
     "output_type": "execute_result"
    }
   ],
   "source": [
    "x_train[0]"
   ]
  },
  {
   "cell_type": "raw",
   "id": "640a16d8",
   "metadata": {},
   "source": [
    "categorical cross entropy is used on a one hot encoded values whereas\n",
    "sparse categorical cross entropy is used on a direct values "
   ]
  },
  {
   "cell_type": "code",
   "execution_count": 24,
   "id": "6a73601b",
   "metadata": {},
   "outputs": [
    {
     "name": "stdout",
     "output_type": "stream",
     "text": [
      "Epoch 1/5\n",
      "1563/1563 [==============================] - 93s 59ms/step - loss: 1.8123 - accuracy: 0.3518\n",
      "Epoch 2/5\n",
      "1563/1563 [==============================] - 93s 59ms/step - loss: 1.6235 - accuracy: 0.4284\n",
      "Epoch 3/5\n",
      "1563/1563 [==============================] - 85s 54ms/step - loss: 1.5397 - accuracy: 0.4585\n",
      "Epoch 4/5\n",
      "1563/1563 [==============================] - 88s 56ms/step - loss: 1.4831 - accuracy: 0.4792\n",
      "Epoch 5/5\n",
      "1563/1563 [==============================] - 85s 54ms/step - loss: 1.4302 - accuracy: 0.4960\n"
     ]
    },
    {
     "data": {
      "text/plain": [
       "<keras.callbacks.History at 0x224d7f219a0>"
      ]
     },
     "execution_count": 24,
     "metadata": {},
     "output_type": "execute_result"
    }
   ],
   "source": [
    "ann = models.Sequential([\n",
    "    layers.Flatten(input_shape=(32,32,3)),\n",
    "    layers.Dense(3000,activation='relu'),\n",
    "    layers.Dense(1000,activation='relu'),\n",
    "    layers.Dense(10,activation='sigmoid'),\n",
    "    \n",
    "])\n",
    "\n",
    "ann.compile(optimizer='SGD',\n",
    "             loss = 'sparse_categorical_crossentropy',\n",
    "             metrics=['accuracy'])\n",
    "ann.fit(x_train,y_train,epochs= 5)\n"
   ]
  },
  {
   "cell_type": "code",
   "execution_count": 27,
   "id": "a4f8ba5d",
   "metadata": {},
   "outputs": [
    {
     "name": "stdout",
     "output_type": "stream",
     "text": [
      "              precision    recall  f1-score   support\n",
      "\n",
      "           0       0.62      0.48      0.54      1000\n",
      "           1       0.63      0.57      0.60      1000\n",
      "           2       0.48      0.14      0.22      1000\n",
      "           3       0.36      0.19      0.25      1000\n",
      "           4       0.45      0.39      0.41      1000\n",
      "           5       0.39      0.43      0.41      1000\n",
      "           6       0.45      0.67      0.54      1000\n",
      "           7       0.45      0.65      0.53      1000\n",
      "           8       0.59      0.62      0.60      1000\n",
      "           9       0.44      0.69      0.54      1000\n",
      "\n",
      "    accuracy                           0.48     10000\n",
      "   macro avg       0.49      0.48      0.46     10000\n",
      "weighted avg       0.49      0.48      0.46     10000\n",
      "\n"
     ]
    }
   ],
   "source": [
    "from sklearn.metrics import confusion_matrix,classification_report\n",
    "yp = ann.predict(x_test)\n",
    "y_pred = [np.argmax(element) for element in yp]\n",
    "print(classification_report(y_test,y_pred))"
   ]
  },
  {
   "cell_type": "code",
   "execution_count": 31,
   "id": "0a4cc8a7",
   "metadata": {},
   "outputs": [
    {
     "name": "stdout",
     "output_type": "stream",
     "text": [
      "Epoch 1/10\n",
      "1563/1563 [==============================] - 26s 17ms/step - loss: 1.4991 - accuracy: 0.4675\n",
      "Epoch 2/10\n",
      "1563/1563 [==============================] - 25s 16ms/step - loss: 1.2043 - accuracy: 0.5775\n",
      "Epoch 3/10\n",
      "1563/1563 [==============================] - 23s 15ms/step - loss: 1.0947 - accuracy: 0.6193\n",
      "Epoch 4/10\n",
      "1563/1563 [==============================] - 23s 15ms/step - loss: 1.0236 - accuracy: 0.6440\n",
      "Epoch 5/10\n",
      "1563/1563 [==============================] - 23s 15ms/step - loss: 0.9668 - accuracy: 0.6654\n",
      "Epoch 6/10\n",
      "1563/1563 [==============================] - 23s 15ms/step - loss: 0.9136 - accuracy: 0.6828\n",
      "Epoch 7/10\n",
      "1563/1563 [==============================] - 24s 15ms/step - loss: 0.8642 - accuracy: 0.6996\n",
      "Epoch 8/10\n",
      "1563/1563 [==============================] - 26s 17ms/step - loss: 0.8242 - accuracy: 0.7146\n",
      "Epoch 9/10\n",
      "1563/1563 [==============================] - 26s 17ms/step - loss: 0.7859 - accuracy: 0.7272\n",
      "Epoch 10/10\n",
      "1563/1563 [==============================] - 25s 16ms/step - loss: 0.7479 - accuracy: 0.7402\n"
     ]
    },
    {
     "data": {
      "text/plain": [
       "<keras.callbacks.History at 0x224da26df10>"
      ]
     },
     "execution_count": 31,
     "metadata": {},
     "output_type": "execute_result"
    }
   ],
   "source": [
    "cnn1 = models.Sequential([\n",
    "    #cnn layer\n",
    "    layers.Conv2D(filters=32,kernel_size=(3,3), activation='relu', input_shape = (32,32,3)),\n",
    "    layers.MaxPooling2D((2,2)),\n",
    "    #dense layer\n",
    "    \n",
    "    layers.Flatten(),\n",
    "    layers.Dense(64,activation='relu'),\n",
    "    layers.Dense(10,activation='softmax'),\n",
    "    \n",
    "])\n",
    "\n",
    "cnn1.compile(optimizer='adam',\n",
    "             loss = 'sparse_categorical_crossentropy',\n",
    "             metrics=['accuracy'])\n",
    "cnn1.fit(x_train,y_train,epochs= 10)\n"
   ]
  },
  {
   "cell_type": "code",
   "execution_count": 32,
   "id": "d65a3a71",
   "metadata": {},
   "outputs": [
    {
     "name": "stdout",
     "output_type": "stream",
     "text": [
      "Epoch 1/10\n",
      "1563/1563 [==============================] - 33s 21ms/step - loss: 1.4871 - accuracy: 0.4667\n",
      "Epoch 2/10\n",
      "1563/1563 [==============================] - 33s 21ms/step - loss: 1.1409 - accuracy: 0.5988\n",
      "Epoch 3/10\n",
      "1563/1563 [==============================] - 32s 20ms/step - loss: 1.0172 - accuracy: 0.6455\n",
      "Epoch 4/10\n",
      "1563/1563 [==============================] - 32s 20ms/step - loss: 0.9425 - accuracy: 0.6723\n",
      "Epoch 5/10\n",
      "1563/1563 [==============================] - 32s 20ms/step - loss: 0.8762 - accuracy: 0.6943\n",
      "Epoch 6/10\n",
      "1563/1563 [==============================] - 32s 20ms/step - loss: 0.8281 - accuracy: 0.7108\n",
      "Epoch 7/10\n",
      "1563/1563 [==============================] - 31s 20ms/step - loss: 0.7918 - accuracy: 0.7231\n",
      "Epoch 8/10\n",
      "1563/1563 [==============================] - 31s 20ms/step - loss: 0.7491 - accuracy: 0.7380\n",
      "Epoch 9/10\n",
      "1563/1563 [==============================] - 31s 20ms/step - loss: 0.7117 - accuracy: 0.7503\n",
      "Epoch 10/10\n",
      "1563/1563 [==============================] - 32s 21ms/step - loss: 0.6854 - accuracy: 0.7594\n"
     ]
    },
    {
     "data": {
      "text/plain": [
       "<keras.callbacks.History at 0x224da35ca00>"
      ]
     },
     "execution_count": 32,
     "metadata": {},
     "output_type": "execute_result"
    }
   ],
   "source": [
    "cnn2 = models.Sequential([\n",
    "    #cnn layer\n",
    "    layers.Conv2D(filters=32,kernel_size=(3,3),activation='relu', input_shape = (32,32,3)),\n",
    "    layers.MaxPooling2D((2,2)),\n",
    "    layers.Conv2D(filters=32,kernel_size=(3,3),activation='relu', input_shape = (32,32,3)),\n",
    "    layers.MaxPooling2D((2,2)),\n",
    "    \n",
    "    #dense layer\n",
    "    \n",
    "    layers.Flatten(),\n",
    "    layers.Dense(64,activation='relu'),\n",
    "    layers.Dense(10,activation='softmax'),\n",
    "    \n",
    "])\n",
    "\n",
    "cnn2.compile(optimizer='adam',\n",
    "             loss = 'sparse_categorical_crossentropy',\n",
    "             metrics=['accuracy'])\n",
    "cnn2.fit(x_train,y_train,epochs= 10)\n"
   ]
  },
  {
   "cell_type": "code",
   "execution_count": 33,
   "id": "ee13238e",
   "metadata": {},
   "outputs": [
    {
     "name": "stdout",
     "output_type": "stream",
     "text": [
      "313/313 [==============================] - 2s 5ms/step - loss: 1.0953 - accuracy: 0.6379\n"
     ]
    },
    {
     "data": {
      "text/plain": [
       "[1.095288634300232, 0.6378999948501587]"
      ]
     },
     "execution_count": 33,
     "metadata": {},
     "output_type": "execute_result"
    }
   ],
   "source": [
    "cnn1.evaluate(x_test,y_test)"
   ]
  },
  {
   "cell_type": "code",
   "execution_count": 34,
   "id": "39f2187b",
   "metadata": {},
   "outputs": [
    {
     "name": "stdout",
     "output_type": "stream",
     "text": [
      "313/313 [==============================] - 2s 5ms/step - loss: 0.9610 - accuracy: 0.6807\n"
     ]
    },
    {
     "data": {
      "text/plain": [
       "[0.9610273241996765, 0.6807000041007996]"
      ]
     },
     "execution_count": 34,
     "metadata": {},
     "output_type": "execute_result"
    }
   ],
   "source": [
    "cnn2.evaluate(x_test,y_test)"
   ]
  },
  {
   "cell_type": "code",
   "execution_count": 37,
   "id": "47357adc",
   "metadata": {},
   "outputs": [
    {
     "data": {
      "image/png": "[encoded data removed]",
      "text/plain": [
       "<Figure size 1080x144 with 1 Axes>"
      ]
     },
     "metadata": {
      "needs_background": "light"
     },
     "output_type": "display_data"
    }
   ],
   "source": [
    "y_test = y_test.reshape(-1,)\n",
    "plot_sample(x_test,y_test,1)"
   ]
  },
  {
   "cell_type": "code",
   "execution_count": 38,
   "id": "508ea729",
   "metadata": {},
   "outputs": [
    {
     "data": {
      "text/plain": [
       "array([[6.99965167e-04, 5.86429487e-05, 7.51200481e-04, 9.02353644e-01,\n",
       "        1.51948968e-03, 9.70359799e-03, 4.26474214e-03, 6.68434586e-05,\n",
       "        8.00756514e-02, 5.06254612e-04],\n",
       "       [1.81890111e-02, 2.37972900e-01, 7.10285974e-07, 1.53318365e-06,\n",
       "        1.83110231e-07, 1.09673759e-09, 2.28332686e-09, 1.23619506e-08,\n",
       "        7.41755009e-01, 2.08059791e-03],\n",
       "       [4.85526830e-01, 1.51886374e-01, 5.13785100e-03, 6.48195669e-03,\n",
       "        8.79613683e-04, 1.38186340e-04, 2.95465834e-05, 2.99713179e-03,\n",
       "        2.81218439e-01, 6.57041222e-02],\n",
       "       [5.59247792e-01, 9.85381939e-03, 1.08956054e-01, 5.07848570e-03,\n",
       "        2.59423740e-02, 4.59400326e-05, 1.92788728e-02, 4.23472156e-05,\n",
       "        2.71195561e-01, 3.58770165e-04],\n",
       "       [7.68985046e-06, 1.19823271e-04, 3.04617863e-02, 1.83833748e-01,\n",
       "        3.31273168e-01, 5.99555112e-03, 4.48110014e-01, 2.93059329e-05,\n",
       "        1.54205438e-04, 1.46084503e-05]], dtype=float32)"
      ]
     },
     "execution_count": 38,
     "metadata": {},
     "output_type": "execute_result"
    }
   ],
   "source": [
    "yp = cnn1.predict(x_test)\n",
    "yp[:5]"
   ]
  },
  {
   "cell_type": "code",
   "execution_count": 40,
   "id": "d71b1b8e",
   "metadata": {},
   "outputs": [
    {
     "data": {
      "text/plain": [
       "1"
      ]
     },
     "execution_count": 40,
     "metadata": {},
     "output_type": "execute_result"
    }
   ],
   "source": [
    "#index of max element\n",
    "np.argmax([5,12,1,2])"
   ]
  },
  {
   "cell_type": "code",
   "execution_count": 46,
   "id": "aafa47ba",
   "metadata": {},
   "outputs": [
    {
     "data": {
      "text/plain": [
       "array([3, 8, 8, 0, 6], dtype=uint8)"
      ]
     },
     "execution_count": 46,
     "metadata": {},
     "output_type": "execute_result"
    }
   ],
   "source": [
    "np.argmax(yp[0])\n",
    "y_test[:5]"
   ]
  },
  {
   "cell_type": "code",
   "execution_count": 43,
   "id": "172d8688",
   "metadata": {},
   "outputs": [
    {
     "data": {
      "text/plain": [
       "[3, 8, 0, 0, 6]"
      ]
     },
     "execution_count": 43,
     "metadata": {},
     "output_type": "execute_result"
    }
   ],
   "source": [
    "y_pred = [np.argmax(element) for element in yp]\n",
    "y_pred[:5]"
   ]
  },
  {
   "cell_type": "code",
   "execution_count": 49,
   "id": "7e5e9599",
   "metadata": {},
   "outputs": [
    {
     "data": {
      "image/png": "[encoded data removed]",
      "text/plain": [
       "<Figure size 1080x144 with 1 Axes>"
      ]
     },
     "metadata": {
      "needs_background": "light"
     },
     "output_type": "display_data"
    }
   ],
   "source": [
    "plot_sample(x_test,y_test,2)"
   ]
  },
  {
   "cell_type": "code",
   "execution_count": 50,
   "id": "b292991a",
   "metadata": {},
   "outputs": [
    {
     "data": {
      "text/plain": [
       "'airplane'"
      ]
     },
     "execution_count": 50,
     "metadata": {},
     "output_type": "execute_result"
    }
   ],
   "source": [
    "cls[y_pred[2]]"
   ]
  },
  {
   "cell_type": "code",
   "execution_count": 51,
   "id": "4ae9caac",
   "metadata": {},
   "outputs": [
    {
     "name": "stdout",
     "output_type": "stream",
     "text": [
      "              precision    recall  f1-score   support\n",
      "\n",
      "           0       0.69      0.66      0.67      1000\n",
      "           1       0.73      0.78      0.75      1000\n",
      "           2       0.47      0.56      0.51      1000\n",
      "           3       0.48      0.43      0.45      1000\n",
      "           4       0.55      0.61      0.57      1000\n",
      "           5       0.61      0.48      0.54      1000\n",
      "           6       0.71      0.71      0.71      1000\n",
      "           7       0.64      0.79      0.70      1000\n",
      "           8       0.78      0.73      0.75      1000\n",
      "           9       0.78      0.64      0.70      1000\n",
      "\n",
      "    accuracy                           0.64     10000\n",
      "   macro avg       0.64      0.64      0.64     10000\n",
      "weighted avg       0.64      0.64      0.64     10000\n",
      "\n"
     ]
    }
   ],
   "source": [
    "from sklearn.metrics import confusion_matrix,classification_report\n",
    "yp = cnn1.predict(x_test)\n",
    "y_pred = [np.argmax(element) for element in yp]\n",
    "print(classification_report(y_test,y_pred))"
   ]
  },
  {
   "cell_type": "code",
   "execution_count": 52,
   "id": "22f1ef80",
   "metadata": {},
   "outputs": [
    {
     "name": "stdout",
     "output_type": "stream",
     "text": [
      "              precision    recall  f1-score   support\n",
      "\n",
      "           0       0.69      0.77      0.72      1000\n",
      "           1       0.79      0.82      0.81      1000\n",
      "           2       0.60      0.51      0.55      1000\n",
      "           3       0.54      0.46      0.49      1000\n",
      "           4       0.56      0.71      0.63      1000\n",
      "           5       0.66      0.47      0.55      1000\n",
      "           6       0.64      0.86      0.73      1000\n",
      "           7       0.81      0.65      0.72      1000\n",
      "           8       0.75      0.85      0.80      1000\n",
      "           9       0.79      0.74      0.76      1000\n",
      "\n",
      "    accuracy                           0.68     10000\n",
      "   macro avg       0.68      0.68      0.68     10000\n",
      "weighted avg       0.68      0.68      0.68     10000\n",
      "\n"
     ]
    }
   ],
   "source": [
    "from sklearn.metrics import confusion_matrix,classification_report\n",
    "yp = cnn2.predict(x_test)\n",
    "y_pred = [np.argmax(element) for element in yp]\n",
    "print(classification_report(y_test,y_pred))"
   ]
  },
  {
   "cell_type": "code",
   "execution_count": null,
   "id": "bf2cb17a",
   "metadata": {},
   "outputs": [],
   "source": []
  },
  {
   "cell_type": "code",
   "execution_count": null,
   "id": "48daaf43",
   "metadata": {},
   "outputs": [],
   "source": []
  },
  {
   "cell_type": "code",
   "execution_count": null,
   "id": "f643bcd7",
   "metadata": {},
   "outputs": [],
   "source": []
  },
  {
   "cell_type": "code",
   "execution_count": null,
   "id": "0d75daa6",
   "metadata": {},
   "outputs": [],
   "source": []
  },
  {
   "cell_type": "code",
   "execution_count": null,
   "id": "79796ecd",
   "metadata": {},
   "outputs": [],
   "source": []
  },
  {
   "cell_type": "code",
   "execution_count": null,
   "id": "ca41eeea",
   "metadata": {},
   "outputs": [],
   "source": []
  },
  {
   "cell_type": "code",
   "execution_count": null,
   "id": "db87a98c",
   "metadata": {},
   "outputs": [],
   "source": []
  },
  {
   "cell_type": "code",
   "execution_count": null,
   "id": "0282cea5",
   "metadata": {},
   "outputs": [],
   "source": []
  },
  {
   "cell_type": "code",
   "execution_count": null,
   "id": "6568d693",
   "metadata": {},
   "outputs": [],
   "source": []
  },
  {
   "cell_type": "code",
   "execution_count": null,
   "id": "0702fd0d",
   "metadata": {},
   "outputs": [],
   "source": []
  },
  {
   "cell_type": "code",
   "execution_count": null,
   "id": "57abb643",
   "metadata": {},
   "outputs": [],
   "source": []
  },
  {
   "cell_type": "code",
   "execution_count": null,
   "id": "05a0e94f",
   "metadata": {},
   "outputs": [],
   "source": []
  },
  {
   "cell_type": "code",
   "execution_count": null,
   "id": "35e84b8d",
   "metadata": {},
   "outputs": [],
   "source": []
  },
  {
   "cell_type": "code",
   "execution_count": null,
   "id": "d4b9d821",
   "metadata": {},
   "outputs": [],
   "source": []
  },
  {
   "cell_type": "code",
   "execution_count": null,
   "id": "7dd06b4c",
   "metadata": {},
   "outputs": [],
   "source": []
  },
  {
   "cell_type": "code",
   "execution_count": null,
   "id": "028868c6",
   "metadata": {},
   "outputs": [],
   "source": []
  },
  {
   "cell_type": "code",
   "execution_count": null,
   "id": "163e8212",
   "metadata": {},
   "outputs": [],
   "source": []
  },
  {
   "cell_type": "code",
   "execution_count": null,
   "id": "0c993fd0",
   "metadata": {},
   "outputs": [],
   "source": []
  },
  {
   "cell_type": "code",
   "execution_count": null,
   "id": "684a07cd",
   "metadata": {},
   "outputs": [],
   "source": []
  },
  {
   "cell_type": "code",
   "execution_count": null,
   "id": "87a27372",
   "metadata": {},
   "outputs": [],
   "source": []
  },
  {
   "cell_type": "code",
   "execution_count": null,
   "id": "6e09f1c0",
   "metadata": {},
   "outputs": [],
   "source": []
  },
  {
   "cell_type": "code",
   "execution_count": null,
   "id": "9204cade",
   "metadata": {},
   "outputs": [],
   "source": []
  },
  {
   "cell_type": "code",
   "execution_count": null,
   "id": "3cb3f798",
   "metadata": {},
   "outputs": [],
   "source": []
  },
  {
   "cell_type": "code",
   "execution_count": null,
   "id": "b952c364",
   "metadata": {},
   "outputs": [],
   "source": []
  },
  {
   "cell_type": "code",
   "execution_count": null,
   "id": "6816451f",
   "metadata": {},
   "outputs": [],
   "source": []
  },
  {
   "cell_type": "code",
   "execution_count": null,
   "id": "b3d31c55",
   "metadata": {},
   "outputs": [],
   "source": []
  },
  {
   "cell_type": "code",
   "execution_count": null,
   "id": "c920580d",
   "metadata": {},
   "outputs": [],
   "source": []
  },
  {
   "cell_type": "code",
   "execution_count": null,
   "id": "c42071ed",
   "metadata": {},
   "outputs": [],
   "source": []
  },
  {
   "cell_type": "code",
   "execution_count": null,
   "id": "8ce6d9f0",
   "metadata": {},
   "outputs": [],
   "source": []
  }
 ],
 "metadata": {
  "kernelspec": {
   "display_name": "Python 3 (ipykernel)",
   "language": "python",
   "name": "python3"
  },
  "language_info": {
   "codemirror_mode": {
    "name": "ipython",
    "version": 3
   },
   "file_extension": ".py",
   "mimetype": "text/x-python",
   "name": "python",
   "nbconvert_exporter": "python",
   "pygments_lexer": "ipython3",
   "version": "3.9.6"
  }
 },
 "nbformat": 4,
 "nbformat_minor": 5
}
