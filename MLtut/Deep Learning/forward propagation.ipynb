{
 "cells": [
  {
   "cell_type": "code",
   "execution_count": 1,
   "id": "476af3a8",
   "metadata": {},
   "outputs": [],
   "source": [
    "import numpy as np\n"
   ]
  },
  {
   "cell_type": "code",
   "execution_count": 2,
   "id": "33efb82c",
   "metadata": {},
   "outputs": [],
   "source": [
    "x = np.array([[0,0],[0,1],[1,0],[1,1]])\n",
    "y = np.array([0,0,0,1])"
   ]
  },
  {
   "cell_type": "raw",
   "id": "5d98d7e2",
   "metadata": {},
   "source": [
    "     -- --\n",
    "x =  |0 0|     y = 0\n",
    "     |0 1|         0\n",
    "     |1 0|         0\n",
    "     |1 1|         1\n",
    "     -- --"
   ]
  },
  {
   "cell_type": "code",
   "execution_count": 6,
   "id": "3710c013",
   "metadata": {},
   "outputs": [
    {
     "data": {
      "text/plain": [
       "((4, 2), (4, 1))"
      ]
     },
     "execution_count": 6,
     "metadata": {},
     "output_type": "execute_result"
    }
   ],
   "source": [
    "\n",
    "x.shape,y.shape"
   ]
  },
  {
   "cell_type": "code",
   "execution_count": 7,
   "id": "8ddc8ce0",
   "metadata": {},
   "outputs": [
    {
     "data": {
      "text/plain": [
       "(4, 1)"
      ]
     },
     "execution_count": 7,
     "metadata": {},
     "output_type": "execute_result"
    }
   ],
   "source": [
    "y = np.array([[0,0,0,1]]).T\n",
    "y.shape"
   ]
  },
  {
   "cell_type": "code",
   "execution_count": null,
   "id": "b7ed22d7",
   "metadata": {},
   "outputs": [],
   "source": [
    "def sig(z):\n",
    "    return (1/1+np.exp(-z))\n"
   ]
  },
  {
   "cell_type": "code",
   "execution_count": 1,
   "id": "9967f7c8",
   "metadata": {},
   "outputs": [],
   "source": [
    "def dersig(z):\n",
    "    return sig(z)*(1-sig(z))\n"
   ]
  },
  {
   "cell_type": "raw",
   "id": "5a363b1e",
   "metadata": {},
   "source": [
    "weights = w1  shud be in the range -1 to 1\n",
    "          w2\n",
    "          \n",
    "weights = np.random.random((2, 1))\n",
    "weights\n",
    "\n",
    "array([[0.28235823],\n",
    "       [0.48552187]])"
   ]
  },
  {
   "cell_type": "code",
   "execution_count": 14,
   "id": "d79b6dbc",
   "metadata": {},
   "outputs": [
    {
     "data": {
      "text/plain": [
       "(array([[-0.68548948],\n",
       "        [-0.58216482]]),\n",
       " array([0.4637351]))"
      ]
     },
     "execution_count": 14,
     "metadata": {},
     "output_type": "execute_result"
    }
   ],
   "source": [
    "#NO hidden layer weights\n",
    "weights = 2 * np.random.random((2, 1)) -1\n",
    "bias = 2  * np.random.random(1) -1\n",
    "weights, bias"
   ]
  },
  {
   "cell_type": "code",
   "execution_count": 15,
   "id": "a34f0cb1",
   "metadata": {},
   "outputs": [
    {
     "data": {
      "text/plain": [
       "array([[1.62893013],\n",
       "       [2.12572775],\n",
       "       [2.24826473],\n",
       "       [3.23428036]])"
      ]
     },
     "execution_count": 15,
     "metadata": {},
     "output_type": "execute_result"
    }
   ],
   "source": [
    "#Forward propagation without any hidden layer\n",
    "out0 = x\n",
    "out = sig(np.dot(out0, weights)+bias)\n",
    "out"
   ]
  },
  {
   "cell_type": "code",
   "execution_count": 27,
   "id": "8b6affb3",
   "metadata": {},
   "outputs": [],
   "source": [
    "#With hidden layer weights\n",
    "wh = 2 * np.random.random((2, 2)) -1\n",
    "bh = 2  * np.random.random((1,2)) -1\n",
    "wo = 2 * np.random.random((2, 1)) -1\n",
    "bo = 2  * np.random.random((1,1)) -1"
   ]
  },
  {
   "cell_type": "code",
   "execution_count": 28,
   "id": "dc5c92cb",
   "metadata": {},
   "outputs": [
    {
     "data": {
      "text/plain": [
       "array([[1.14332438],\n",
       "       [1.33412175],\n",
       "       [1.01597169],\n",
       "       [1.0949667 ]])"
      ]
     },
     "execution_count": 28,
     "metadata": {},
     "output_type": "execute_result"
    }
   ],
   "source": [
    "out0 = x\n",
    "outh = sig(np.dot(out0, wh)+bh)\n",
    "out = sig(np.dot(outh, wo)+bo)\n",
    "out"
   ]
  },
  {
   "cell_type": "code",
   "execution_count": null,
   "id": "d34796f3",
   "metadata": {},
   "outputs": [],
   "source": []
  },
  {
   "cell_type": "code",
   "execution_count": null,
   "id": "0fd2d473",
   "metadata": {},
   "outputs": [],
   "source": []
  },
  {
   "cell_type": "code",
   "execution_count": null,
   "id": "d80315eb",
   "metadata": {},
   "outputs": [],
   "source": []
  },
  {
   "cell_type": "code",
   "execution_count": null,
   "id": "3199d474",
   "metadata": {},
   "outputs": [],
   "source": []
  },
  {
   "cell_type": "code",
   "execution_count": null,
   "id": "335de381",
   "metadata": {},
   "outputs": [],
   "source": []
  },
  {
   "cell_type": "code",
   "execution_count": null,
   "id": "21366540",
   "metadata": {},
   "outputs": [],
   "source": []
  },
  {
   "cell_type": "code",
   "execution_count": null,
   "id": "2e094539",
   "metadata": {},
   "outputs": [],
   "source": []
  },
  {
   "cell_type": "code",
   "execution_count": null,
   "id": "21d302bb",
   "metadata": {},
   "outputs": [],
   "source": []
  },
  {
   "cell_type": "code",
   "execution_count": null,
   "id": "16f24f93",
   "metadata": {},
   "outputs": [],
   "source": []
  },
  {
   "cell_type": "code",
   "execution_count": null,
   "id": "9d28abf1",
   "metadata": {},
   "outputs": [],
   "source": []
  },
  {
   "cell_type": "code",
   "execution_count": null,
   "id": "374db4fb",
   "metadata": {},
   "outputs": [],
   "source": []
  },
  {
   "cell_type": "code",
   "execution_count": null,
   "id": "0c3b4e68",
   "metadata": {},
   "outputs": [],
   "source": []
  },
  {
   "cell_type": "code",
   "execution_count": null,
   "id": "349bc51e",
   "metadata": {},
   "outputs": [],
   "source": []
  },
  {
   "cell_type": "code",
   "execution_count": null,
   "id": "0f946ff3",
   "metadata": {},
   "outputs": [],
   "source": []
  },
  {
   "cell_type": "code",
   "execution_count": null,
   "id": "26f02ed6",
   "metadata": {},
   "outputs": [],
   "source": []
  },
  {
   "cell_type": "code",
   "execution_count": null,
   "id": "db0871e2",
   "metadata": {},
   "outputs": [],
   "source": []
  },
  {
   "cell_type": "code",
   "execution_count": null,
   "id": "2fd71e8b",
   "metadata": {},
   "outputs": [],
   "source": []
  }
 ],
 "metadata": {
  "kernelspec": {
   "display_name": "Python 3 (ipykernel)",
   "language": "python",
   "name": "python3"
  },
  "language_info": {
   "codemirror_mode": {
    "name": "ipython",
    "version": 3
   },
   "file_extension": ".py",
   "mimetype": "text/x-python",
   "name": "python",
   "nbconvert_exporter": "python",
   "pygments_lexer": "ipython3",
   "version": "3.9.6"
  }
 },
 "nbformat": 4,
 "nbformat_minor": 5
}
