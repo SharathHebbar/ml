{
 "cells": [
  {
   "cell_type": "code",
   "execution_count": 33,
   "id": "f0953244",
   "metadata": {},
   "outputs": [],
   "source": [
    "import pandas as pd\n",
    "import numpy as np"
   ]
  },
  {
   "cell_type": "code",
   "execution_count": 37,
   "id": "c51286b6",
   "metadata": {},
   "outputs": [],
   "source": [
    "data = np.loadtxt('data.csv', delimiter= ',')\n",
    "x = data[:,0]\n",
    "y = data[:,1]"
   ]
  },
  {
   "cell_type": "code",
   "execution_count": 38,
   "id": "6316872e",
   "metadata": {},
   "outputs": [
    {
     "data": {
      "text/plain": [
       "((100,), (100,))"
      ]
     },
     "execution_count": 38,
     "metadata": {},
     "output_type": "execute_result"
    }
   ],
   "source": [
    "\n",
    "x.shape,y.shape"
   ]
  },
  {
   "cell_type": "code",
   "execution_count": 39,
   "id": "04f25795",
   "metadata": {},
   "outputs": [],
   "source": [
    "from sklearn.model_selection import train_test_split\n",
    "x_train,x_test,y_train,y_test = train_test_split(x,y)"
   ]
  },
  {
   "cell_type": "markdown",
   "id": "6c51a249",
   "metadata": {},
   "source": [
    "## Building from scratch"
   ]
  },
  {
   "cell_type": "code",
   "execution_count": 40,
   "id": "b8708fca",
   "metadata": {},
   "outputs": [],
   "source": [
    "def fit(x_train,y_train):\n",
    "    n = (x_train * y_train).mean() - x_train.mean()*y_train.mean()\n",
    "    d = (x_train**2).mean() - x_train.mean()**2\n",
    "    m = n/d\n",
    "    c = y_train.mean() - m*x_train.mean()\n",
    "    return m,c"
   ]
  },
  {
   "cell_type": "code",
   "execution_count": 41,
   "id": "9c04fd28",
   "metadata": {},
   "outputs": [],
   "source": [
    "def  predict(x_test,m,c):\n",
    "    return m*x_test+c"
   ]
  },
  {
   "cell_type": "code",
   "execution_count": 42,
   "id": "45147f31",
   "metadata": {},
   "outputs": [],
   "source": [
    "def score(y_test,y_pred):\n",
    "    u = ((y_test-y_pred)**2).sum()\n",
    "    v = ((y_test-y_test.mean())**2).sum()\n",
    "    return 1-u/v"
   ]
  },
  {
   "cell_type": "code",
   "execution_count": 43,
   "id": "8d0cd2ec",
   "metadata": {},
   "outputs": [],
   "source": [
    "def cost(x,y,m,c):\n",
    "    return ((y-(m*x+c))**2).mean()"
   ]
  },
  {
   "cell_type": "code",
   "execution_count": 44,
   "id": "11f69d49",
   "metadata": {},
   "outputs": [
    {
     "name": "stdout",
     "output_type": "stream",
     "text": [
      "Test score 0.6761939793501169\n",
      "Train score 0.5313545369839303\n",
      "M and C 1.216725982581037 12.657621995322927\n",
      "Cost on training data 116.09361983388546\n"
     ]
    }
   ],
   "source": [
    "m,c = fit(x_train,y_train)\n",
    "#testing data\n",
    "y_pred = predict(x_test,m,c)\n",
    "print(\"Test score\",score(y_test,y_pred))\n",
    "\n",
    "#training data\n",
    "y_train_pred = predict(x_train,m,c)\n",
    "print(\"Train score\",score(y_train,y_train_pred))\n",
    "print(\"M and C\",m,c )\n",
    "print(\"Cost on training data\",cost(x_train,y_train,m,c))"
   ]
  }
 ],
 "metadata": {
  "kernelspec": {
   "display_name": "Python 3 (ipykernel)",
   "language": "python",
   "name": "python3"
  },
  "language_info": {
   "codemirror_mode": {
    "name": "ipython",
    "version": 3
   },
   "file_extension": ".py",
   "mimetype": "text/x-python",
   "name": "python",
   "nbconvert_exporter": "python",
   "pygments_lexer": "ipython3",
   "version": "3.9.6"
  }
 },
 "nbformat": 4,
 "nbformat_minor": 5
}
