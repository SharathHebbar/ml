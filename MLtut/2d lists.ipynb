{
 "cells": [
  {
   "cell_type": "markdown",
   "id": "dbcce837",
   "metadata": {},
   "source": [
    "## 2D lists"
   ]
  },
  {
   "cell_type": "code",
   "execution_count": 1,
   "id": "0693d106",
   "metadata": {},
   "outputs": [
    {
     "data": {
      "text/plain": [
       "[[1, 2, 3], [4, 5, 6]]"
      ]
     },
     "execution_count": 1,
     "metadata": {},
     "output_type": "execute_result"
    }
   ],
   "source": [
    "l = [[1,2,3],[4,5,6]]\n",
    "l"
   ]
  },
  {
   "cell_type": "code",
   "execution_count": null,
   "id": "66a0ee40",
   "metadata": {},
   "outputs": [],
   "source": []
  },
  {
   "cell_type": "code",
   "execution_count": 2,
   "id": "8bd0a50c",
   "metadata": {},
   "outputs": [
    {
     "data": {
      "text/plain": [
       "[[1, 2], [2, 3, 4], [5]]"
      ]
     },
     "execution_count": 2,
     "metadata": {},
     "output_type": "execute_result"
    }
   ],
   "source": [
    "l1 = [[1,2],[2,3,4],[5]]\n",
    "l1"
   ]
  },
  {
   "cell_type": "code",
   "execution_count": 3,
   "id": "0e85e44c",
   "metadata": {},
   "outputs": [],
   "source": [
    "#l1[0][3]\n",
    "#error"
   ]
  },
  {
   "cell_type": "code",
   "execution_count": 4,
   "id": "a8c6aed8",
   "metadata": {},
   "outputs": [
    {
     "data": {
      "text/plain": [
       "[0, 1, 2, 3, 4, 5]"
      ]
     },
     "execution_count": 4,
     "metadata": {},
     "output_type": "execute_result"
    }
   ],
   "source": [
    "l1d = [x for x in range(6)]\n",
    "l1d"
   ]
  },
  {
   "cell_type": "code",
   "execution_count": 5,
   "id": "5d8faf3f",
   "metadata": {},
   "outputs": [
    {
     "data": {
      "text/plain": [
       "[[0, 0], [1, 2], [2, 4], [3, 6], [4, 8], [5, 10]]"
      ]
     },
     "execution_count": 5,
     "metadata": {},
     "output_type": "execute_result"
    }
   ],
   "source": [
    "l2d = [[x,x*2] for x in range(6)]\n",
    "l2d"
   ]
  },
  {
   "cell_type": "code",
   "execution_count": 6,
   "id": "0b76c2da",
   "metadata": {},
   "outputs": [
    {
     "data": {
      "text/plain": [
       "[[0, 1, 2, 3, 4, 5],\n",
       " [0, 1, 2, 3, 4, 5],\n",
       " [0, 1, 2, 3, 4, 5],\n",
       " [0, 1, 2, 3, 4, 5],\n",
       " [0, 1, 2, 3, 4, 5],\n",
       " [0, 1, 2, 3, 4, 5]]"
      ]
     },
     "execution_count": 6,
     "metadata": {},
     "output_type": "execute_result"
    }
   ],
   "source": [
    "l2d1 = [[j for j in range(6)] for i in range(6)]\n",
    "l2d1"
   ]
  },
  {
   "cell_type": "code",
   "execution_count": 7,
   "id": "d7372f89",
   "metadata": {},
   "outputs": [
    {
     "data": {
      "text/plain": [
       "[[], [0], [0, 1], [0, 1, 2], [0, 1, 2, 3], [0, 1, 2, 3, 4]]"
      ]
     },
     "execution_count": 7,
     "metadata": {},
     "output_type": "execute_result"
    }
   ],
   "source": [
    "l2d1 = [[j for j in range(i)] for i in range(6)]\n",
    "l2d1"
   ]
  },
  {
   "cell_type": "code",
   "execution_count": 8,
   "id": "08ee37e4",
   "metadata": {},
   "outputs": [
    {
     "data": {
      "text/plain": [
       "[[0, 1, 2, 3, 4, 5],\n",
       " [1, 2, 3, 4, 5, 6],\n",
       " [2, 3, 4, 5, 6, 7],\n",
       " [3, 4, 5, 6, 7, 8],\n",
       " [4, 5, 6, 7, 8, 9],\n",
       " [5, 6, 7, 8, 9, 10]]"
      ]
     },
     "execution_count": 8,
     "metadata": {},
     "output_type": "execute_result"
    }
   ],
   "source": [
    "l2d1 = [[j+i for j in range(6)] for i in range(6)]\n",
    "l2d1"
   ]
  },
  {
   "cell_type": "markdown",
   "id": "92b68682",
   "metadata": {},
   "source": [
    "## Input 2d array"
   ]
  },
  {
   "cell_type": "markdown",
   "id": "4f47db14",
   "metadata": {},
   "source": [
    "#### 1 2 3\n",
    "#### 4 5 6\n",
    "#### 7 8 9"
   ]
  },
  {
   "cell_type": "code",
   "execution_count": 9,
   "id": "05e38483",
   "metadata": {},
   "outputs": [
    {
     "name": "stdout",
     "output_type": "stream",
     "text": [
      "2 3\n",
      "1 2 3 4 5 6\n"
     ]
    },
    {
     "data": {
      "text/plain": [
       "[[1, 2, 3], [4, 5, 6]]"
      ]
     },
     "execution_count": 9,
     "metadata": {},
     "output_type": "execute_result"
    }
   ],
   "source": [
    "s = input().strip().split(\" \")\n",
    "r = int(s[0])\n",
    "c = int(s[1])\n",
    "l = [int(i) for i in input().strip().split()]\n",
    "out = []\n",
    "for i in range(r):\n",
    "    out.append([])\n",
    "    for j in range(c):\n",
    "        out[i].append(l[i*c+j])\n",
    "out"
   ]
  },
  {
   "cell_type": "code",
   "execution_count": 12,
   "id": "53a8fc20",
   "metadata": {},
   "outputs": [
    {
     "data": {
      "text/plain": [
       "[[1, 2, 3], [4, 5, 6]]"
      ]
     },
     "execution_count": 12,
     "metadata": {},
     "output_type": "execute_result"
    }
   ],
   "source": [
    "out2 = [[l[i*c+j] for j in range(c) ] for i in range(r)]\n",
    "out2"
   ]
  },
  {
   "cell_type": "code",
   "execution_count": null,
   "id": "45292e8e",
   "metadata": {},
   "outputs": [],
   "source": []
  },
  {
   "cell_type": "markdown",
   "id": "91d4a6ce",
   "metadata": {},
   "source": [
    "# wave print"
   ]
  },
  {
   "cell_type": "code",
   "execution_count": 13,
   "id": "ec765352",
   "metadata": {},
   "outputs": [],
   "source": [
    "l = [\n",
    "    [1,2,3],\n",
    "    [4,5,6],\n",
    "    [7,8,9]\n",
    "]"
   ]
  },
  {
   "cell_type": "code",
   "execution_count": 14,
   "id": "886f1f5a",
   "metadata": {},
   "outputs": [
    {
     "data": {
      "text/plain": [
       "[[1, 2, 3], [4, 5, 6], [7, 8, 9]]"
      ]
     },
     "execution_count": 14,
     "metadata": {},
     "output_type": "execute_result"
    }
   ],
   "source": [
    "l"
   ]
  },
  {
   "cell_type": "code",
   "execution_count": 15,
   "id": "8073fe8a",
   "metadata": {},
   "outputs": [],
   "source": [
    "r,c = 3,3"
   ]
  },
  {
   "cell_type": "code",
   "execution_count": 20,
   "id": "aba9e927",
   "metadata": {},
   "outputs": [
    {
     "name": "stdout",
     "output_type": "stream",
     "text": [
      "1 4 7 \n",
      "8 5 2 \n",
      "3 6 9 \n"
     ]
    }
   ],
   "source": [
    "for j in range(c):\n",
    "    if j %2 == 0:\n",
    "        for i in range(r):\n",
    "            print(l[i][j], end = \" \")\n",
    "        print()\n",
    "    else:\n",
    "        for i in range(r-1,-1,-1):\n",
    "            print(l[i][j], end = \" \")\n",
    "        print()"
   ]
  },
  {
   "cell_type": "code",
   "execution_count": null,
   "id": "101b311d",
   "metadata": {},
   "outputs": [],
   "source": []
  },
  {
   "cell_type": "code",
   "execution_count": null,
   "id": "ae35ea68",
   "metadata": {},
   "outputs": [],
   "source": []
  }
 ],
 "metadata": {
  "kernelspec": {
   "display_name": "Python 3 (ipykernel)",
   "language": "python",
   "name": "python3"
  },
  "language_info": {
   "codemirror_mode": {
    "name": "ipython",
    "version": 3
   },
   "file_extension": ".py",
   "mimetype": "text/x-python",
   "name": "python",
   "nbconvert_exporter": "python",
   "pygments_lexer": "ipython3",
   "version": "3.9.6"
  }
 },
 "nbformat": 4,
 "nbformat_minor": 5
}
