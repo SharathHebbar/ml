{
 "cells": [
  {
   "cell_type": "markdown",
   "id": "5182eef1",
   "metadata": {},
   "source": [
    "## creating lists"
   ]
  },
  {
   "cell_type": "code",
   "execution_count": 22,
   "id": "f2f8ddf5",
   "metadata": {},
   "outputs": [
    {
     "name": "stdout",
     "output_type": "stream",
     "text": [
      "[1, 2, 3]\n",
      "[]\n",
      "[1, 2, 3]\n",
      "[0, 1, 2, 3, 4, 5, 6, 7, 8, 9]\n",
      "[0, 1, 4, 9, 16, 25, 36, 49, 64, 81]\n",
      "[1, True, 'hello', 3.14]\n"
     ]
    }
   ],
   "source": [
    "a1 = [1,2,3]\n",
    "print(a1)\n",
    "\n",
    "a2 = list()\n",
    "print(a2)\n",
    "\n",
    "a3 = list(a1)\n",
    "print(a3)\n",
    "\n",
    "a4 = [i for i in range(0,10)]\n",
    "print(a4)\n",
    "\n",
    "a5 = [i*i for i in range(0,10)]\n",
    "print(a5)\n",
    "\n",
    "a6 = [1,True,\"hello\",3.14]\n",
    "print(a6)"
   ]
  },
  {
   "cell_type": "markdown",
   "id": "692e60ca",
   "metadata": {},
   "source": [
    "## Accessing data"
   ]
  },
  {
   "cell_type": "code",
   "execution_count": 23,
   "id": "b93b9396",
   "metadata": {},
   "outputs": [
    {
     "name": "stdout",
     "output_type": "stream",
     "text": [
      "1\n",
      "81\n"
     ]
    }
   ],
   "source": [
    "print(a5[1])\n",
    "print(a5[-1])"
   ]
  },
  {
   "cell_type": "markdown",
   "id": "e1d90307",
   "metadata": {},
   "source": [
    "## Slicing "
   ]
  },
  {
   "cell_type": "code",
   "execution_count": 24,
   "id": "cffa7c93",
   "metadata": {},
   "outputs": [
    {
     "name": "stdout",
     "output_type": "stream",
     "text": [
      "[4, 9, 16, 25, 36, 49, 64, 81]\n",
      "[4, 9]\n"
     ]
    },
    {
     "data": {
      "text/plain": [
       "10"
      ]
     },
     "execution_count": 24,
     "metadata": {},
     "output_type": "execute_result"
    }
   ],
   "source": [
    "print(a5[2:])\n",
    "print(a5[2:4])\n",
    "len(a5)\n"
   ]
  },
  {
   "cell_type": "markdown",
   "id": "73bdc1c6",
   "metadata": {},
   "source": [
    "## iteration"
   ]
  },
  {
   "cell_type": "code",
   "execution_count": 25,
   "id": "b49ba002",
   "metadata": {},
   "outputs": [
    {
     "name": "stdout",
     "output_type": "stream",
     "text": [
      "0\n",
      "1\n",
      "4\n",
      "9\n",
      "16\n",
      "25\n",
      "36\n",
      "49\n",
      "64\n",
      "81\n"
     ]
    }
   ],
   "source": [
    "for i in a5:\n",
    "    print(i)"
   ]
  },
  {
   "cell_type": "markdown",
   "id": "d0a51ef0",
   "metadata": {},
   "source": [
    "## input from user "
   ]
  },
  {
   "cell_type": "markdown",
   "id": "2cdeb4b2",
   "metadata": {},
   "source": [
    "### input data = 1 2 3 4 5 5"
   ]
  },
  {
   "cell_type": "code",
   "execution_count": 26,
   "id": "e868d18f",
   "metadata": {},
   "outputs": [
    {
     "name": "stdout",
     "output_type": "stream",
     "text": [
      "1 2 3\n"
     ]
    },
    {
     "data": {
      "text/plain": [
       "'1 2 3'"
      ]
     },
     "execution_count": 26,
     "metadata": {},
     "output_type": "execute_result"
    }
   ],
   "source": [
    "inp = input()\n",
    "inp"
   ]
  },
  {
   "cell_type": "markdown",
   "id": "21faf2f0",
   "metadata": {},
   "source": [
    "### convert it to list"
   ]
  },
  {
   "cell_type": "markdown",
   "id": "f764c2f4",
   "metadata": {},
   "source": [
    "### method1 map "
   ]
  },
  {
   "cell_type": "code",
   "execution_count": 27,
   "id": "a319838a",
   "metadata": {},
   "outputs": [
    {
     "name": "stdout",
     "output_type": "stream",
     "text": [
      "1 2 3\n"
     ]
    },
    {
     "data": {
      "text/plain": [
       "[1, 2, 3]"
      ]
     },
     "execution_count": 27,
     "metadata": {},
     "output_type": "execute_result"
    }
   ],
   "source": [
    "inp =input().split(' ')\n",
    "inp = list(map(int,inp))\n",
    "inp"
   ]
  },
  {
   "cell_type": "markdown",
   "id": "72a207e3",
   "metadata": {},
   "source": [
    "### method2 loop"
   ]
  },
  {
   "cell_type": "code",
   "execution_count": 28,
   "id": "595d0be4",
   "metadata": {},
   "outputs": [
    {
     "name": "stdout",
     "output_type": "stream",
     "text": [
      "1 2 3\n",
      "[1, 2, 3]\n"
     ]
    }
   ],
   "source": [
    "inp =input().split(' ')\n",
    "l = list()\n",
    "for i in range(len(inp)):\n",
    "    l.append(int(inp[i]))\n",
    "print(l)\n",
    "    "
   ]
  },
  {
   "cell_type": "markdown",
   "id": "cc59c886",
   "metadata": {},
   "source": [
    "### method3 list comp"
   ]
  },
  {
   "cell_type": "code",
   "execution_count": 29,
   "id": "52865dcf",
   "metadata": {},
   "outputs": [
    {
     "name": "stdout",
     "output_type": "stream",
     "text": [
      "1 2 3\n"
     ]
    },
    {
     "data": {
      "text/plain": [
       "[1, 2, 3]"
      ]
     },
     "execution_count": 29,
     "metadata": {},
     "output_type": "execute_result"
    }
   ],
   "source": [
    "inp =[int(x) for x in input().strip().split(\" \")]\n",
    "inp"
   ]
  },
  {
   "cell_type": "markdown",
   "id": "0bbbd4b1",
   "metadata": {},
   "source": [
    "## Adding elements"
   ]
  },
  {
   "cell_type": "code",
   "execution_count": 59,
   "id": "eba0ebb0",
   "metadata": {},
   "outputs": [
    {
     "name": "stdout",
     "output_type": "stream",
     "text": [
      "[1, 2, 3, 0]\n",
      "[1, 2, 3, 5, 0]\n",
      "[1, 2, 3, 5, 0, 11, 23]\n"
     ]
    }
   ],
   "source": [
    "l = [1,2,3]\n",
    "\n",
    "l.append(0)\n",
    "print(l)\n",
    "\n",
    "#insert(pos, value)\n",
    "l.insert(3,5)\n",
    "print(l)\n",
    "\n",
    "l2 = [11,23]\n",
    "l.extend(l2)\n",
    "print(l)"
   ]
  },
  {
   "cell_type": "markdown",
   "id": "2b2feab3",
   "metadata": {},
   "source": [
    "## Deleting elements"
   ]
  },
  {
   "cell_type": "code",
   "execution_count": 42,
   "id": "961babc6",
   "metadata": {},
   "outputs": [
    {
     "name": "stdout",
     "output_type": "stream",
     "text": [
      "[1, 2, 3, 5, 0, 11]\n",
      "[2, 3, 5, 0, 11]\n",
      "[0, 2, 3, 5, 0, 11]\n",
      "[2, 3, 5, 0, 11]\n",
      "[3, 5, 0, 11]\n"
     ]
    }
   ],
   "source": [
    "l.pop()# last elem\n",
    "print(l)\n",
    "\n",
    "l.pop(0)# index\n",
    "print(l)\n",
    "\n",
    "l.insert(0,0)\n",
    "print(l)\n",
    "\n",
    "l.pop(0)#first occurence of 0 will be removed\n",
    "print(l)\n",
    "\n",
    "del l[0]\n",
    "print(l)"
   ]
  },
  {
   "cell_type": "markdown",
   "id": "33c81105",
   "metadata": {},
   "source": [
    "### extra "
   ]
  },
  {
   "cell_type": "code",
   "execution_count": 60,
   "id": "3c481ed0",
   "metadata": {},
   "outputs": [
    {
     "name": "stdout",
     "output_type": "stream",
     "text": [
      "[1, 2, 3, 5, 0, 11, 23, 1, 2, 3, 5, 0, 11, 23]\n",
      "[1, 2, 3, 5, 0, 11, 23]\n",
      "[1, 2, 3, 5, 0, 11, 23, 1, 2, 3, 5, 0, 11, 23]\n"
     ]
    }
   ],
   "source": [
    "print(l + l)\n",
    "print(l)\n",
    "#print(l+1)# error\n",
    "print(l*2)"
   ]
  },
  {
   "cell_type": "code",
   "execution_count": 61,
   "id": "d32a6351",
   "metadata": {},
   "outputs": [
    {
     "data": {
      "text/plain": [
       "[0, 1, 2, 3, 5, 11, 23]"
      ]
     },
     "execution_count": 61,
     "metadata": {},
     "output_type": "execute_result"
    }
   ],
   "source": [
    "l.sort()\n",
    "l"
   ]
  },
  {
   "cell_type": "code",
   "execution_count": 62,
   "id": "cf96228d",
   "metadata": {},
   "outputs": [
    {
     "data": {
      "text/plain": [
       "1"
      ]
     },
     "execution_count": 62,
     "metadata": {},
     "output_type": "execute_result"
    }
   ],
   "source": [
    "l.count(2)"
   ]
  },
  {
   "cell_type": "code",
   "execution_count": 63,
   "id": "21c1ee18",
   "metadata": {},
   "outputs": [
    {
     "data": {
      "text/plain": [
       "[23, 11, 5, 3, 2, 1, 0]"
      ]
     },
     "execution_count": 63,
     "metadata": {},
     "output_type": "execute_result"
    }
   ],
   "source": [
    "l.reverse()\n",
    "l"
   ]
  },
  {
   "cell_type": "code",
   "execution_count": 64,
   "id": "f42d2ad6",
   "metadata": {},
   "outputs": [
    {
     "data": {
      "text/plain": [
       "False"
      ]
     },
     "execution_count": 64,
     "metadata": {},
     "output_type": "execute_result"
    }
   ],
   "source": [
    "7 in l"
   ]
  },
  {
   "cell_type": "code",
   "execution_count": 65,
   "id": "70992f66",
   "metadata": {},
   "outputs": [
    {
     "data": {
      "text/plain": [
       "True"
      ]
     },
     "execution_count": 65,
     "metadata": {},
     "output_type": "execute_result"
    }
   ],
   "source": [
    "3 in l"
   ]
  },
  {
   "cell_type": "markdown",
   "id": "777e7cad",
   "metadata": {},
   "source": [
    "# Bubble sort"
   ]
  },
  {
   "cell_type": "markdown",
   "id": "9bea7c4b",
   "metadata": {},
   "source": [
    "### given an array we have to sort "
   ]
  },
  {
   "cell_type": "markdown",
   "id": "f9a8d533",
   "metadata": {},
   "source": [
    "##### 2 3 1 5 4"
   ]
  },
  {
   "cell_type": "code",
   "execution_count": 76,
   "id": "9b3382b0",
   "metadata": {},
   "outputs": [
    {
     "name": "stdout",
     "output_type": "stream",
     "text": [
      "[2, 3, 1, 5, 4]\n",
      "[2, 1, 3, 5, 4]\n",
      "[2, 1, 3, 5, 4]\n",
      "[2, 1, 3, 4, 5]\n",
      "[1, 2, 3, 4, 5]\n",
      "[1, 2, 3, 4, 5]\n",
      "[1, 2, 3, 4, 5]\n",
      "[1, 2, 3, 4, 5]\n",
      "[1, 2, 3, 4, 5]\n",
      "[1, 2, 3, 4, 5]\n",
      "[1, 2, 3, 4, 5]\n"
     ]
    }
   ],
   "source": [
    "l = [2,3,1,5,4]\n",
    "n = len(l)\n",
    "for i in range(n-1):\n",
    "    for j in range(n-i-1):\n",
    "        if(l[j] > l[j+1]):\n",
    "            temp = l[j]\n",
    "            l[j] = l[j+1]\n",
    "            l[j+1] = temp\n",
    "        print(l)\n",
    "print(l)"
   ]
  },
  {
   "cell_type": "code",
   "execution_count": 84,
   "id": "c16dc203",
   "metadata": {},
   "outputs": [
    {
     "name": "stdout",
     "output_type": "stream",
     "text": [
      "[4, 5, 3, 2, 1]\n",
      "[4, 3, 5, 2, 1]\n",
      "[4, 3, 2, 5, 1]\n",
      "[4, 3, 2, 1, 5]\n",
      "[3, 4, 2, 1, 5]\n",
      "[3, 2, 4, 1, 5]\n",
      "[3, 2, 1, 4, 5]\n",
      "[2, 3, 1, 4, 5]\n",
      "[2, 1, 3, 4, 5]\n",
      "[1, 2, 3, 4, 5]\n",
      "[1, 2, 3, 4, 5]\n"
     ]
    }
   ],
   "source": [
    "l = [5,4,3,2,1]\n",
    "n = len(l)\n",
    "\n",
    "for i in range(n-1):\n",
    "    swap = False\n",
    "    for j in range(n-i-1):\n",
    "        if(l[j] > l[j+1]):\n",
    "            temp = l[j]\n",
    "            l[j] = l[j+1]\n",
    "            l[j+1] = temp\n",
    "            swap = True\n",
    "        print(l)\n",
    "    if swap == False :\n",
    "        break;\n",
    "        \n",
    "print(l)"
   ]
  },
  {
   "cell_type": "code",
   "execution_count": null,
   "id": "642e680a",
   "metadata": {},
   "outputs": [],
   "source": []
  }
 ],
 "metadata": {
  "kernelspec": {
   "display_name": "Python 3 (ipykernel)",
   "language": "python",
   "name": "python3"
  },
  "language_info": {
   "codemirror_mode": {
    "name": "ipython",
    "version": 3
   },
   "file_extension": ".py",
   "mimetype": "text/x-python",
   "name": "python",
   "nbconvert_exporter": "python",
   "pygments_lexer": "ipython3",
   "version": "3.9.6"
  }
 },
 "nbformat": 4,
 "nbformat_minor": 5
}
