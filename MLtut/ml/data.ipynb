{
 "cells": [
  {
   "cell_type": "code",
   "execution_count": 2,
   "id": "a17d8fa6",
   "metadata": {},
   "outputs": [],
   "source": [
    "file = open('data1.csv','w')\n",
    "file.write('x,x_x,y')\n",
    "file.write(\"\\n\")\n",
    "import random\n",
    "for i in range(100):\n",
    "    x = random.uniform(0,100)\n",
    "    x_x = x**2\n",
    "    y = random.uniform(0,100)\n",
    "    file.write(str(x)+\",\"+str(x_x)+\",\"+str(y))\n",
    "    file.write(\"\\n\")"
   ]
  },
  {
   "cell_type": "code",
   "execution_count": null,
   "id": "d26bbfc5",
   "metadata": {},
   "outputs": [],
   "source": []
  }
 ],
 "metadata": {
  "kernelspec": {
   "display_name": "Python 3 (ipykernel)",
   "language": "python",
   "name": "python3"
  },
  "language_info": {
   "codemirror_mode": {
    "name": "ipython",
    "version": 3
   },
   "file_extension": ".py",
   "mimetype": "text/x-python",
   "name": "python",
   "nbconvert_exporter": "python",
   "pygments_lexer": "ipython3",
   "version": "3.9.6"
  }
 },
 "nbformat": 4,
 "nbformat_minor": 5
}
