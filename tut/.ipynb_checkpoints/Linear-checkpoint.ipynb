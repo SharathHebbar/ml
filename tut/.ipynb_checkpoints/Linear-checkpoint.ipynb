{
 "cells": [
  {
   "cell_type": "markdown",
   "id": "04a88dc6",
   "metadata": {},
   "source": [
    "## Importing libraries"
   ]
  },
  {
   "cell_type": "code",
   "execution_count": 63,
   "id": "b4979717",
   "metadata": {},
   "outputs": [],
   "source": [
    "import pandas as pd\n",
    "import numpy as np\n",
    "import sklearn\n",
    "#from sklearn import linear_model\n",
    "from sklearn.linear_model import LinearRegression\n",
    "from sklearn.utils import shuffle\n"
   ]
  },
  {
   "cell_type": "markdown",
   "id": "c14d84ff",
   "metadata": {},
   "source": [
    "### Loading data"
   ]
  },
  {
   "cell_type": "code",
   "execution_count": 64,
   "id": "8d093439",
   "metadata": {},
   "outputs": [
    {
     "data": {
      "text/html": [
       "<div>\n",
       "<style scoped>\n",
       "    .dataframe tbody tr th:only-of-type {\n",
       "        vertical-align: middle;\n",
       "    }\n",
       "\n",
       "    .dataframe tbody tr th {\n",
       "        vertical-align: top;\n",
       "    }\n",
       "\n",
       "    .dataframe thead th {\n",
       "        text-align: right;\n",
       "    }\n",
       "</style>\n",
       "<table border=\"1\" class=\"dataframe\">\n",
       "  <thead>\n",
       "    <tr style=\"text-align: right;\">\n",
       "      <th></th>\n",
       "      <th>school</th>\n",
       "      <th>sex</th>\n",
       "      <th>age</th>\n",
       "      <th>address</th>\n",
       "      <th>famsize</th>\n",
       "      <th>Pstatus</th>\n",
       "      <th>Medu</th>\n",
       "      <th>Fedu</th>\n",
       "      <th>Mjob</th>\n",
       "      <th>Fjob</th>\n",
       "      <th>...</th>\n",
       "      <th>famrel</th>\n",
       "      <th>freetime</th>\n",
       "      <th>goout</th>\n",
       "      <th>Dalc</th>\n",
       "      <th>Walc</th>\n",
       "      <th>health</th>\n",
       "      <th>absences</th>\n",
       "      <th>G1</th>\n",
       "      <th>G2</th>\n",
       "      <th>G3</th>\n",
       "    </tr>\n",
       "  </thead>\n",
       "  <tbody>\n",
       "    <tr>\n",
       "      <th>0</th>\n",
       "      <td>GP</td>\n",
       "      <td>F</td>\n",
       "      <td>18</td>\n",
       "      <td>U</td>\n",
       "      <td>GT3</td>\n",
       "      <td>A</td>\n",
       "      <td>4</td>\n",
       "      <td>4</td>\n",
       "      <td>at_home</td>\n",
       "      <td>teacher</td>\n",
       "      <td>...</td>\n",
       "      <td>4</td>\n",
       "      <td>3</td>\n",
       "      <td>4</td>\n",
       "      <td>1</td>\n",
       "      <td>1</td>\n",
       "      <td>3</td>\n",
       "      <td>6</td>\n",
       "      <td>5</td>\n",
       "      <td>6</td>\n",
       "      <td>6</td>\n",
       "    </tr>\n",
       "    <tr>\n",
       "      <th>1</th>\n",
       "      <td>GP</td>\n",
       "      <td>F</td>\n",
       "      <td>17</td>\n",
       "      <td>U</td>\n",
       "      <td>GT3</td>\n",
       "      <td>T</td>\n",
       "      <td>1</td>\n",
       "      <td>1</td>\n",
       "      <td>at_home</td>\n",
       "      <td>other</td>\n",
       "      <td>...</td>\n",
       "      <td>5</td>\n",
       "      <td>3</td>\n",
       "      <td>3</td>\n",
       "      <td>1</td>\n",
       "      <td>1</td>\n",
       "      <td>3</td>\n",
       "      <td>4</td>\n",
       "      <td>5</td>\n",
       "      <td>5</td>\n",
       "      <td>6</td>\n",
       "    </tr>\n",
       "    <tr>\n",
       "      <th>2</th>\n",
       "      <td>GP</td>\n",
       "      <td>F</td>\n",
       "      <td>15</td>\n",
       "      <td>U</td>\n",
       "      <td>LE3</td>\n",
       "      <td>T</td>\n",
       "      <td>1</td>\n",
       "      <td>1</td>\n",
       "      <td>at_home</td>\n",
       "      <td>other</td>\n",
       "      <td>...</td>\n",
       "      <td>4</td>\n",
       "      <td>3</td>\n",
       "      <td>2</td>\n",
       "      <td>2</td>\n",
       "      <td>3</td>\n",
       "      <td>3</td>\n",
       "      <td>10</td>\n",
       "      <td>7</td>\n",
       "      <td>8</td>\n",
       "      <td>10</td>\n",
       "    </tr>\n",
       "    <tr>\n",
       "      <th>3</th>\n",
       "      <td>GP</td>\n",
       "      <td>F</td>\n",
       "      <td>15</td>\n",
       "      <td>U</td>\n",
       "      <td>GT3</td>\n",
       "      <td>T</td>\n",
       "      <td>4</td>\n",
       "      <td>2</td>\n",
       "      <td>health</td>\n",
       "      <td>services</td>\n",
       "      <td>...</td>\n",
       "      <td>3</td>\n",
       "      <td>2</td>\n",
       "      <td>2</td>\n",
       "      <td>1</td>\n",
       "      <td>1</td>\n",
       "      <td>5</td>\n",
       "      <td>2</td>\n",
       "      <td>15</td>\n",
       "      <td>14</td>\n",
       "      <td>15</td>\n",
       "    </tr>\n",
       "    <tr>\n",
       "      <th>4</th>\n",
       "      <td>GP</td>\n",
       "      <td>F</td>\n",
       "      <td>16</td>\n",
       "      <td>U</td>\n",
       "      <td>GT3</td>\n",
       "      <td>T</td>\n",
       "      <td>3</td>\n",
       "      <td>3</td>\n",
       "      <td>other</td>\n",
       "      <td>other</td>\n",
       "      <td>...</td>\n",
       "      <td>4</td>\n",
       "      <td>3</td>\n",
       "      <td>2</td>\n",
       "      <td>1</td>\n",
       "      <td>2</td>\n",
       "      <td>5</td>\n",
       "      <td>4</td>\n",
       "      <td>6</td>\n",
       "      <td>10</td>\n",
       "      <td>10</td>\n",
       "    </tr>\n",
       "  </tbody>\n",
       "</table>\n",
       "<p>5 rows × 33 columns</p>\n",
       "</div>"
      ],
      "text/plain": [
       "  school sex  age address famsize Pstatus  Medu  Fedu     Mjob      Fjob  ...  \\\n",
       "0     GP   F   18       U     GT3       A     4     4  at_home   teacher  ...   \n",
       "1     GP   F   17       U     GT3       T     1     1  at_home     other  ...   \n",
       "2     GP   F   15       U     LE3       T     1     1  at_home     other  ...   \n",
       "3     GP   F   15       U     GT3       T     4     2   health  services  ...   \n",
       "4     GP   F   16       U     GT3       T     3     3    other     other  ...   \n",
       "\n",
       "  famrel freetime  goout  Dalc  Walc health absences  G1  G2  G3  \n",
       "0      4        3      4     1     1      3        6   5   6   6  \n",
       "1      5        3      3     1     1      3        4   5   5   6  \n",
       "2      4        3      2     2     3      3       10   7   8  10  \n",
       "3      3        2      2     1     1      5        2  15  14  15  \n",
       "4      4        3      2     1     2      5        4   6  10  10  \n",
       "\n",
       "[5 rows x 33 columns]"
      ]
     },
     "execution_count": 64,
     "metadata": {},
     "output_type": "execute_result"
    }
   ],
   "source": [
    "data = pd.read_csv(\"student-mat.csv\", sep=\";\")\n",
    "data.head()"
   ]
  },
  {
   "cell_type": "markdown",
   "id": "87dc6b37",
   "metadata": {},
   "source": [
    "### training and testing data"
   ]
  },
  {
   "cell_type": "code",
   "execution_count": 65,
   "id": "7ac4c0a2",
   "metadata": {},
   "outputs": [],
   "source": [
    "data = data[[\"G1\",\"G2\",\"G3\",\"studytime\",\"failures\",\"absences\"]]\n",
    "predict = \"G3\"\n",
    "x = np.array(data.drop([predict], axis= 1))#features\n",
    "y = np.array(data[predict])#labels\n",
    "\n",
    "x_train,x_test,y_train,y_test = sklearn.model_selection.train_test_split(x,y,test_size = 0.3)\n"
   ]
  },
  {
   "cell_type": "markdown",
   "id": "6fc487e3",
   "metadata": {},
   "source": [
    "### Machine Learning model"
   ]
  },
  {
   "cell_type": "code",
   "execution_count": 66,
   "id": "b230f1fa",
   "metadata": {},
   "outputs": [],
   "source": [
    "linear = LinearRegression()"
   ]
  },
  {
   "cell_type": "markdown",
   "id": "a2d86563",
   "metadata": {},
   "source": [
    "#### fitting the model"
   ]
  },
  {
   "cell_type": "code",
   "execution_count": 67,
   "id": "416669d5",
   "metadata": {},
   "outputs": [
    {
     "data": {
      "text/plain": [
       "LinearRegression()"
      ]
     },
     "execution_count": 67,
     "metadata": {},
     "output_type": "execute_result"
    }
   ],
   "source": [
    "\n",
    "linear.fit(x_train,y_train)"
   ]
  },
  {
   "cell_type": "markdown",
   "id": "92b53651",
   "metadata": {},
   "source": [
    "#### accuracy"
   ]
  },
  {
   "cell_type": "code",
   "execution_count": 68,
   "id": "72a85248",
   "metadata": {},
   "outputs": [
    {
     "data": {
      "text/plain": [
       "0.8363823478178732"
      ]
     },
     "execution_count": 68,
     "metadata": {},
     "output_type": "execute_result"
    }
   ],
   "source": [
    "\n",
    "acc = linear.score(x_test,y_test)\n",
    "acc"
   ]
  },
  {
   "cell_type": "markdown",
   "id": "9dccac71",
   "metadata": {},
   "source": [
    "#### coefficient\n"
   ]
  },
  {
   "cell_type": "code",
   "execution_count": 73,
   "id": "8ed72ec3",
   "metadata": {},
   "outputs": [
    {
     "data": {
      "text/plain": [
       "array([ 0.15953991,  0.98687356, -0.17269006, -0.21700851,  0.02641224])"
      ]
     },
     "execution_count": 73,
     "metadata": {},
     "output_type": "execute_result"
    }
   ],
   "source": [
    "linear.coef_"
   ]
  },
  {
   "cell_type": "markdown",
   "id": "a6c86a39",
   "metadata": {},
   "source": [
    "#### intercept"
   ]
  },
  {
   "cell_type": "code",
   "execution_count": 70,
   "id": "3af1411d",
   "metadata": {},
   "outputs": [
    {
     "data": {
      "text/plain": [
       "-1.6725881733875845"
      ]
     },
     "execution_count": 70,
     "metadata": {},
     "output_type": "execute_result"
    }
   ],
   "source": [
    "\n",
    "linear.intercept_"
   ]
  },
  {
   "cell_type": "code",
   "execution_count": 71,
   "id": "5a7280aa",
   "metadata": {},
   "outputs": [
    {
     "name": "stdout",
     "output_type": "stream",
     "text": [
      "15.722828010710344 [17 15  1  0  2] 15\n",
      "11.791817752158444 [12 12  2  0  2] 11\n",
      "7.518466658097028 [ 9  8  2  1 16] 7\n",
      "3.8197479896506445 [5 5 2 0 4] 6\n",
      "14.244184584146142 [15 14  2  0  2] 14\n",
      "3.389308628037422 [3 5 2 1 8] 5\n",
      "10.592579807745377 [11 11  2  0  0] 10\n",
      "18.57684519597942 [18 18  3  0  5] 19\n",
      "15.01869375594833 [14 15  2  0  0] 15\n",
      "11.841064568431257 [14 12  2  1  0] 12\n",
      "4.199091844895358 [ 6  5  1  1 14] 5\n",
      "6.99379951239257 [7 8 2 0 0] 0\n",
      "12.786130873947869 [11 13  1  1 10] 13\n",
      "12.108764638446209 [12 12  2  0 14] 12\n",
      "13.255178101811318 [13 13  2  0 14] 14\n",
      "3.817899299554947 [ 6  5  1  3 16] 5\n",
      "12.071223234309581 [13 12  1  0  0] 12\n",
      "15.402793673237493 [16 15  3  0  9] 16\n",
      "13.566462569908106 [12 14  3  0  1] 15\n",
      "3.612311964365448 [6 5 1 2 0] 0\n",
      "13.858063677785488 [13 14  3  0  6] 14\n",
      "12.885406734475593 [13 13  2  0  0] 12\n",
      "5.8342358963433245 [7 7 3 0 0] 8\n",
      "7.020323688072256 [9 8 4 0 2] 8\n",
      "7.661877494116737 [8 9 1 3 0] 10\n",
      "10.499126471375702 [11 11  3  0  3] 11\n",
      "10.698228769841299 [11 11  2  0  4] 11\n",
      "10.113960091972938 [ 8 11  2  0  0] 11\n",
      "7.807983012558582 [7 9 3 0 0] 8\n",
      "15.775652491758304 [17 15  1  0  4] 16\n",
      "15.283882623301732 [15 15  2  0  4] 15\n",
      "8.33942720937898 [10  9  3  0  2] 10\n",
      "9.351646545896992 [ 9 10  3  0  9] 9\n",
      "8.56494174836856 [10  9  2  0  4] 11\n",
      "11.843575771092809 [11 12  2  0 10] 13\n",
      "9.127086533865308 [ 8 10  2  0  0] 12\n",
      "7.736541633404812 [10  8  2  0 10] 8\n",
      "6.6372420620853205 [ 9  7  2  1 20] 8\n",
      "15.33777356646329 [16 15  2  0  0] 15\n",
      "12.122981253243942 [12 12  1  0  8] 12\n",
      "16.37747160561888 [16 16  2  0  2] 16\n",
      "11.719309910891075 [14 11  1  0 18] 13\n",
      "12.219880345963801 [10 13  4  0  6] 13\n",
      "7.980673070500199 [7 9 2 0 0] 8\n",
      "-0.5821091419535032 [9 0 2 0 0] 0\n",
      "8.56494174836856 [10  9  2  0  4] 9\n",
      "8.72341519151244 [10  9  2  0 10] 10\n",
      "4.416100358089544 [ 6  5  1  0 14] 5\n",
      "11.84250930897921 [10 12  2  0 16] 11\n",
      "9.126020071751709 [ 7 10  2  0  6] 10\n",
      "13.05809679241721 [13 13  1  0  0] 12\n",
      "14.513773734807618 [13 15  4  0  0] 15\n",
      "15.587679356905355 [16 15  3  0 16] 15\n",
      "19.935511110494264 [18 19  1  0  6] 19\n",
      "7.310746398680333 [ 7  8  2  0 12] 8\n",
      "12.322195486865246 [14 12  2  0 10] 11\n",
      "12.712716676533976 [13 13  3  0  0] 14\n",
      "14.76558857916547 [11 15  1  0  2] 15\n",
      "5.196360509444904 [6 7 2 3 0] 0\n",
      "11.619127694216827 [12 12  3  0  2] 11\n",
      "12.586317892105049 [14 12  2  0 20] 13\n",
      "15.178233661205812 [15 15  2  0  0] 15\n",
      "8.459292786272638 [10  9  2  0  0] 9\n",
      "17.81441971474777 [17 17  2  0 13] 17\n",
      "14.177143488300446 [15 14  3  0  6] 14\n",
      "10.911659618260336 [13 11  2  0  0] 10\n",
      "13.442196709706375 [15 13  2  0  9] 15\n",
      "7.3260294755916675 [8 8 1 0 0] 11\n",
      "10.765269865686992 [11 11  1  0  0] 12\n",
      "8.471488411998882 [10  9  3  0  7] 9\n",
      "10.351782191844466 [10 11  4  0 10] 11\n",
      "7.705129487255709 [7 9 2 2 6] 8\n",
      "7.635292954616965 [7 9 4 0 0] 0\n",
      "14.502596400383602 [15 14  2  1 20] 13\n",
      "14.872304003374989 [12 15  1  0  0] 15\n",
      "6.02656114369298 [ 6  7  2  1 15] 8\n",
      "7.15333941765005 [8 8 2 0 0] 0\n",
      "8.249723836760245 [9 9 1 2 8] 9\n",
      "6.8597173207011775 [7 8 4 0 8] 8\n",
      "7.214669924493403 [8 8 1 1 4] 8\n",
      "16.497337182512535 [16 16  1  0  0] 15\n",
      "15.270620535461891 [14 15  1  0  3] 16\n",
      "11.843575771092809 [11 12  2  0 10] 13\n",
      "12.336412101662981 [14 12  1  0  4] 11\n",
      "14.31015921787824 [14 14  1  0  4] 14\n",
      "11.295403756813124 [11 12  3  1  4] 11\n",
      "5.6550126308664375 [ 8  6  2  0 18] 7\n",
      "12.938231215523553 [13 13  2  0  2] 13\n",
      "9.89517443328793 [10 10  2  0 17] 10\n",
      "3.6566304196180175 [6 5 2 1 0] 0\n",
      "7.909231691346429 [10  8  1  0 10] 9\n",
      "10.817027884621355 [10 11  1  0  8] 10\n",
      "18.829838437606575 [19 18  2  0  2] 18\n",
      "7.98917909629559 [7 9 1 1 2] 8\n",
      "10.765269865686992 [11 11  1  0  0] 10\n",
      "9.100786228497032 [10 10  4  0  0] 10\n",
      "9.21958534327709 [ 9 10  3  0  4] 10\n",
      "8.524200957891138 [8 9 1 0 8] 10\n",
      "11.645427999585102 [10 12  1  0  2] 12\n",
      "7.472419228165009 [10  8  2  0  0] 9\n",
      "8.98860405886584 [11  9  2  0 14] 9\n",
      "7.072081707006619 [ 8  8  4  0 10] 8\n",
      "13.690301980864115 [15 14  3  2  4] 15\n",
      "7.073320468096011 [10  8  1  3  3] 7\n",
      "9.41084412851315 [ 7 10  2  1 25] 11\n",
      "4.9133369719677935 [6 6 2 0 2] 6\n",
      "14.04497035052484 [13 14  1  0  0] 14\n",
      "18.298394240786177 [16 18  2  0  0] 19\n",
      "11.017308580356257 [13 11  2  0  4] 11\n",
      "11.897466714254366 [12 12  2  0  6] 12\n",
      "7.929577564131691 [ 6  9  1  2 14] 8\n",
      "15.628308212227076 [16 15  2  0 11] 15\n",
      "9.076346806233172 [11  9  1  1 19] 10\n",
      "4.986863104537391 [ 6  6  2  1 13] 8\n",
      "9.339450920170748 [ 9 10  2  0  2] 10\n",
      "8.15627050039057 [ 9  9  2  2 11] 9\n",
      "-0.42256923669602386 [10  0  2  0  0] 0\n",
      "4.032112375956085 [6 5 2 0 6] 6\n",
      "6.258852733798499 [7 7 1 0 3] 8\n"
     ]
    }
   ],
   "source": [
    "#predictions\n",
    "pred = linear.predict(x_test)\n",
    "for i in range(len(pred)):\n",
    "    print(pred[i], x_test[i],y_test[i])"
   ]
  },
  {
   "cell_type": "markdown",
   "id": "4cc388bc",
   "metadata": {},
   "source": [
    "### importing matplotlib and pickle"
   ]
  },
  {
   "cell_type": "code",
   "execution_count": 72,
   "id": "c844fe9e",
   "metadata": {},
   "outputs": [],
   "source": [
    "import pickle\n",
    "from matplotlib import style\n",
    "import matplotlib.pyplot as plt"
   ]
  },
  {
   "cell_type": "markdown",
   "id": "54587a94",
   "metadata": {},
   "source": [
    "### pickling"
   ]
  },
  {
   "cell_type": "code",
   "execution_count": 75,
   "id": "4c4d4514",
   "metadata": {},
   "outputs": [],
   "source": [
    "with open(\"stu.pickle\",\"wb\") as f:\n",
    "    pickle.dump(linear,f)"
   ]
  },
  {
   "cell_type": "markdown",
   "id": "361225b5",
   "metadata": {},
   "source": [
    "#### Loading our model"
   ]
  },
  {
   "cell_type": "code",
   "execution_count": 76,
   "id": "50603288",
   "metadata": {},
   "outputs": [],
   "source": [
    "pik = open('stu.pickle','rb')\n",
    "linear = pickle.load(pik)"
   ]
  },
  {
   "cell_type": "markdown",
   "id": "80c257e6",
   "metadata": {},
   "source": [
    "### Training multiple model"
   ]
  },
  {
   "cell_type": "code",
   "execution_count": 78,
   "id": "4527a3bd",
   "metadata": {},
   "outputs": [
    {
     "name": "stdout",
     "output_type": "stream",
     "text": [
      "Accuracy: 0.8205079144991685\n",
      "Accuracy: 0.7973798607826582\n",
      "Accuracy: 0.828287919818314\n",
      "Accuracy: 0.8148944678783712\n",
      "Accuracy: 0.8357552059643739\n",
      "Accuracy: 0.6456141858191193\n",
      "Accuracy: 0.8274715914719714\n",
      "Accuracy: 0.8567510067015223\n",
      "Accuracy: 0.8301217952612556\n",
      "Accuracy: 0.8264471834525806\n",
      "Accuracy: 0.7647626483532286\n",
      "Accuracy: 0.897124043916997\n",
      "Accuracy: 0.801471760668675\n",
      "Accuracy: 0.8341294832282313\n",
      "Accuracy: 0.876294795680013\n",
      "Accuracy: 0.7829490112972742\n",
      "Accuracy: 0.8785881947539769\n",
      "Accuracy: 0.8135940703680797\n",
      "Accuracy: 0.8496159721287176\n",
      "Accuracy: 0.918066797791055\n",
      "Accuracy: 0.8477619326261331\n",
      "Accuracy: 0.7921119108869051\n",
      "Accuracy: 0.8009102237652839\n",
      "Accuracy: 0.8095522759612059\n",
      "Accuracy: 0.840500627689293\n",
      "Accuracy: 0.7914848838006535\n",
      "Accuracy: 0.7873267597033508\n",
      "Accuracy: 0.8792996443507257\n",
      "Accuracy: 0.772931688581208\n",
      "Accuracy: 0.794012510950658\n",
      "Accuracy: 0.819542318084703\n",
      "Accuracy: 0.8214958900794957\n",
      "Accuracy: 0.7646922402324134\n",
      "Accuracy: 0.8517075883631926\n",
      "Accuracy: 0.824484593300951\n",
      "Accuracy: 0.8913066807339213\n",
      "Accuracy: 0.83107751303186\n",
      "Accuracy: 0.7833635564354919\n",
      "Accuracy: 0.7700328440642696\n",
      "Accuracy: 0.7925938627894461\n",
      "Accuracy: 0.8406956601079851\n",
      "Accuracy: 0.8132500418989108\n",
      "Accuracy: 0.8671065234934009\n",
      "Accuracy: 0.7741960721595724\n",
      "Accuracy: 0.8113217165219118\n",
      "Accuracy: 0.8065350617803665\n",
      "Accuracy: 0.7870588539662353\n",
      "Accuracy: 0.7877485823464799\n",
      "Accuracy: 0.7803376352225526\n",
      "Accuracy: 0.8635818931785347\n",
      "Accuracy: 0.8363845292838512\n",
      "Accuracy: 0.8002427581841687\n",
      "Accuracy: 0.7635257501469417\n",
      "Accuracy: 0.7722135068897908\n",
      "Accuracy: 0.9113269577508838\n",
      "Accuracy: 0.7894047907028539\n",
      "Accuracy: 0.8627816171976175\n",
      "Accuracy: 0.8022054371295991\n",
      "Accuracy: 0.8080745399351268\n",
      "Accuracy: 0.7715809571094007\n",
      "Accuracy: 0.7309945108069649\n",
      "Accuracy: 0.746986097465435\n",
      "Accuracy: 0.9101121290401363\n",
      "Accuracy: 0.7667315566170121\n",
      "Accuracy: 0.8391820068414431\n",
      "Accuracy: 0.724330567185211\n",
      "Accuracy: 0.8306799925147057\n",
      "Accuracy: 0.8010582253801058\n",
      "Accuracy: 0.7738954967519139\n",
      "Accuracy: 0.7525871870750989\n",
      "Accuracy: 0.8437299537773957\n",
      "Accuracy: 0.8509869999356261\n",
      "Accuracy: 0.7972729087385638\n",
      "Accuracy: 0.8651800907547902\n",
      "Accuracy: 0.7558610689348313\n",
      "Accuracy: 0.8100986102955379\n",
      "Accuracy: 0.8707931424771802\n",
      "Accuracy: 0.8259380097423794\n",
      "Accuracy: 0.860870751837659\n",
      "Accuracy: 0.824636086645872\n",
      "Accuracy: 0.8086875318708056\n",
      "Accuracy: 0.7644091455203301\n",
      "Accuracy: 0.8961199070806724\n",
      "Accuracy: 0.8008100332032955\n",
      "Accuracy: 0.8534930081097126\n",
      "Accuracy: 0.859661465631765\n",
      "Accuracy: 0.9138494062140755\n",
      "Accuracy: 0.8127646936189679\n",
      "Accuracy: 0.851427264983087\n",
      "Accuracy: 0.8105665589932756\n",
      "Accuracy: 0.7822081875102845\n",
      "Accuracy: 0.8716732579628489\n",
      "Accuracy: 0.7400991954790652\n",
      "Accuracy: 0.8851214080992094\n",
      "Accuracy: 0.8195450905104029\n",
      "Accuracy: 0.8426635694155843\n",
      "Accuracy: 0.8485470644037577\n",
      "Accuracy: 0.9096899147542019\n",
      "Accuracy: 0.8718251028347068\n",
      "Accuracy: 0.8110162785318182\n"
     ]
    }
   ],
   "source": [
    "best = 0\n",
    "for _ in range(100):\n",
    "    x_train, x_test, y_train, y_test = sklearn.model_selection.train_test_split(x, y, test_size=0.2)\n",
    "\n",
    "    linear = linear_model.LinearRegression()\n",
    "\n",
    "    linear.fit(x_train, y_train)\n",
    "    acc = linear.score(x_test, y_test)\n",
    "    print(\"Accuracy: \" + str(acc))\n",
    "    \n",
    "    # If the current model has a better score than one we've already trained then save it\n",
    "    if acc > best:\n",
    "        best = acc\n",
    "        with open(\"stu.pickle\", \"wb\") as f:\n",
    "            pickle.dump(linear, f)"
   ]
  },
  {
   "cell_type": "code",
   "execution_count": 79,
   "id": "d723ec6e",
   "metadata": {},
   "outputs": [
    {
     "data": {
      "text/plain": [
       "0.918066797791055"
      ]
     },
     "execution_count": 79,
     "metadata": {},
     "output_type": "execute_result"
    }
   ],
   "source": [
    "best"
   ]
  },
  {
   "cell_type": "markdown",
   "id": "e7a69825",
   "metadata": {},
   "source": [
    "### Plotting graph"
   ]
  },
  {
   "cell_type": "code",
   "execution_count": 82,
   "id": "535aa4b8",
   "metadata": {},
   "outputs": [
    {
     "data": {
      "image/png": "[encoded data removed]",
      "text/plain": [
       "<Figure size 432x288 with 1 Axes>"
      ]
     },
     "metadata": {
      "needs_background": "light"
     },
     "output_type": "display_data"
    }
   ],
   "source": [
    "plot = \"failures\"\n",
    "plt.scatter(data[plot], data[\"G3\"])\n",
    "#plt.legend(\"studentmarks\",loc = 4)\n",
    "plt.xlabel(plot)\n",
    "plt.ylabel(\"Final\")\n",
    "plt.show()"
   ]
  },
  {
   "cell_type": "code",
   "execution_count": null,
   "id": "6c31df96",
   "metadata": {},
   "outputs": [],
   "source": []
  },
  {
   "cell_type": "code",
   "execution_count": null,
   "id": "784764ae",
   "metadata": {},
   "outputs": [],
   "source": []
  }
 ],
 "metadata": {
  "kernelspec": {
   "display_name": "Python 3 (ipykernel)",
   "language": "python",
   "name": "python3"
  },
  "language_info": {
   "codemirror_mode": {
    "name": "ipython",
    "version": 3
   },
   "file_extension": ".py",
   "mimetype": "text/x-python",
   "name": "python",
   "nbconvert_exporter": "python",
   "pygments_lexer": "ipython3",
   "version": "3.9.6"
  }
 },
 "nbformat": 4,
 "nbformat_minor": 5
}
