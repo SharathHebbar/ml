{
 "cells": [
  {
   "cell_type": "markdown",
   "id": "d295e99c",
   "metadata": {},
   "source": [
    "### Importing libraries"
   ]
  },
  {
   "cell_type": "code",
   "execution_count": 49,
   "id": "69612412",
   "metadata": {},
   "outputs": [],
   "source": [
    "import sklearn\n",
    "from sklearn import svm\n",
    "from sklearn import datasets\n",
    "from sklearn.model_selection import train_test_split\n",
    "from sklearn import metrics"
   ]
  },
  {
   "cell_type": "markdown",
   "id": "f2b6ddf8",
   "metadata": {},
   "source": [
    "### Loading datasets via sklearn"
   ]
  },
  {
   "cell_type": "code",
   "execution_count": 50,
   "id": "4def6445",
   "metadata": {},
   "outputs": [],
   "source": [
    "cancer = datasets.load_breast_cancer()"
   ]
  },
  {
   "cell_type": "markdown",
   "id": "b10d26ce",
   "metadata": {},
   "source": [
    "#### Features and labels"
   ]
  },
  {
   "cell_type": "code",
   "execution_count": 51,
   "id": "5833874c",
   "metadata": {},
   "outputs": [
    {
     "data": {
      "text/plain": [
       "array(['mean radius', 'mean texture', 'mean perimeter', 'mean area',\n",
       "       'mean smoothness', 'mean compactness', 'mean concavity',\n",
       "       'mean concave points', 'mean symmetry', 'mean fractal dimension',\n",
       "       'radius error', 'texture error', 'perimeter error', 'area error',\n",
       "       'smoothness error', 'compactness error', 'concavity error',\n",
       "       'concave points error', 'symmetry error',\n",
       "       'fractal dimension error', 'worst radius', 'worst texture',\n",
       "       'worst perimeter', 'worst area', 'worst smoothness',\n",
       "       'worst compactness', 'worst concavity', 'worst concave points',\n",
       "       'worst symmetry', 'worst fractal dimension'], dtype='<U23')"
      ]
     },
     "execution_count": 51,
     "metadata": {},
     "output_type": "execute_result"
    }
   ],
   "source": [
    "cancer.feature_names"
   ]
  },
  {
   "cell_type": "code",
   "execution_count": 52,
   "id": "ecb13c55",
   "metadata": {},
   "outputs": [
    {
     "data": {
      "text/plain": [
       "array(['malignant', 'benign'], dtype='<U9')"
      ]
     },
     "execution_count": 52,
     "metadata": {},
     "output_type": "execute_result"
    }
   ],
   "source": [
    "cancer.target_names"
   ]
  },
  {
   "cell_type": "markdown",
   "id": "f5473820",
   "metadata": {},
   "source": [
    "#### Splitting Data"
   ]
  },
  {
   "cell_type": "code",
   "execution_count": 53,
   "id": "84cfa169",
   "metadata": {},
   "outputs": [],
   "source": [
    "#all features\n",
    "x= cancer.data\n",
    "#labels\n",
    "y = cancer.target\n",
    "\n",
    "x_train,x_test,y_train,y_test = train_test_split(x,y,test_size = 0.2)"
   ]
  },
  {
   "cell_type": "markdown",
   "id": "68734e5b",
   "metadata": {},
   "source": [
    "#### printing test and train data"
   ]
  },
  {
   "cell_type": "code",
   "execution_count": 54,
   "id": "97b22907",
   "metadata": {},
   "outputs": [
    {
     "name": "stdout",
     "output_type": "stream",
     "text": [
      "[[1.174e+01 1.402e+01 7.424e+01 ... 8.290e-02 3.101e-01 6.688e-02]\n",
      " [1.660e+01 2.808e+01 1.083e+02 ... 1.418e-01 2.218e-01 7.820e-02]\n",
      " [1.546e+01 1.189e+01 1.025e+02 ... 1.827e-01 3.216e-01 1.010e-01]\n",
      " ...\n",
      " [1.426e+01 1.965e+01 9.783e+01 ... 1.505e-01 2.398e-01 1.082e-01]\n",
      " [1.065e+01 2.522e+01 6.801e+01 ... 6.136e-02 3.409e-01 8.147e-02]\n",
      " [2.742e+01 2.627e+01 1.869e+02 ... 2.625e-01 2.641e-01 7.427e-02]]\n",
      "[[1.490e+01 2.253e+01 1.021e+02 ... 2.475e-01 2.866e-01 1.155e-01]\n",
      " [1.486e+01 1.694e+01 9.489e+01 ... 7.971e-02 2.525e-01 6.827e-02]\n",
      " [1.585e+01 2.395e+01 1.037e+02 ... 1.119e-01 2.809e-01 6.287e-02]\n",
      " ...\n",
      " [1.145e+01 2.097e+01 7.381e+01 ... 6.127e-02 2.762e-01 8.851e-02]\n",
      " [1.164e+01 1.833e+01 7.517e+01 ... 1.218e-01 2.806e-01 9.097e-02]\n",
      " [1.005e+01 1.753e+01 6.441e+01 ... 6.499e-02 2.894e-01 7.664e-02]]\n",
      "[1 0 0 1 0 0 1 1 1 1 1 0 1 1 1 1 0 0 1 0 1 1 1 0 1 0 1 1 0 1 1 1 1 1 1 1 0\n",
      " 1 1 1 1 0 1 1 0 1 1 1 1 0 1 1 1 1 1 0 1 0 1 0 0 0 1 0 1 1 0 1 1 0 0 1 0 0\n",
      " 1 1 1 1 0 1 0 1 0 1 0 0 1 0 0 1 0 1 1 1 1 0 1 0 1 0 1 0 0 0 1 0 0 0 0 1 1\n",
      " 0 1 1 1 1 1 0 1 1 1 1 1 1 0 0 0 1 1 0 1 0 0 0 0 0 0 0 1 0 1 1 0 0 0 1 1 1\n",
      " 0 0 1 1 1 0 1 1 1 1 0 1 0 1 1 1 1 1 0 0 0 0 1 0 1 1 1 1 1 1 1 1 0 0 0 0 0\n",
      " 0 0 0 0 0 1 1 1 1 1 1 1 0 1 1 1 0 1 0 1 1 0 1 1 1 1 1 1 1 0 1 0 1 0 0 1 1\n",
      " 0 1 1 1 0 0 1 0 1 1 0 1 0 1 1 0 1 0 1 1 1 1 1 1 1 0 1 1 1 0 1 1 1 0 1 0 1\n",
      " 1 1 1 1 0 0 1 1 1 1 1 0 1 1 1 0 1 0 1 1 0 0 0 1 0 0 1 1 0 1 1 0 0 0 1 1 1\n",
      " 0 0 0 0 1 1 1 1 0 0 1 0 1 1 0 1 1 0 1 0 1 1 1 0 0 0 1 1 0 1 1 0 1 1 0 1 1\n",
      " 0 1 1 1 0 0 1 1 0 1 1 0 0 1 0 0 0 0 1 0 1 1 0 1 1 1 0 1 1 1 0 1 1 0 0 1 0\n",
      " 1 0 1 1 1 0 0 1 0 1 0 1 0 1 1 1 1 1 1 0 1 0 0 0 0 1 1 1 1 1 1 1 1 1 0 1 0\n",
      " 1 1 1 1 1 1 1 1 1 1 1 1 0 1 0 1 0 1 1 1 1 0 1 1 1 1 0 1 1 1 1 0 0 1 1 0 1\n",
      " 0 0 0 1 0 1 1 1 1 1 0]\n",
      "[0 1 0 1 1 1 1 1 1 1 1 1 1 1 1 0 0 1 1 1 1 0 0 1 0 1 0 1 0 1 1 1 1 0 1 0 1\n",
      " 1 0 1 1 0 0 0 1 0 0 1 0 1 0 1 1 0 0 0 1 1 0 0 1 1 1 1 1 1 1 0 1 1 1 0 1 0\n",
      " 1 1 1 0 1 1 0 0 1 1 1 1 0 0 1 1 0 1 1 1 1 0 1 1 1 0 0 1 0 1 1 1 0 1 1 1 1\n",
      " 1 1 1]\n"
     ]
    }
   ],
   "source": [
    "print(x_train)\n",
    "print(x_test)\n",
    "print(y_train)\n",
    "print(y_test)"
   ]
  },
  {
   "cell_type": "markdown",
   "id": "6bb6b3d6",
   "metadata": {},
   "source": []
  },
  {
   "cell_type": "code",
   "execution_count": 55,
   "id": "816d3945",
   "metadata": {},
   "outputs": [
    {
     "data": {
      "text/plain": [
       "SVC()"
      ]
     },
     "execution_count": 55,
     "metadata": {},
     "output_type": "execute_result"
    }
   ],
   "source": [
    "clf = svm.SVC()\n",
    "clf.fit(x_train, y_train)"
   ]
  },
  {
   "cell_type": "code",
   "execution_count": 56,
   "id": "10f13e62",
   "metadata": {},
   "outputs": [],
   "source": [
    "y_pred = clf.predict(x_test)"
   ]
  },
  {
   "cell_type": "markdown",
   "id": "7c9c9090",
   "metadata": {},
   "source": [
    "##### Accuracy"
   ]
  },
  {
   "cell_type": "code",
   "execution_count": 57,
   "id": "a868e92f",
   "metadata": {},
   "outputs": [
    {
     "data": {
      "text/plain": [
       "0.868421052631579"
      ]
     },
     "execution_count": 57,
     "metadata": {},
     "output_type": "execute_result"
    }
   ],
   "source": [
    "acc = metrics.accuracy_score(y_test,y_pred)\n",
    "acc"
   ]
  },
  {
   "cell_type": "markdown",
   "id": "5bb3fb35",
   "metadata": {},
   "source": [
    "##### Adding kernel"
   ]
  },
  {
   "cell_type": "code",
   "execution_count": 58,
   "id": "7e6839f5",
   "metadata": {},
   "outputs": [],
   "source": [
    "clf = svm.SVC(kernel = \"linear\")\n",
    "clf.fit(x_train, y_train)\n",
    "y_pred = clf.predict(x_test)"
   ]
  },
  {
   "cell_type": "code",
   "execution_count": 59,
   "id": "99a0fab1",
   "metadata": {},
   "outputs": [
    {
     "data": {
      "text/plain": [
       "0.956140350877193"
      ]
     },
     "execution_count": 59,
     "metadata": {},
     "output_type": "execute_result"
    }
   ],
   "source": [
    "acc = metrics.accuracy_score(y_test,y_pred)\n",
    "acc"
   ]
  },
  {
   "cell_type": "markdown",
   "id": "ef481512",
   "metadata": {},
   "source": [
    "#### KNN comparison"
   ]
  },
  {
   "cell_type": "code",
   "execution_count": 60,
   "id": "dd9b9f0c",
   "metadata": {},
   "outputs": [],
   "source": [
    "from sklearn.neighbors import KNeighborsClassifier\n",
    "clf = KNeighborsClassifier(n_neighbors=11)"
   ]
  },
  {
   "cell_type": "code",
   "execution_count": 61,
   "id": "e9ed8bb1",
   "metadata": {},
   "outputs": [],
   "source": [
    "clf.fit(x_train, y_train)\n",
    "y_pred = clf.predict(x_test)"
   ]
  },
  {
   "cell_type": "code",
   "execution_count": 62,
   "id": "1a49cc1e",
   "metadata": {},
   "outputs": [
    {
     "data": {
      "text/plain": [
       "0.8947368421052632"
      ]
     },
     "execution_count": 62,
     "metadata": {},
     "output_type": "execute_result"
    }
   ],
   "source": [
    "acc = metrics.accuracy_score(y_test,y_pred)\n",
    "acc"
   ]
  },
  {
   "cell_type": "code",
   "execution_count": null,
   "id": "19df66f7",
   "metadata": {},
   "outputs": [],
   "source": []
  },
  {
   "cell_type": "code",
   "execution_count": null,
   "id": "0bf71a17",
   "metadata": {},
   "outputs": [],
   "source": []
  },
  {
   "cell_type": "code",
   "execution_count": null,
   "id": "52246a5a",
   "metadata": {},
   "outputs": [],
   "source": []
  },
  {
   "cell_type": "code",
   "execution_count": null,
   "id": "3f64766f",
   "metadata": {},
   "outputs": [],
   "source": []
  },
  {
   "cell_type": "code",
   "execution_count": null,
   "id": "194be0b8",
   "metadata": {},
   "outputs": [],
   "source": []
  },
  {
   "cell_type": "code",
   "execution_count": null,
   "id": "8d486361",
   "metadata": {},
   "outputs": [],
   "source": []
  },
  {
   "cell_type": "code",
   "execution_count": null,
   "id": "3f0bd4dd",
   "metadata": {},
   "outputs": [],
   "source": []
  }
 ],
 "metadata": {
  "kernelspec": {
   "display_name": "Python 3 (ipykernel)",
   "language": "python",
   "name": "python3"
  },
  "language_info": {
   "codemirror_mode": {
    "name": "ipython",
    "version": 3
   },
   "file_extension": ".py",
   "mimetype": "text/x-python",
   "name": "python",
   "nbconvert_exporter": "python",
   "pygments_lexer": "ipython3",
   "version": "3.9.6"
  }
 },
 "nbformat": 4,
 "nbformat_minor": 5
}
