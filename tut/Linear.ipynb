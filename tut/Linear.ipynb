{
 "cells": [
  {
   "cell_type": "markdown",
   "id": "04a88dc6",
   "metadata": {},
   "source": [
    "## Importing libraries"
   ]
  },
  {
   "cell_type": "code",
   "execution_count": 2,
   "id": "b4979717",
   "metadata": {},
   "outputs": [],
   "source": [
    "import pandas as pd\n",
    "import numpy as np\n",
    "import sklearn\n",
    "#from sklearn import linear_model\n",
    "from sklearn.linear_model import LinearRegression\n",
    "from sklearn.utils import shuffle\n"
   ]
  },
  {
   "cell_type": "markdown",
   "id": "c14d84ff",
   "metadata": {},
   "source": [
    "### Loading data"
   ]
  },
  {
   "cell_type": "code",
   "execution_count": 3,
   "id": "8d093439",
   "metadata": {},
   "outputs": [
    {
     "data": {
      "text/html": [
       "<div>\n",
       "<style scoped>\n",
       "    .dataframe tbody tr th:only-of-type {\n",
       "        vertical-align: middle;\n",
       "    }\n",
       "\n",
       "    .dataframe tbody tr th {\n",
       "        vertical-align: top;\n",
       "    }\n",
       "\n",
       "    .dataframe thead th {\n",
       "        text-align: right;\n",
       "    }\n",
       "</style>\n",
       "<table border=\"1\" class=\"dataframe\">\n",
       "  <thead>\n",
       "    <tr style=\"text-align: right;\">\n",
       "      <th></th>\n",
       "      <th>school</th>\n",
       "      <th>sex</th>\n",
       "      <th>age</th>\n",
       "      <th>address</th>\n",
       "      <th>famsize</th>\n",
       "      <th>Pstatus</th>\n",
       "      <th>Medu</th>\n",
       "      <th>Fedu</th>\n",
       "      <th>Mjob</th>\n",
       "      <th>Fjob</th>\n",
       "      <th>...</th>\n",
       "      <th>famrel</th>\n",
       "      <th>freetime</th>\n",
       "      <th>goout</th>\n",
       "      <th>Dalc</th>\n",
       "      <th>Walc</th>\n",
       "      <th>health</th>\n",
       "      <th>absences</th>\n",
       "      <th>G1</th>\n",
       "      <th>G2</th>\n",
       "      <th>G3</th>\n",
       "    </tr>\n",
       "  </thead>\n",
       "  <tbody>\n",
       "    <tr>\n",
       "      <th>0</th>\n",
       "      <td>GP</td>\n",
       "      <td>F</td>\n",
       "      <td>18</td>\n",
       "      <td>U</td>\n",
       "      <td>GT3</td>\n",
       "      <td>A</td>\n",
       "      <td>4</td>\n",
       "      <td>4</td>\n",
       "      <td>at_home</td>\n",
       "      <td>teacher</td>\n",
       "      <td>...</td>\n",
       "      <td>4</td>\n",
       "      <td>3</td>\n",
       "      <td>4</td>\n",
       "      <td>1</td>\n",
       "      <td>1</td>\n",
       "      <td>3</td>\n",
       "      <td>6</td>\n",
       "      <td>5</td>\n",
       "      <td>6</td>\n",
       "      <td>6</td>\n",
       "    </tr>\n",
       "    <tr>\n",
       "      <th>1</th>\n",
       "      <td>GP</td>\n",
       "      <td>F</td>\n",
       "      <td>17</td>\n",
       "      <td>U</td>\n",
       "      <td>GT3</td>\n",
       "      <td>T</td>\n",
       "      <td>1</td>\n",
       "      <td>1</td>\n",
       "      <td>at_home</td>\n",
       "      <td>other</td>\n",
       "      <td>...</td>\n",
       "      <td>5</td>\n",
       "      <td>3</td>\n",
       "      <td>3</td>\n",
       "      <td>1</td>\n",
       "      <td>1</td>\n",
       "      <td>3</td>\n",
       "      <td>4</td>\n",
       "      <td>5</td>\n",
       "      <td>5</td>\n",
       "      <td>6</td>\n",
       "    </tr>\n",
       "    <tr>\n",
       "      <th>2</th>\n",
       "      <td>GP</td>\n",
       "      <td>F</td>\n",
       "      <td>15</td>\n",
       "      <td>U</td>\n",
       "      <td>LE3</td>\n",
       "      <td>T</td>\n",
       "      <td>1</td>\n",
       "      <td>1</td>\n",
       "      <td>at_home</td>\n",
       "      <td>other</td>\n",
       "      <td>...</td>\n",
       "      <td>4</td>\n",
       "      <td>3</td>\n",
       "      <td>2</td>\n",
       "      <td>2</td>\n",
       "      <td>3</td>\n",
       "      <td>3</td>\n",
       "      <td>10</td>\n",
       "      <td>7</td>\n",
       "      <td>8</td>\n",
       "      <td>10</td>\n",
       "    </tr>\n",
       "    <tr>\n",
       "      <th>3</th>\n",
       "      <td>GP</td>\n",
       "      <td>F</td>\n",
       "      <td>15</td>\n",
       "      <td>U</td>\n",
       "      <td>GT3</td>\n",
       "      <td>T</td>\n",
       "      <td>4</td>\n",
       "      <td>2</td>\n",
       "      <td>health</td>\n",
       "      <td>services</td>\n",
       "      <td>...</td>\n",
       "      <td>3</td>\n",
       "      <td>2</td>\n",
       "      <td>2</td>\n",
       "      <td>1</td>\n",
       "      <td>1</td>\n",
       "      <td>5</td>\n",
       "      <td>2</td>\n",
       "      <td>15</td>\n",
       "      <td>14</td>\n",
       "      <td>15</td>\n",
       "    </tr>\n",
       "    <tr>\n",
       "      <th>4</th>\n",
       "      <td>GP</td>\n",
       "      <td>F</td>\n",
       "      <td>16</td>\n",
       "      <td>U</td>\n",
       "      <td>GT3</td>\n",
       "      <td>T</td>\n",
       "      <td>3</td>\n",
       "      <td>3</td>\n",
       "      <td>other</td>\n",
       "      <td>other</td>\n",
       "      <td>...</td>\n",
       "      <td>4</td>\n",
       "      <td>3</td>\n",
       "      <td>2</td>\n",
       "      <td>1</td>\n",
       "      <td>2</td>\n",
       "      <td>5</td>\n",
       "      <td>4</td>\n",
       "      <td>6</td>\n",
       "      <td>10</td>\n",
       "      <td>10</td>\n",
       "    </tr>\n",
       "  </tbody>\n",
       "</table>\n",
       "<p>5 rows × 33 columns</p>\n",
       "</div>"
      ],
      "text/plain": [
       "  school sex  age address famsize Pstatus  Medu  Fedu     Mjob      Fjob  ...  \\\n",
       "0     GP   F   18       U     GT3       A     4     4  at_home   teacher  ...   \n",
       "1     GP   F   17       U     GT3       T     1     1  at_home     other  ...   \n",
       "2     GP   F   15       U     LE3       T     1     1  at_home     other  ...   \n",
       "3     GP   F   15       U     GT3       T     4     2   health  services  ...   \n",
       "4     GP   F   16       U     GT3       T     3     3    other     other  ...   \n",
       "\n",
       "  famrel freetime  goout  Dalc  Walc health absences  G1  G2  G3  \n",
       "0      4        3      4     1     1      3        6   5   6   6  \n",
       "1      5        3      3     1     1      3        4   5   5   6  \n",
       "2      4        3      2     2     3      3       10   7   8  10  \n",
       "3      3        2      2     1     1      5        2  15  14  15  \n",
       "4      4        3      2     1     2      5        4   6  10  10  \n",
       "\n",
       "[5 rows x 33 columns]"
      ]
     },
     "execution_count": 3,
     "metadata": {},
     "output_type": "execute_result"
    }
   ],
   "source": [
    "data = pd.read_csv(\"student-mat.csv\", sep=\";\")\n",
    "data.head()"
   ]
  },
  {
   "cell_type": "markdown",
   "id": "87dc6b37",
   "metadata": {},
   "source": [
    "### training and testing data"
   ]
  },
  {
   "cell_type": "code",
   "execution_count": 4,
   "id": "7ac4c0a2",
   "metadata": {},
   "outputs": [
    {
     "name": "stdout",
     "output_type": "stream",
     "text": [
      "(395, 6)\n"
     ]
    }
   ],
   "source": [
    "data = data[[\"G1\",\"G2\",\"G3\",\"studytime\",\"failures\",\"absences\"]]\n",
    "predict = \"G3\"\n",
    "print(data.shape)\n",
    "x = np.array(data.drop([predict], axis= 1))#features\n",
    "y = np.array(data[predict])#labels\n",
    "\n",
    "x_train,x_test,y_train,y_test = sklearn.model_selection.train_test_split(x,y,test_size = 0.3)\n"
   ]
  },
  {
   "cell_type": "markdown",
   "id": "6fc487e3",
   "metadata": {},
   "source": [
    "### Machine Learning model"
   ]
  },
  {
   "cell_type": "code",
   "execution_count": 5,
   "id": "b230f1fa",
   "metadata": {},
   "outputs": [],
   "source": [
    "linear = LinearRegression()"
   ]
  },
  {
   "cell_type": "markdown",
   "id": "a2d86563",
   "metadata": {},
   "source": [
    "#### fitting the model"
   ]
  },
  {
   "cell_type": "code",
   "execution_count": 6,
   "id": "416669d5",
   "metadata": {},
   "outputs": [
    {
     "data": {
      "text/plain": [
       "LinearRegression()"
      ]
     },
     "execution_count": 6,
     "metadata": {},
     "output_type": "execute_result"
    }
   ],
   "source": [
    "\n",
    "linear.fit(x_train,y_train)"
   ]
  },
  {
   "cell_type": "markdown",
   "id": "92b53651",
   "metadata": {},
   "source": [
    "#### accuracy"
   ]
  },
  {
   "cell_type": "code",
   "execution_count": 7,
   "id": "72a85248",
   "metadata": {},
   "outputs": [
    {
     "data": {
      "text/plain": [
       "0.7930747582241622"
      ]
     },
     "execution_count": 7,
     "metadata": {},
     "output_type": "execute_result"
    }
   ],
   "source": [
    "\n",
    "acc = linear.score(x_test,y_test)\n",
    "acc"
   ]
  },
  {
   "cell_type": "markdown",
   "id": "9dccac71",
   "metadata": {},
   "source": [
    "#### coefficient\n"
   ]
  },
  {
   "cell_type": "code",
   "execution_count": 8,
   "id": "8ed72ec3",
   "metadata": {},
   "outputs": [
    {
     "data": {
      "text/plain": [
       "array([ 0.13271135,  0.9840904 , -0.1861927 , -0.15231509,  0.02817815])"
      ]
     },
     "execution_count": 8,
     "metadata": {},
     "output_type": "execute_result"
    }
   ],
   "source": [
    "linear.coef_"
   ]
  },
  {
   "cell_type": "markdown",
   "id": "a6c86a39",
   "metadata": {},
   "source": [
    "#### intercept"
   ]
  },
  {
   "cell_type": "code",
   "execution_count": 9,
   "id": "3af1411d",
   "metadata": {},
   "outputs": [
    {
     "data": {
      "text/plain": [
       "-1.282606516246931"
      ]
     },
     "execution_count": 9,
     "metadata": {},
     "output_type": "execute_result"
    }
   ],
   "source": [
    "\n",
    "linear.intercept_"
   ]
  },
  {
   "cell_type": "code",
   "execution_count": 10,
   "id": "5a7280aa",
   "metadata": {},
   "outputs": [
    {
     "name": "stdout",
     "output_type": "stream",
     "text": [
      "15.043552980715011 [16 15  3  0  0] 15\n",
      "9.811930895239769 [10 10  1  0  4] 10\n",
      "14.910841628502583 [15 15  3  0  0] 15\n",
      "12.820558395132165 [10 13  1  0  6] 13\n",
      "12.677238128857528 [13 13  3  0  0] 13\n",
      "-0.9122051533482924 [7 0 3 0 0] 0\n",
      "14.885092973590874 [12 15  1  0  0] 15\n",
      "8.999784377227773 [11  9  2  0 12] 9\n",
      "8.376225092342017 [8 9 2 0 4] 10\n",
      "9.56938188731486 [10 10  2  0  2] 10\n",
      "11.246836782990878 [ 9 12  3  0  3] 11\n",
      "8.39909878884197 [10  9  3  0  2] 9\n",
      "13.049623530583117 [13 13  1  0  0] 12\n",
      "10.48286715659814 [11 11  4  0  8] 10\n",
      "12.677238128857528 [13 13  3  0  0] 14\n",
      "12.787075784570005 [12 13  2  0  2] 13\n",
      "9.056140684289888 [11  9  2  0 14] 9\n",
      "7.826626320343129 [10  8  2  0 10] 8\n",
      "7.2794220806076915 [8 8 2 0 0] 0\n",
      "15.15339063642749 [15 15  2  0  2] 14\n",
      "7.335778387669807 [8 8 2 0 2] 8\n",
      "12.045534394884822 [12 12  1  0  4] 13\n",
      "3.723220393977977 [6 5 3 1 0] 0\n",
      "13.847521227330418 [13 14  2  0  0] 15\n",
      "6.063811645710737 [8 7 2 3 8] 8\n",
      "10.231693273437974 [ 8 11  2  0  0] 11\n",
      "13.98023257954285 [14 14  2  0  0] 14\n",
      "10.908733906974092 [10 11  1  0  8] 10\n",
      "10.406512111447825 [10 11  4  0 10] 11\n",
      "5.361107781622357 [ 6  6  2  2 22] 4\n",
      "12.874485203574931 [13 13  3  0  7] 14\n",
      "16.179588519835 [16 16  4  0 12] 16\n",
      "7.48484857076795 [ 7  8  2  0 12] 8\n",
      "15.097034329365377 [15 15  2  0  0] 15\n",
      "15.762220673900243 [14 16  3  0  0] 16\n",
      "13.830397447653969 [13 14  3  0  6] 14\n",
      "11.78338165066057 [13 12  2  1  2] 12\n",
      "6.4644006041839415 [8 7 2 0 6] 9\n",
      "9.831559686326091 [11 10  2  1 12] 10\n",
      "8.97941569213769 [10  9  3  1 28] 9\n",
      "4.241826075176939 [ 6  5  1  3 16] 5\n",
      "9.36031548995211 [ 8 10  2  0  4] 10\n",
      "11.989178087822706 [12 12  1  0  2] 11\n",
      "5.212407545526092 [7 6 1 1 0] 0\n",
      "8.621649058678678 [9 9 2 0 8] 9\n",
      "14.964322977152944 [14 15  2  0  0] 15\n",
      "9.755574588177653 [10 10  1  0  2] 10\n",
      "9.834804591739722 [12 10  2  0  2] 11\n",
      "5.572963713037414 [6 7 2 3 0] 0\n",
      "6.7433071810827645 [ 7  7  1  0 14] 5\n",
      "15.511527216888384 [16 15  2  0 10] 15\n",
      "10.60982859198707 [10 11  2  0  4] 9\n",
      "8.810716717953225 [10  9  2  0 10] 10\n",
      "9.771933419063366 [ 8 10  1  0 12] 10\n",
      "10.553472284924954 [10 11  2  0  2] 11\n",
      "12.933666011045256 [12 13  1  1  6] 14\n",
      "7.065025822997281 [8 8 1 3 2] 10\n",
      "10.443634629212475 [11 11  3  0  0] 10\n",
      "15.556829150095888 [16 15  1  0  5] 16\n",
      "9.625738194376975 [10 10  2  0  4] 10\n",
      "10.827469406581532 [13 11  2  1  3] 11\n",
      "10.951606341562249 [13 11  2  0  2] 11\n",
      "12.623756780207165 [14 13  4  0  0] 14\n",
      "-0.8587238046979296 [6 0 2 0 0] 0\n",
      "9.36071049174097 [10 10  2  1  0] 0\n",
      "5.871929397596899 [ 7  6  1  0 18] 6\n",
      "15.017804325803306 [13 15  1  0  0] 15\n",
      "7.2794220806076915 [8 8 2 0 0] 0\n",
      "11.407726288734368 [10 12  3  0  4] 12\n",
      "16.34654743140033 [17 16  2  0  0] 16\n",
      "12.764202088070052 [10 13  1  0  4] 14\n",
      "14.033713928193214 [13 14  1  0  0] 14\n",
      "6.010305242273392 [7 7 2 1 0] 0\n",
      "8.64164779676688 [10  9  2  0  4] 11\n",
      "3.7909756186800188 [6 5 1 3 0] 0\n",
      "7.09610433815665 [9 8 4 0 2] 8\n",
      "14.33836916000374 [15 14  2  0  8] 14\n",
      "10.62982733007527 [11 11  2  0  0] 10\n",
      "12.989627316318511 [10 13  1  0 12] 12\n",
      "13.05249848899487 [14 13  2  0  2] 13\n",
      "16.09217910083008 [15 16  3  0  7] 15\n",
      "8.807841759541471 [9 9 1 0 8] 10\n",
      "8.130801126005354 [7 9 2 0 0] 8\n",
      "8.31095938740221 [ 8  8  1  0 30] 8\n",
      "9.436670535102428 [ 9 10  2  0  2] 9\n",
      "5.911161924982565 [ 7  6  2  0 26] 6\n",
      "17.696953824914175 [17 17  2  0 13] 17\n",
      "8.590595946735869 [8 9 1 0 5] 9\n",
      "5.970702767885848 [7 7 2 2 4] 9\n",
      "9.645736932465175 [11 10  2  0  0] 10\n",
      "15.23505013860891 [14 15  1  0  3] 16\n",
      "11.932056831969852 [10 12  2  0 16] 11\n",
      "10.686183637137386 [11 11  2  0  2] 11\n",
      "18.18201687440809 [16 18  2  0  0] 19\n",
      "5.838386417462277 [8 7 2 3 0] 0\n",
      "12.282778945778626 [14 12  1  0  3] 12\n",
      "10.742539944199502 [11 11  2  0  4] 11\n",
      "6.424342758435077 [5 8 2 3 0] 7\n",
      "12.141123229332601 [12 12  2  0 14] 12\n",
      "16.293066082749974 [18 16  3  0  0] 16\n",
      "12.654364432357575 [11 13  2  0  2] 14\n",
      "11.895699262995938 [11 12  2  0 10] 13\n",
      "17.197926476797996 [16 17  2  0  0] 17\n",
      "7.310449789333942 [9 8 1 3 6] 10\n",
      "10.25744192834968 [11 11  4  0  0] 11\n",
      "13.734833667993172 [15 14  3  2  4] 15\n",
      "5.818448048946536 [ 8  6  2  0 18] 7\n",
      "12.689092417858777 [16 12  1  0  8] 13\n",
      "9.247627930614863 [10 10  3  2  8] 10\n",
      "14.279137894529875 [14 14  1  0  4] 14\n",
      "9.114891523615448 [ 7 10  2  0  0] 11\n",
      "4.2671546735128025 [ 5  5  2  0 12] 5\n",
      "13.901002575980781 [12 14  1  0  0] 15\n",
      "11.800110428548159 [11 12  1  0  0] 10\n",
      "7.465614781470485 [8 8 1 0 0] 11\n",
      "11.721360851134394 [14 11  1  0 18] 13\n",
      "10.818894989349817 [12 11  2  0  2] 12\n",
      "16.270192386250017 [16 16  2  0  2] 16\n",
      "7.149585686807011 [8 8 3 0 2] 10\n"
     ]
    }
   ],
   "source": [
    "#predictions\n",
    "pred = linear.predict(x_test)\n",
    "for i in range(len(pred)):\n",
    "    print(pred[i], x_test[i],y_test[i])"
   ]
  },
  {
   "cell_type": "markdown",
   "id": "4cc388bc",
   "metadata": {},
   "source": [
    "### importing matplotlib and pickle"
   ]
  },
  {
   "cell_type": "code",
   "execution_count": 11,
   "id": "c844fe9e",
   "metadata": {},
   "outputs": [],
   "source": [
    "import pickle\n",
    "from matplotlib import style\n",
    "import matplotlib.pyplot as plt"
   ]
  },
  {
   "cell_type": "markdown",
   "id": "54587a94",
   "metadata": {},
   "source": [
    "### pickling"
   ]
  },
  {
   "cell_type": "code",
   "execution_count": 12,
   "id": "4c4d4514",
   "metadata": {},
   "outputs": [],
   "source": [
    "with open(\"stu.pickle\",\"wb\") as f:\n",
    "    pickle.dump(linear,f)"
   ]
  },
  {
   "cell_type": "markdown",
   "id": "361225b5",
   "metadata": {},
   "source": [
    "#### Loading our model"
   ]
  },
  {
   "cell_type": "code",
   "execution_count": 13,
   "id": "50603288",
   "metadata": {},
   "outputs": [],
   "source": [
    "pik = open('stu.pickle','rb')\n",
    "linear = pickle.load(pik)"
   ]
  },
  {
   "cell_type": "markdown",
   "id": "80c257e6",
   "metadata": {},
   "source": [
    "### Training multiple model"
   ]
  },
  {
   "cell_type": "code",
   "execution_count": 14,
   "id": "4527a3bd",
   "metadata": {},
   "outputs": [
    {
     "ename": "NameError",
     "evalue": "name 'linear_model' is not defined",
     "output_type": "error",
     "traceback": [
      "\u001b[1;31m---------------------------------------------------------------------------\u001b[0m",
      "\u001b[1;31mNameError\u001b[0m                                 Traceback (most recent call last)",
      "\u001b[1;32m~\\AppData\\Local\\Temp/ipykernel_12052/1037888062.py\u001b[0m in \u001b[0;36m<module>\u001b[1;34m\u001b[0m\n\u001b[0;32m      3\u001b[0m     \u001b[0mx_train\u001b[0m\u001b[1;33m,\u001b[0m \u001b[0mx_test\u001b[0m\u001b[1;33m,\u001b[0m \u001b[0my_train\u001b[0m\u001b[1;33m,\u001b[0m \u001b[0my_test\u001b[0m \u001b[1;33m=\u001b[0m \u001b[0msklearn\u001b[0m\u001b[1;33m.\u001b[0m\u001b[0mmodel_selection\u001b[0m\u001b[1;33m.\u001b[0m\u001b[0mtrain_test_split\u001b[0m\u001b[1;33m(\u001b[0m\u001b[0mx\u001b[0m\u001b[1;33m,\u001b[0m \u001b[0my\u001b[0m\u001b[1;33m,\u001b[0m \u001b[0mtest_size\u001b[0m\u001b[1;33m=\u001b[0m\u001b[1;36m0.2\u001b[0m\u001b[1;33m)\u001b[0m\u001b[1;33m\u001b[0m\u001b[1;33m\u001b[0m\u001b[0m\n\u001b[0;32m      4\u001b[0m \u001b[1;33m\u001b[0m\u001b[0m\n\u001b[1;32m----> 5\u001b[1;33m     \u001b[0mlinear\u001b[0m \u001b[1;33m=\u001b[0m \u001b[0mlinear_model\u001b[0m\u001b[1;33m.\u001b[0m\u001b[0mLinearRegression\u001b[0m\u001b[1;33m(\u001b[0m\u001b[1;33m)\u001b[0m\u001b[1;33m\u001b[0m\u001b[1;33m\u001b[0m\u001b[0m\n\u001b[0m\u001b[0;32m      6\u001b[0m \u001b[1;33m\u001b[0m\u001b[0m\n\u001b[0;32m      7\u001b[0m     \u001b[0mlinear\u001b[0m\u001b[1;33m.\u001b[0m\u001b[0mfit\u001b[0m\u001b[1;33m(\u001b[0m\u001b[0mx_train\u001b[0m\u001b[1;33m,\u001b[0m \u001b[0my_train\u001b[0m\u001b[1;33m)\u001b[0m\u001b[1;33m\u001b[0m\u001b[1;33m\u001b[0m\u001b[0m\n",
      "\u001b[1;31mNameError\u001b[0m: name 'linear_model' is not defined"
     ]
    }
   ],
   "source": [
    "best = 0\n",
    "for _ in range(100):\n",
    "    x_train, x_test, y_train, y_test = sklearn.model_selection.train_test_split(x, y, test_size=0.2)\n",
    "\n",
    "    linear = linear_model.LinearRegression()\n",
    "\n",
    "    linear.fit(x_train, y_train)\n",
    "    acc = linear.score(x_test, y_test)\n",
    "    print(\"Accuracy: \" + str(acc))\n",
    "    \n",
    "    # If the current model has a better score than one we've already trained then save it\n",
    "    if acc > best:\n",
    "        best = acc\n",
    "        with open(\"stu.pickle\", \"wb\") as f:\n",
    "            pickle.dump(linear, f)"
   ]
  },
  {
   "cell_type": "code",
   "execution_count": null,
   "id": "d723ec6e",
   "metadata": {},
   "outputs": [],
   "source": [
    "best"
   ]
  },
  {
   "cell_type": "markdown",
   "id": "e7a69825",
   "metadata": {},
   "source": [
    "### Plotting graph"
   ]
  },
  {
   "cell_type": "code",
   "execution_count": 15,
   "id": "535aa4b8",
   "metadata": {},
   "outputs": [
    {
     "data": {
      "image/png": "[encoded data removed]",
      "text/plain": [
       "<Figure size 432x288 with 1 Axes>"
      ]
     },
     "metadata": {
      "needs_background": "light"
     },
     "output_type": "display_data"
    }
   ],
   "source": [
    "plot = \"failures\"\n",
    "plt.scatter(data[plot], data[\"G3\"])\n",
    "#plt.legend(\"studentmarks\",loc = 4)\n",
    "plt.xlabel(plot)\n",
    "plt.ylabel(\"Final\")\n",
    "plt.show()"
   ]
  },
  {
   "cell_type": "code",
   "execution_count": null,
   "id": "6c31df96",
   "metadata": {},
   "outputs": [],
   "source": []
  },
  {
   "cell_type": "code",
   "execution_count": null,
   "id": "784764ae",
   "metadata": {},
   "outputs": [],
   "source": []
  }
 ],
 "metadata": {
  "kernelspec": {
   "display_name": "Python 3 (ipykernel)",
   "language": "python",
   "name": "python3"
  },
  "language_info": {
   "codemirror_mode": {
    "name": "ipython",
    "version": 3
   },
   "file_extension": ".py",
   "mimetype": "text/x-python",
   "name": "python",
   "nbconvert_exporter": "python",
   "pygments_lexer": "ipython3",
   "version": "3.9.6"
  }
 },
 "nbformat": 4,
 "nbformat_minor": 5
}
