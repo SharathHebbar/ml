{
 "cells": [
  {
   "cell_type": "code",
   "execution_count": 5,
   "metadata": {},
   "outputs": [
    {
     "name": "stdout",
     "output_type": "stream",
     "text": [
      "  buying  maint door persons lug_boot safety  class\n",
      "0  vhigh  vhigh    2       2    small    low  unacc\n",
      "1  vhigh  vhigh    2       2    small    med  unacc\n",
      "2  vhigh  vhigh    2       2    small   high  unacc\n",
      "3  vhigh  vhigh    2       2      med    low  unacc\n",
      "4  vhigh  vhigh    2       2      med    med  unacc\n",
      "0.8670520231213873\n"
     ]
    }
   ],
   "source": [
    "import sklearn\n",
    "from sklearn.utils import shuffle\n",
    "from sklearn.neighbors import KNeighborsClassifier\n",
    "import pandas as pd\n",
    "import numpy as np\n",
    "from sklearn import linear_model, preprocessing\n",
    "\n",
    "data = pd.read_csv(\"E:/sharathhebbar/works/ai/ML_tutorials/MachineLearning/knn/car.data\")\n",
    "print(data.head())\n",
    "\n",
    "le = preprocessing.LabelEncoder()\n",
    "buying = le.fit_transform(list(data[\"buying\"]))\n",
    "maint = le.fit_transform(list(data[\"maint\"]))\n",
    "door = le.fit_transform(list(data[\"door\"]))\n",
    "persons = le.fit_transform(list(data[\"persons\"]))\n",
    "lug_boot = le.fit_transform(list(data[\"lug_boot\"]))\n",
    "safety = le.fit_transform(list(data[\"safety\"]))\n",
    "cls = le.fit_transform(list(data[\"class\"]))\n",
    "\n",
    "predict = \"class\"  #optional\n",
    "\n",
    "X = list(zip(buying, maint, door, persons, lug_boot, safety))\n",
    "y = list(cls)\n",
    "\n",
    "x_train, x_test, y_train, y_test = sklearn.model_selection.train_test_split(X, y, test_size = 0.1)\n",
    "\n",
    "knn = KNeighborsClassifier()\n",
    "knn.fit(x_train, y_train)    \n",
    "acc = knn.score(x_test, y_test)\n",
    "\n",
    "print(\"Accuracy: \",acc)\n"
   ]
  },
  {
   "cell_type": "code",
   "execution_count": null,
   "metadata": {},
   "outputs": [],
   "source": []
  }
 ],
 "metadata": {
  "kernelspec": {
   "display_name": "Python 3",
   "language": "python",
   "name": "python3"
  },
  "language_info": {
   "codemirror_mode": {
    "name": "ipython",
    "version": 3
   },
   "file_extension": ".py",
   "mimetype": "text/x-python",
   "name": "python",
   "nbconvert_exporter": "python",
   "pygments_lexer": "ipython3",
   "version": "3.7.6"
  }
 },
 "nbformat": 4,
 "nbformat_minor": 4
}
