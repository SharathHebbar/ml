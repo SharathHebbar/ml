{
 "cells": [
  {
   "cell_type": "markdown",
   "id": "5d0da2c1",
   "metadata": {},
   "source": [
    "### Creating forest fire data"
   ]
  },
  {
   "cell_type": "code",
   "execution_count": 24,
   "id": "72702a8a",
   "metadata": {},
   "outputs": [],
   "source": []
  },
  {
   "cell_type": "code",
   "execution_count": 25,
   "id": "2e50edea",
   "metadata": {},
   "outputs": [
    {
     "data": {
      "text/plain": [
       "1"
      ]
     },
     "execution_count": 25,
     "metadata": {},
     "output_type": "execute_result"
    }
   ],
   "source": [
    " "
   ]
  },
  {
   "cell_type": "code",
   "execution_count": 30,
   "id": "c43e0c80",
   "metadata": {},
   "outputs": [],
   "source": [
    "file = open('forest.csv','w')\n",
    "file.write('Temperature,Humidity,Smoke,ForestFire')\n",
    "file.write(\"\\n\")\n",
    "import random\n",
    "for i in range(100):\n",
    "    temp = random.uniform(0,100)\n",
    "    humid = random.uniform(0,100)\n",
    "    smoke = random.uniform(0,500)\n",
    "    forestfire=\"\"\n",
    "    if(temp > 50):    \n",
    "        forestfire = \"yes\"\n",
    "    else:\n",
    "        forestfire = \"no\"\n",
    "    file.write(str(temp)+\",\"+str(humid)+\",\"+str(smoke)+\",\"+forestfire)\n",
    "    file.write(\"\\n\")"
   ]
  },
  {
   "cell_type": "code",
   "execution_count": null,
   "id": "e44433a9",
   "metadata": {},
   "outputs": [],
   "source": []
  },
  {
   "cell_type": "code",
   "execution_count": null,
   "id": "c757ed8f",
   "metadata": {},
   "outputs": [],
   "source": []
  },
  {
   "cell_type": "code",
   "execution_count": null,
   "id": "b0922439",
   "metadata": {},
   "outputs": [],
   "source": []
  }
 ],
 "metadata": {
  "kernelspec": {
   "display_name": "Python 3 (ipykernel)",
   "language": "python",
   "name": "python3"
  },
  "language_info": {
   "codemirror_mode": {
    "name": "ipython",
    "version": 3
   },
   "file_extension": ".py",
   "mimetype": "text/x-python",
   "name": "python",
   "nbconvert_exporter": "python",
   "pygments_lexer": "ipython3",
   "version": "3.9.6"
  }
 },
 "nbformat": 4,
 "nbformat_minor": 5
}
