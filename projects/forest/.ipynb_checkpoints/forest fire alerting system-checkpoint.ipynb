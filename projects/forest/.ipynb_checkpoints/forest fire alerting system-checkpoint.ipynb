{
 "cells": [
  {
   "cell_type": "markdown",
   "id": "8e5ee9f8",
   "metadata": {},
   "source": [
    "## Importing Modules"
   ]
  },
  {
   "cell_type": "code",
   "execution_count": 6,
   "id": "14878e37",
   "metadata": {},
   "outputs": [],
   "source": [
    "import numpy as np\n",
    "import pandas as pd\n",
    "\n",
    "from sklearn.model_selection import train_test_split\n",
    "from sklearn import metrics\n",
    "\n",
    "from sklearn.preprocessing import LabelEncoder"
   ]
  },
  {
   "cell_type": "markdown",
   "id": "ba624583",
   "metadata": {},
   "source": [
    "### Loading data set"
   ]
  },
  {
   "cell_type": "code",
   "execution_count": 5,
   "id": "b3de4dde",
   "metadata": {},
   "outputs": [
    {
     "data": {
      "text/html": [
       "<div>\n",
       "<style scoped>\n",
       "    .dataframe tbody tr th:only-of-type {\n",
       "        vertical-align: middle;\n",
       "    }\n",
       "\n",
       "    .dataframe tbody tr th {\n",
       "        vertical-align: top;\n",
       "    }\n",
       "\n",
       "    .dataframe thead th {\n",
       "        text-align: right;\n",
       "    }\n",
       "</style>\n",
       "<table border=\"1\" class=\"dataframe\">\n",
       "  <thead>\n",
       "    <tr style=\"text-align: right;\">\n",
       "      <th></th>\n",
       "      <th>Temperature</th>\n",
       "      <th>Humidity</th>\n",
       "      <th>Smoke</th>\n",
       "      <th>ForestFire</th>\n",
       "    </tr>\n",
       "  </thead>\n",
       "  <tbody>\n",
       "    <tr>\n",
       "      <th>0</th>\n",
       "      <td>58.304492</td>\n",
       "      <td>83.397985</td>\n",
       "      <td>346.893995</td>\n",
       "      <td>yes</td>\n",
       "    </tr>\n",
       "    <tr>\n",
       "      <th>1</th>\n",
       "      <td>29.099555</td>\n",
       "      <td>28.743238</td>\n",
       "      <td>274.974456</td>\n",
       "      <td>no</td>\n",
       "    </tr>\n",
       "    <tr>\n",
       "      <th>2</th>\n",
       "      <td>67.379053</td>\n",
       "      <td>75.673938</td>\n",
       "      <td>474.857040</td>\n",
       "      <td>yes</td>\n",
       "    </tr>\n",
       "    <tr>\n",
       "      <th>3</th>\n",
       "      <td>39.398075</td>\n",
       "      <td>2.974414</td>\n",
       "      <td>496.890775</td>\n",
       "      <td>no</td>\n",
       "    </tr>\n",
       "    <tr>\n",
       "      <th>4</th>\n",
       "      <td>40.008351</td>\n",
       "      <td>10.911680</td>\n",
       "      <td>72.361935</td>\n",
       "      <td>no</td>\n",
       "    </tr>\n",
       "    <tr>\n",
       "      <th>...</th>\n",
       "      <td>...</td>\n",
       "      <td>...</td>\n",
       "      <td>...</td>\n",
       "      <td>...</td>\n",
       "    </tr>\n",
       "    <tr>\n",
       "      <th>95</th>\n",
       "      <td>55.879146</td>\n",
       "      <td>62.522648</td>\n",
       "      <td>153.283832</td>\n",
       "      <td>yes</td>\n",
       "    </tr>\n",
       "    <tr>\n",
       "      <th>96</th>\n",
       "      <td>60.869731</td>\n",
       "      <td>91.210406</td>\n",
       "      <td>334.595201</td>\n",
       "      <td>yes</td>\n",
       "    </tr>\n",
       "    <tr>\n",
       "      <th>97</th>\n",
       "      <td>52.869256</td>\n",
       "      <td>90.675654</td>\n",
       "      <td>495.595008</td>\n",
       "      <td>yes</td>\n",
       "    </tr>\n",
       "    <tr>\n",
       "      <th>98</th>\n",
       "      <td>62.535283</td>\n",
       "      <td>19.670065</td>\n",
       "      <td>478.369073</td>\n",
       "      <td>yes</td>\n",
       "    </tr>\n",
       "    <tr>\n",
       "      <th>99</th>\n",
       "      <td>23.384593</td>\n",
       "      <td>11.269896</td>\n",
       "      <td>210.383503</td>\n",
       "      <td>no</td>\n",
       "    </tr>\n",
       "  </tbody>\n",
       "</table>\n",
       "<p>100 rows × 4 columns</p>\n",
       "</div>"
      ],
      "text/plain": [
       "    Temperature   Humidity       Smoke ForestFire\n",
       "0     58.304492  83.397985  346.893995        yes\n",
       "1     29.099555  28.743238  274.974456         no\n",
       "2     67.379053  75.673938  474.857040        yes\n",
       "3     39.398075   2.974414  496.890775         no\n",
       "4     40.008351  10.911680   72.361935         no\n",
       "..          ...        ...         ...        ...\n",
       "95    55.879146  62.522648  153.283832        yes\n",
       "96    60.869731  91.210406  334.595201        yes\n",
       "97    52.869256  90.675654  495.595008        yes\n",
       "98    62.535283  19.670065  478.369073        yes\n",
       "99    23.384593  11.269896  210.383503         no\n",
       "\n",
       "[100 rows x 4 columns]"
      ]
     },
     "execution_count": 5,
     "metadata": {},
     "output_type": "execute_result"
    }
   ],
   "source": [
    "data = pd.read_csv('forest.csv')\n",
    "data"
   ]
  },
  {
   "cell_type": "code",
   "execution_count": 9,
   "id": "b1814e4e",
   "metadata": {},
   "outputs": [
    {
     "name": "stdout",
     "output_type": "stream",
     "text": [
      "<class 'pandas.core.frame.DataFrame'>\n",
      "RangeIndex: 100 entries, 0 to 99\n",
      "Data columns (total 4 columns):\n",
      " #   Column       Non-Null Count  Dtype  \n",
      "---  ------       --------------  -----  \n",
      " 0   Temperature  100 non-null    float64\n",
      " 1   Humidity     100 non-null    float64\n",
      " 2   Smoke        100 non-null    float64\n",
      " 3   ForestFire   100 non-null    object \n",
      "dtypes: float64(3), object(1)\n",
      "memory usage: 3.2+ KB\n"
     ]
    }
   ],
   "source": [
    "data.info()"
   ]
  },
  {
   "cell_type": "markdown",
   "id": "31e61f10",
   "metadata": {},
   "source": [
    "### Data preprocessing"
   ]
  },
  {
   "cell_type": "code",
   "execution_count": 8,
   "id": "42804c0c",
   "metadata": {},
   "outputs": [],
   "source": [
    "le = LabelEncoder()\n",
    "\n",
    "temp = le.fit_transform(data['Temperature'])\n",
    "Humid = le.fit_transform(data['Humidity'])\n",
    "Smoke = le.fit_transform(data['Smoke'])\n",
    "op = le.fit_transform(data['ForestFire'])\n",
    "\n",
    "x = list(zip(temp,Humid,Smoke))\n",
    "\n",
    "y = list(op)\n"
   ]
  },
  {
   "cell_type": "code",
   "execution_count": 11,
   "id": "279f4ee3",
   "metadata": {},
   "outputs": [
    {
     "name": "stdout",
     "output_type": "stream",
     "text": [
      "[(56, 86, 64), (30, 33, 50), (64, 78, 90), (35, 3, 97), (37, 13, 15), (58, 7, 91), (8, 31, 65), (21, 5, 38), (10, 27, 69), (60, 65, 19), (95, 30, 75), (97, 9, 46), (9, 46, 51), (26, 32, 76), (50, 62, 11), (44, 48, 44), (28, 51, 2), (20, 26, 80), (29, 84, 68), (63, 94, 98), (33, 56, 61), (84, 80, 7), (14, 87, 74), (78, 82, 35), (17, 74, 58), (4, 45, 78), (27, 60, 36), (47, 97, 21), (62, 2, 27), (3, 81, 79), (51, 61, 85), (93, 57, 67), (7, 69, 29), (53, 6, 20), (5, 89, 40), (68, 59, 17), (65, 10, 59), (83, 72, 37), (54, 71, 57), (96, 43, 82), (38, 28, 41), (32, 83, 10), (72, 22, 63), (80, 88, 0), (74, 75, 87), (66, 52, 26), (1, 99, 32), (79, 0, 14), (82, 4, 9), (22, 12, 49), (57, 79, 71), (45, 63, 28), (77, 18, 24), (94, 55, 6), (48, 11, 12), (13, 93, 23), (25, 21, 89), (89, 8, 62), (39, 70, 99), (41, 29, 16), (46, 91, 8), (90, 95, 93), (31, 16, 31), (98, 50, 70), (12, 23, 33), (16, 85, 1), (69, 34, 4), (87, 64, 54), (99, 98, 43), (18, 76, 47), (71, 68, 72), (92, 77, 86), (42, 53, 73), (70, 41, 81), (15, 1, 55), (36, 19, 84), (86, 39, 52), (24, 44, 53), (0, 36, 66), (81, 96, 13), (23, 67, 18), (52, 24, 56), (43, 49, 77), (2, 25, 48), (34, 73, 45), (40, 54, 95), (11, 47, 88), (67, 38, 83), (88, 35, 25), (85, 15, 3), (91, 17, 42), (76, 42, 94), (6, 37, 5), (73, 40, 39), (75, 58, 30), (55, 66, 22), (59, 92, 60), (49, 90, 96), (61, 20, 92), (19, 14, 34)]\n",
      "[1, 0, 1, 0, 0, 1, 0, 0, 0, 1, 1, 1, 0, 0, 1, 0, 0, 0, 0, 1, 0, 1, 0, 1, 0, 0, 0, 1, 1, 0, 1, 1, 0, 1, 0, 1, 1, 1, 1, 1, 0, 0, 1, 1, 1, 1, 0, 1, 1, 0, 1, 0, 1, 1, 1, 0, 0, 1, 0, 0, 0, 1, 0, 1, 0, 0, 1, 1, 1, 0, 1, 1, 0, 1, 0, 0, 1, 0, 0, 1, 0, 1, 0, 0, 0, 0, 0, 1, 1, 1, 1, 1, 0, 1, 1, 1, 1, 1, 1, 0]\n"
     ]
    }
   ],
   "source": [
    "print(x)\n",
    "print(y)"
   ]
  },
  {
   "cell_type": "markdown",
   "id": "f5850d22",
   "metadata": {},
   "source": [
    "### KNN Algorithm"
   ]
  },
  {
   "cell_type": "code",
   "execution_count": 12,
   "id": "63e45c02",
   "metadata": {},
   "outputs": [],
   "source": [
    "from sklearn.neighbors import KNeighborsClassifier"
   ]
  },
  {
   "cell_type": "code",
   "execution_count": 13,
   "id": "9a391c7b",
   "metadata": {},
   "outputs": [
    {
     "data": {
      "text/plain": [
       "KNeighborsClassifier()"
      ]
     },
     "execution_count": 13,
     "metadata": {},
     "output_type": "execute_result"
    }
   ],
   "source": [
    "knn = KNeighborsClassifier()\n",
    "knn"
   ]
  },
  {
   "cell_type": "markdown",
   "id": "86537d0b",
   "metadata": {},
   "source": [
    "#### Fitting and prediction"
   ]
  },
  {
   "cell_type": "code",
   "execution_count": 14,
   "id": "0826f898",
   "metadata": {},
   "outputs": [],
   "source": [
    "x_train,x_test,y_train,y_test = train_test_split(x,y,test_size = 0.2)"
   ]
  },
  {
   "cell_type": "code",
   "execution_count": 15,
   "id": "47ac5e5d",
   "metadata": {},
   "outputs": [
    {
     "data": {
      "text/plain": [
       "KNeighborsClassifier()"
      ]
     },
     "execution_count": 15,
     "metadata": {},
     "output_type": "execute_result"
    }
   ],
   "source": [
    "knn.fit(x_train,y_train)"
   ]
  },
  {
   "cell_type": "markdown",
   "id": "7b09fe4c",
   "metadata": {},
   "source": [
    "### Accuracy"
   ]
  },
  {
   "cell_type": "code",
   "execution_count": 16,
   "id": "1179ae45",
   "metadata": {},
   "outputs": [
    {
     "data": {
      "text/plain": [
       "0.85"
      ]
     },
     "execution_count": 16,
     "metadata": {},
     "output_type": "execute_result"
    }
   ],
   "source": [
    "acc = knn.score(x_test,y_test)\n",
    "acc"
   ]
  },
  {
   "cell_type": "code",
   "execution_count": 17,
   "id": "97b244cb",
   "metadata": {},
   "outputs": [],
   "source": [
    "knn_y_pred = knn.predict(x_test)"
   ]
  },
  {
   "cell_type": "code",
   "execution_count": 21,
   "id": "8c02da7a",
   "metadata": {},
   "outputs": [
    {
     "data": {
      "text/plain": [
       "0.85"
      ]
     },
     "execution_count": 21,
     "metadata": {},
     "output_type": "execute_result"
    }
   ],
   "source": [
    "knn_acc = metrics.accuracy_score(knn_y_pred,y_test)\n",
    "knn_acc"
   ]
  },
  {
   "cell_type": "code",
   "execution_count": 23,
   "id": "3c5f4962",
   "metadata": {},
   "outputs": [],
   "source": [
    "d = {\n",
    "    0 : 'No',\n",
    "    1 : 'Yes'\n",
    "}"
   ]
  },
  {
   "cell_type": "code",
   "execution_count": 26,
   "id": "abc78f16",
   "metadata": {},
   "outputs": [
    {
     "name": "stdout",
     "output_type": "stream",
     "text": [
      "No (44, 48, 44) No same\n",
      "Yes (97, 9, 46) Yes same\n",
      "No (25, 21, 89) No same\n",
      "No (47, 97, 21) Yes diff\n",
      "Yes (92, 77, 86) Yes same\n",
      "No (17, 74, 58) No same\n",
      "No (3, 81, 79) No same\n",
      "No (12, 23, 33) No same\n",
      "No (31, 16, 31) No same\n",
      "Yes (45, 63, 28) No diff\n",
      "Yes (67, 38, 83) Yes same\n",
      "Yes (64, 78, 90) Yes same\n",
      "No (19, 14, 34) No same\n",
      "Yes (37, 13, 15) No diff\n",
      "No (23, 67, 18) No same\n",
      "Yes (77, 18, 24) Yes same\n",
      "Yes (60, 65, 19) Yes same\n",
      "Yes (56, 86, 64) Yes same\n",
      "No (16, 85, 1) No same\n",
      "No (15, 1, 55) No same\n"
     ]
    }
   ],
   "source": [
    "z = knn_y_pred\n",
    "for i in range(len(z)):\n",
    "    a = \"\"\n",
    "    if(d[z[i]] == d[y_test[i]]):\n",
    "        a = \"same\"\n",
    "    else:\n",
    "        a = \"diff\"\n",
    "    print(d[z[i]],x_test[i],d[y_test[i]],a)"
   ]
  },
  {
   "cell_type": "code",
   "execution_count": null,
   "id": "b68cfcaa",
   "metadata": {},
   "outputs": [],
   "source": []
  }
 ],
 "metadata": {
  "kernelspec": {
   "display_name": "Python 3 (ipykernel)",
   "language": "python",
   "name": "python3"
  },
  "language_info": {
   "codemirror_mode": {
    "name": "ipython",
    "version": 3
   },
   "file_extension": ".py",
   "mimetype": "text/x-python",
   "name": "python",
   "nbconvert_exporter": "python",
   "pygments_lexer": "ipython3",
   "version": "3.9.6"
  }
 },
 "nbformat": 4,
 "nbformat_minor": 5
}
