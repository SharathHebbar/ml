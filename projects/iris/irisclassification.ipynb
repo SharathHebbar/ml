{
 "cells": [
  {
   "cell_type": "markdown",
   "id": "5be6faf1",
   "metadata": {},
   "source": [
    "## Importing libraries"
   ]
  },
  {
   "cell_type": "code",
   "execution_count": 317,
   "id": "f507702f",
   "metadata": {},
   "outputs": [],
   "source": [
    "import pandas as pd\n",
    "import numpy as np\n",
    "\n",
    "from sklearn.model_selection import train_test_split\n",
    "\n",
    "from sklearn.preprocessing import LabelEncoder\n",
    "\n",
    "import matplotlib.pyplot as plt"
   ]
  },
  {
   "cell_type": "markdown",
   "id": "4f3b27c1",
   "metadata": {},
   "source": [
    "### Loading datasets"
   ]
  },
  {
   "cell_type": "code",
   "execution_count": 318,
   "id": "26afda7a",
   "metadata": {},
   "outputs": [
    {
     "data": {
      "text/html": [
       "<div>\n",
       "<style scoped>\n",
       "    .dataframe tbody tr th:only-of-type {\n",
       "        vertical-align: middle;\n",
       "    }\n",
       "\n",
       "    .dataframe tbody tr th {\n",
       "        vertical-align: top;\n",
       "    }\n",
       "\n",
       "    .dataframe thead th {\n",
       "        text-align: right;\n",
       "    }\n",
       "</style>\n",
       "<table border=\"1\" class=\"dataframe\">\n",
       "  <thead>\n",
       "    <tr style=\"text-align: right;\">\n",
       "      <th></th>\n",
       "      <th>sepal-length</th>\n",
       "      <th>sepal-width</th>\n",
       "      <th>petal-length</th>\n",
       "      <th>petal-width</th>\n",
       "      <th>class</th>\n",
       "    </tr>\n",
       "  </thead>\n",
       "  <tbody>\n",
       "    <tr>\n",
       "      <th>0</th>\n",
       "      <td>5.1</td>\n",
       "      <td>3.5</td>\n",
       "      <td>1.4</td>\n",
       "      <td>0.2</td>\n",
       "      <td>Iris-setosa</td>\n",
       "    </tr>\n",
       "    <tr>\n",
       "      <th>1</th>\n",
       "      <td>4.9</td>\n",
       "      <td>3.0</td>\n",
       "      <td>1.4</td>\n",
       "      <td>0.2</td>\n",
       "      <td>Iris-setosa</td>\n",
       "    </tr>\n",
       "    <tr>\n",
       "      <th>2</th>\n",
       "      <td>4.7</td>\n",
       "      <td>3.2</td>\n",
       "      <td>1.3</td>\n",
       "      <td>0.2</td>\n",
       "      <td>Iris-setosa</td>\n",
       "    </tr>\n",
       "    <tr>\n",
       "      <th>3</th>\n",
       "      <td>4.6</td>\n",
       "      <td>3.1</td>\n",
       "      <td>1.5</td>\n",
       "      <td>0.2</td>\n",
       "      <td>Iris-setosa</td>\n",
       "    </tr>\n",
       "    <tr>\n",
       "      <th>4</th>\n",
       "      <td>5.0</td>\n",
       "      <td>3.6</td>\n",
       "      <td>1.4</td>\n",
       "      <td>0.2</td>\n",
       "      <td>Iris-setosa</td>\n",
       "    </tr>\n",
       "  </tbody>\n",
       "</table>\n",
       "</div>"
      ],
      "text/plain": [
       "   sepal-length  sepal-width  petal-length  petal-width        class\n",
       "0           5.1          3.5           1.4          0.2  Iris-setosa\n",
       "1           4.9          3.0           1.4          0.2  Iris-setosa\n",
       "2           4.7          3.2           1.3          0.2  Iris-setosa\n",
       "3           4.6          3.1           1.5          0.2  Iris-setosa\n",
       "4           5.0          3.6           1.4          0.2  Iris-setosa"
      ]
     },
     "execution_count": 318,
     "metadata": {},
     "output_type": "execute_result"
    }
   ],
   "source": [
    "data = pd.read_csv(\"iris.csv\", sep = ',')\n",
    "data.head()"
   ]
  },
  {
   "cell_type": "markdown",
   "id": "c2d13530",
   "metadata": {},
   "source": [
    "#### details of the data"
   ]
  },
  {
   "cell_type": "code",
   "execution_count": 319,
   "id": "9f334651",
   "metadata": {},
   "outputs": [
    {
     "data": {
      "text/plain": [
       "(150, 5)"
      ]
     },
     "execution_count": 319,
     "metadata": {},
     "output_type": "execute_result"
    }
   ],
   "source": [
    "data.shape"
   ]
  },
  {
   "cell_type": "code",
   "execution_count": 320,
   "id": "17c15374",
   "metadata": {},
   "outputs": [
    {
     "name": "stdout",
     "output_type": "stream",
     "text": [
      "<class 'pandas.core.frame.DataFrame'>\n",
      "RangeIndex: 150 entries, 0 to 149\n",
      "Data columns (total 5 columns):\n",
      " #   Column        Non-Null Count  Dtype  \n",
      "---  ------        --------------  -----  \n",
      " 0   sepal-length  150 non-null    float64\n",
      " 1   sepal-width   150 non-null    float64\n",
      " 2   petal-length  150 non-null    float64\n",
      " 3   petal-width   150 non-null    float64\n",
      " 4   class         150 non-null    object \n",
      "dtypes: float64(4), object(1)\n",
      "memory usage: 6.0+ KB\n"
     ]
    }
   ],
   "source": [
    "data.info()"
   ]
  },
  {
   "cell_type": "code",
   "execution_count": 321,
   "id": "ebfd39c3",
   "metadata": {},
   "outputs": [
    {
     "data": {
      "text/html": [
       "<div>\n",
       "<style scoped>\n",
       "    .dataframe tbody tr th:only-of-type {\n",
       "        vertical-align: middle;\n",
       "    }\n",
       "\n",
       "    .dataframe tbody tr th {\n",
       "        vertical-align: top;\n",
       "    }\n",
       "\n",
       "    .dataframe thead th {\n",
       "        text-align: right;\n",
       "    }\n",
       "</style>\n",
       "<table border=\"1\" class=\"dataframe\">\n",
       "  <thead>\n",
       "    <tr style=\"text-align: right;\">\n",
       "      <th></th>\n",
       "      <th>sepal-length</th>\n",
       "      <th>sepal-width</th>\n",
       "      <th>petal-length</th>\n",
       "      <th>petal-width</th>\n",
       "    </tr>\n",
       "  </thead>\n",
       "  <tbody>\n",
       "    <tr>\n",
       "      <th>count</th>\n",
       "      <td>150.000000</td>\n",
       "      <td>150.000000</td>\n",
       "      <td>150.000000</td>\n",
       "      <td>150.000000</td>\n",
       "    </tr>\n",
       "    <tr>\n",
       "      <th>mean</th>\n",
       "      <td>5.843333</td>\n",
       "      <td>3.054000</td>\n",
       "      <td>3.758667</td>\n",
       "      <td>1.198667</td>\n",
       "    </tr>\n",
       "    <tr>\n",
       "      <th>std</th>\n",
       "      <td>0.828066</td>\n",
       "      <td>0.433594</td>\n",
       "      <td>1.764420</td>\n",
       "      <td>0.763161</td>\n",
       "    </tr>\n",
       "    <tr>\n",
       "      <th>min</th>\n",
       "      <td>4.300000</td>\n",
       "      <td>2.000000</td>\n",
       "      <td>1.000000</td>\n",
       "      <td>0.100000</td>\n",
       "    </tr>\n",
       "    <tr>\n",
       "      <th>25%</th>\n",
       "      <td>5.100000</td>\n",
       "      <td>2.800000</td>\n",
       "      <td>1.600000</td>\n",
       "      <td>0.300000</td>\n",
       "    </tr>\n",
       "    <tr>\n",
       "      <th>50%</th>\n",
       "      <td>5.800000</td>\n",
       "      <td>3.000000</td>\n",
       "      <td>4.350000</td>\n",
       "      <td>1.300000</td>\n",
       "    </tr>\n",
       "    <tr>\n",
       "      <th>75%</th>\n",
       "      <td>6.400000</td>\n",
       "      <td>3.300000</td>\n",
       "      <td>5.100000</td>\n",
       "      <td>1.800000</td>\n",
       "    </tr>\n",
       "    <tr>\n",
       "      <th>max</th>\n",
       "      <td>7.900000</td>\n",
       "      <td>4.400000</td>\n",
       "      <td>6.900000</td>\n",
       "      <td>2.500000</td>\n",
       "    </tr>\n",
       "  </tbody>\n",
       "</table>\n",
       "</div>"
      ],
      "text/plain": [
       "       sepal-length  sepal-width  petal-length  petal-width\n",
       "count    150.000000   150.000000    150.000000   150.000000\n",
       "mean       5.843333     3.054000      3.758667     1.198667\n",
       "std        0.828066     0.433594      1.764420     0.763161\n",
       "min        4.300000     2.000000      1.000000     0.100000\n",
       "25%        5.100000     2.800000      1.600000     0.300000\n",
       "50%        5.800000     3.000000      4.350000     1.300000\n",
       "75%        6.400000     3.300000      5.100000     1.800000\n",
       "max        7.900000     4.400000      6.900000     2.500000"
      ]
     },
     "execution_count": 321,
     "metadata": {},
     "output_type": "execute_result"
    }
   ],
   "source": [
    "data.describe()"
   ]
  },
  {
   "cell_type": "markdown",
   "id": "994551f3",
   "metadata": {},
   "source": [
    "### Label Encoding"
   ]
  },
  {
   "cell_type": "code",
   "execution_count": 322,
   "id": "104dc4e3",
   "metadata": {},
   "outputs": [],
   "source": [
    "l_enc = LabelEncoder()\n"
   ]
  },
  {
   "cell_type": "code",
   "execution_count": 323,
   "id": "b73c814f",
   "metadata": {},
   "outputs": [
    {
     "name": "stdout",
     "output_type": "stream",
     "text": [
      "Iris-setosa 0\n",
      "Iris-setosa 0\n",
      "Iris-setosa 0\n",
      "Iris-setosa 0\n",
      "Iris-setosa 0\n",
      "Iris-setosa 0\n",
      "Iris-setosa 0\n",
      "Iris-setosa 0\n",
      "Iris-setosa 0\n",
      "Iris-setosa 0\n",
      "Iris-setosa 0\n",
      "Iris-setosa 0\n",
      "Iris-setosa 0\n",
      "Iris-setosa 0\n",
      "Iris-setosa 0\n",
      "Iris-setosa 0\n",
      "Iris-setosa 0\n",
      "Iris-setosa 0\n",
      "Iris-setosa 0\n",
      "Iris-setosa 0\n",
      "Iris-setosa 0\n",
      "Iris-setosa 0\n",
      "Iris-setosa 0\n",
      "Iris-setosa 0\n",
      "Iris-setosa 0\n",
      "Iris-setosa 0\n",
      "Iris-setosa 0\n",
      "Iris-setosa 0\n",
      "Iris-setosa 0\n",
      "Iris-setosa 0\n",
      "Iris-setosa 0\n",
      "Iris-setosa 0\n",
      "Iris-setosa 0\n",
      "Iris-setosa 0\n",
      "Iris-setosa 0\n",
      "Iris-setosa 0\n",
      "Iris-setosa 0\n",
      "Iris-setosa 0\n",
      "Iris-setosa 0\n",
      "Iris-setosa 0\n",
      "Iris-setosa 0\n",
      "Iris-setosa 0\n",
      "Iris-setosa 0\n",
      "Iris-setosa 0\n",
      "Iris-setosa 0\n",
      "Iris-setosa 0\n",
      "Iris-setosa 0\n",
      "Iris-setosa 0\n",
      "Iris-setosa 0\n",
      "Iris-setosa 0\n",
      "Iris-versicolor 1\n",
      "Iris-versicolor 1\n",
      "Iris-versicolor 1\n",
      "Iris-versicolor 1\n",
      "Iris-versicolor 1\n",
      "Iris-versicolor 1\n",
      "Iris-versicolor 1\n",
      "Iris-versicolor 1\n",
      "Iris-versicolor 1\n",
      "Iris-versicolor 1\n",
      "Iris-versicolor 1\n",
      "Iris-versicolor 1\n",
      "Iris-versicolor 1\n",
      "Iris-versicolor 1\n",
      "Iris-versicolor 1\n",
      "Iris-versicolor 1\n",
      "Iris-versicolor 1\n",
      "Iris-versicolor 1\n",
      "Iris-versicolor 1\n",
      "Iris-versicolor 1\n",
      "Iris-versicolor 1\n",
      "Iris-versicolor 1\n",
      "Iris-versicolor 1\n",
      "Iris-versicolor 1\n",
      "Iris-versicolor 1\n",
      "Iris-versicolor 1\n",
      "Iris-versicolor 1\n",
      "Iris-versicolor 1\n",
      "Iris-versicolor 1\n",
      "Iris-versicolor 1\n",
      "Iris-versicolor 1\n",
      "Iris-versicolor 1\n",
      "Iris-versicolor 1\n",
      "Iris-versicolor 1\n",
      "Iris-versicolor 1\n",
      "Iris-versicolor 1\n",
      "Iris-versicolor 1\n",
      "Iris-versicolor 1\n",
      "Iris-versicolor 1\n",
      "Iris-versicolor 1\n",
      "Iris-versicolor 1\n",
      "Iris-versicolor 1\n",
      "Iris-versicolor 1\n",
      "Iris-versicolor 1\n",
      "Iris-versicolor 1\n",
      "Iris-versicolor 1\n",
      "Iris-versicolor 1\n",
      "Iris-versicolor 1\n",
      "Iris-versicolor 1\n",
      "Iris-versicolor 1\n",
      "Iris-virginica 2\n",
      "Iris-virginica 2\n",
      "Iris-virginica 2\n",
      "Iris-virginica 2\n",
      "Iris-virginica 2\n",
      "Iris-virginica 2\n",
      "Iris-virginica 2\n",
      "Iris-virginica 2\n",
      "Iris-virginica 2\n",
      "Iris-virginica 2\n",
      "Iris-virginica 2\n",
      "Iris-virginica 2\n",
      "Iris-virginica 2\n",
      "Iris-virginica 2\n",
      "Iris-virginica 2\n",
      "Iris-virginica 2\n",
      "Iris-virginica 2\n",
      "Iris-virginica 2\n",
      "Iris-virginica 2\n",
      "Iris-virginica 2\n",
      "Iris-virginica 2\n",
      "Iris-virginica 2\n",
      "Iris-virginica 2\n",
      "Iris-virginica 2\n",
      "Iris-virginica 2\n",
      "Iris-virginica 2\n",
      "Iris-virginica 2\n",
      "Iris-virginica 2\n",
      "Iris-virginica 2\n",
      "Iris-virginica 2\n",
      "Iris-virginica 2\n",
      "Iris-virginica 2\n",
      "Iris-virginica 2\n",
      "Iris-virginica 2\n",
      "Iris-virginica 2\n",
      "Iris-virginica 2\n",
      "Iris-virginica 2\n",
      "Iris-virginica 2\n",
      "Iris-virginica 2\n",
      "Iris-virginica 2\n",
      "Iris-virginica 2\n",
      "Iris-virginica 2\n",
      "Iris-virginica 2\n",
      "Iris-virginica 2\n",
      "Iris-virginica 2\n",
      "Iris-virginica 2\n",
      "Iris-virginica 2\n",
      "Iris-virginica 2\n",
      "Iris-virginica 2\n",
      "Iris-virginica 2\n"
     ]
    }
   ],
   "source": [
    "s_len = l_enc.fit_transform(data['sepal-length'])\n",
    "s_wid = l_enc.fit_transform(data['sepal-width'])\n",
    "p_len = l_enc.fit_transform(data['petal-length'])\n",
    "p_wid = l_enc.fit_transform(data['petal-width'])\n",
    "cls = l_enc.fit_transform(data['class'])\n",
    "for i in range(len(cls)):\n",
    "    print(data['class'][i],cls[i])"
   ]
  },
  {
   "cell_type": "markdown",
   "id": "f4916c3d",
   "metadata": {},
   "source": [
    "### Zip all the details to one list"
   ]
  },
  {
   "cell_type": "code",
   "execution_count": 324,
   "id": "f342e9ad",
   "metadata": {},
   "outputs": [],
   "source": [
    "x = list(zip(s_len,s_wid,p_len,p_wid))\n",
    "y = list(cls)"
   ]
  },
  {
   "cell_type": "markdown",
   "id": "489b0832",
   "metadata": {},
   "source": [
    "### Training data"
   ]
  },
  {
   "cell_type": "code",
   "execution_count": 325,
   "id": "23a69ff0",
   "metadata": {},
   "outputs": [],
   "source": [
    "x_train,x_test,y_train,y_test = train_test_split(x,y,test_size = 0.2)"
   ]
  },
  {
   "cell_type": "code",
   "execution_count": 326,
   "id": "a87ddbab",
   "metadata": {},
   "outputs": [],
   "source": [
    "d = {\n",
    "    0 :'Iris-setosa',\n",
    "    1 : 'Iris-versicolor',\n",
    "    2 :'Iris-virginica'\n",
    "}"
   ]
  },
  {
   "cell_type": "markdown",
   "id": "72b401c8",
   "metadata": {},
   "source": [
    "# Linear Regression"
   ]
  },
  {
   "cell_type": "code",
   "execution_count": 327,
   "id": "536481f9",
   "metadata": {},
   "outputs": [],
   "source": [
    "from sklearn.linear_model import LinearRegression"
   ]
  },
  {
   "cell_type": "code",
   "execution_count": 328,
   "id": "b53776e7",
   "metadata": {},
   "outputs": [
    {
     "data": {
      "text/plain": [
       "LinearRegression()"
      ]
     },
     "execution_count": 328,
     "metadata": {},
     "output_type": "execute_result"
    }
   ],
   "source": [
    "linear = LinearRegression()\n",
    "linear.fit(x_train,y_train)"
   ]
  },
  {
   "cell_type": "code",
   "execution_count": 329,
   "id": "941e7e2a",
   "metadata": {},
   "outputs": [
    {
     "data": {
      "text/plain": [
       "array([-0.01213254, -0.02161165,  0.03460843,  0.06875811])"
      ]
     },
     "execution_count": 329,
     "metadata": {},
     "output_type": "execute_result"
    }
   ],
   "source": [
    "linear.coef_"
   ]
  },
  {
   "cell_type": "code",
   "execution_count": 330,
   "id": "08622f30",
   "metadata": {},
   "outputs": [
    {
     "data": {
      "text/plain": [
       "0.13000153493431787"
      ]
     },
     "execution_count": 330,
     "metadata": {},
     "output_type": "execute_result"
    }
   ],
   "source": [
    "linear.intercept_"
   ]
  },
  {
   "cell_type": "markdown",
   "id": "6206ae2e",
   "metadata": {},
   "source": [
    "##### Accuracy"
   ]
  },
  {
   "cell_type": "code",
   "execution_count": 331,
   "id": "1fa6d562",
   "metadata": {},
   "outputs": [
    {
     "data": {
      "text/plain": [
       "0.930399136559098"
      ]
     },
     "execution_count": 331,
     "metadata": {},
     "output_type": "execute_result"
    }
   ],
   "source": [
    "acc = linear.score(x_test,y_test)\n",
    "acc"
   ]
  },
  {
   "cell_type": "code",
   "execution_count": 332,
   "id": "a6b3ad78",
   "metadata": {},
   "outputs": [],
   "source": [
    "predict = linear.predict(x_test)"
   ]
  },
  {
   "cell_type": "code",
   "execution_count": 333,
   "id": "ffad54ce",
   "metadata": {
    "scrolled": true
   },
   "outputs": [
    {
     "name": "stdout",
     "output_type": "stream",
     "text": [
      "Iris-versicolor (21, 11, 21, 11) Iris-versicolor same\n",
      "Iris-versicolor (22, 7, 22, 11) Iris-versicolor same\n",
      "Iris-setosa (0, 9, 1, 0) Iris-setosa same\n",
      "Iris-versicolor (11, 9, 21, 11) Iris-versicolor same\n",
      "Iris-virginica (24, 4, 34, 14) Iris-virginica same\n",
      "Iris-setosa (5, 9, 4, 2) Iris-setosa same\n",
      "Iris-setosa (11, 13, 5, 3) Iris-setosa same\n",
      "Iris-versicolor (23, 9, 20, 10) Iris-versicolor same\n",
      "Iris-versicolor (17, 1, 16, 6) Iris-versicolor same\n",
      "Iris-virginica (26, 10, 27, 19) Iris-virginica same\n",
      "Iris-virginica (22, 9, 34, 18) Iris-virginica same\n",
      "Iris-virginica (24, 9, 28, 19) Iris-virginica same\n",
      "Iris-virginica (17, 1, 26, 11) Iris-virginica same\n",
      "Iris-versicolor (20, 7, 27, 11) Iris-virginica diff\n",
      "Iris-setosa (7, 9, 6, 1) Iris-setosa same\n",
      "Iris-setosa (6, 10, 5, 0) Iris-setosa same\n",
      "Iris-setosa (1, 8, 4, 1) Iris-setosa same\n",
      "Iris-virginica (18, 9, 25, 14) Iris-virginica same\n",
      "Iris-versicolor (13, 9, 17, 9) Iris-versicolor same\n",
      "Iris-setosa (11, 13, 7, 1) Iris-setosa same\n",
      "Iris-setosa (4, 11, 3, 1) Iris-setosa same\n",
      "Iris-versicolor (6, 3, 10, 6) Iris-versicolor same\n",
      "Iris-virginica (16, 9, 27, 14) Iris-virginica same\n",
      "Iris-setosa (9, 13, 4, 1) Iris-setosa same\n",
      "Iris-virginica (25, 9, 31, 17) Iris-virginica same\n",
      "Iris-virginica (29, 11, 36, 14) Iris-virginica same\n",
      "Iris-setosa (15, 19, 2, 1) Iris-setosa same\n",
      "Iris-versicolor (19, 8, 19, 9) Iris-versicolor same\n",
      "Iris-versicolor (7, 2, 10, 6) Iris-versicolor same\n",
      "Iris-virginica (21, 7, 32, 17) Iris-virginica same\n"
     ]
    }
   ],
   "source": [
    "\n",
    "for i in range(len(predict)):\n",
    "    z = predict[i].round()\n",
    "    a = \"\"\n",
    "    if(d[z] == d[y_test[i]]):\n",
    "        a = \"same\"\n",
    "    else:\n",
    "        a = \"diff\"\n",
    "    print(d[z],x_test[i],d[y_test[i]],a)\n",
    "    \n"
   ]
  },
  {
   "cell_type": "markdown",
   "id": "daac3a1d",
   "metadata": {},
   "source": [
    "# SVM"
   ]
  },
  {
   "cell_type": "code",
   "execution_count": 334,
   "id": "1ed9defb",
   "metadata": {},
   "outputs": [],
   "source": [
    "from sklearn import svm\n",
    "from sklearn import metrics"
   ]
  },
  {
   "cell_type": "code",
   "execution_count": 335,
   "id": "0d4d2a6c",
   "metadata": {},
   "outputs": [
    {
     "data": {
      "text/plain": [
       "SVC()"
      ]
     },
     "execution_count": 335,
     "metadata": {},
     "output_type": "execute_result"
    }
   ],
   "source": [
    "\n",
    "svm0 = svm.SVC()\n",
    "svm0.fit(x_train, y_train)\n"
   ]
  },
  {
   "cell_type": "markdown",
   "id": "faeb7af0",
   "metadata": {},
   "source": [
    "##### Prediction"
   ]
  },
  {
   "cell_type": "code",
   "execution_count": 336,
   "id": "5f41e194",
   "metadata": {},
   "outputs": [
    {
     "data": {
      "text/plain": [
       "array([1, 1, 0, 1, 2, 0, 0, 1, 1, 2, 2, 2, 2, 2, 0, 0, 0, 2, 1, 0, 0, 1,\n",
       "       2, 0, 2, 2, 0, 1, 1, 2])"
      ]
     },
     "execution_count": 336,
     "metadata": {},
     "output_type": "execute_result"
    }
   ],
   "source": [
    "svm_pred = svm0.predict(x_test)\n",
    "svm_pred"
   ]
  },
  {
   "cell_type": "markdown",
   "id": "90f97fdc",
   "metadata": {},
   "source": [
    "##### Accuracy"
   ]
  },
  {
   "cell_type": "code",
   "execution_count": 337,
   "id": "631f4bc4",
   "metadata": {},
   "outputs": [
    {
     "data": {
      "text/plain": [
       "1.0"
      ]
     },
     "execution_count": 337,
     "metadata": {},
     "output_type": "execute_result"
    }
   ],
   "source": [
    "svm_acc = metrics.accuracy_score(y_test,svm_pred)\n",
    "svm_acc"
   ]
  },
  {
   "cell_type": "code",
   "execution_count": 338,
   "id": "900a1d81",
   "metadata": {},
   "outputs": [
    {
     "name": "stdout",
     "output_type": "stream",
     "text": [
      "Iris-versicolor (21, 11, 21, 11) Iris-versicolor same\n",
      "Iris-versicolor (22, 7, 22, 11) Iris-versicolor same\n",
      "Iris-setosa (0, 9, 1, 0) Iris-setosa same\n",
      "Iris-versicolor (11, 9, 21, 11) Iris-versicolor same\n",
      "Iris-virginica (24, 4, 34, 14) Iris-virginica same\n",
      "Iris-setosa (5, 9, 4, 2) Iris-setosa same\n",
      "Iris-setosa (11, 13, 5, 3) Iris-setosa same\n",
      "Iris-versicolor (23, 9, 20, 10) Iris-versicolor same\n",
      "Iris-versicolor (17, 1, 16, 6) Iris-versicolor same\n",
      "Iris-virginica (26, 10, 27, 19) Iris-virginica same\n",
      "Iris-virginica (22, 9, 34, 18) Iris-virginica same\n",
      "Iris-virginica (24, 9, 28, 19) Iris-virginica same\n",
      "Iris-virginica (17, 1, 26, 11) Iris-virginica same\n",
      "Iris-virginica (20, 7, 27, 11) Iris-virginica same\n",
      "Iris-setosa (7, 9, 6, 1) Iris-setosa same\n",
      "Iris-setosa (6, 10, 5, 0) Iris-setosa same\n",
      "Iris-setosa (1, 8, 4, 1) Iris-setosa same\n",
      "Iris-virginica (18, 9, 25, 14) Iris-virginica same\n",
      "Iris-versicolor (13, 9, 17, 9) Iris-versicolor same\n",
      "Iris-setosa (11, 13, 7, 1) Iris-setosa same\n",
      "Iris-setosa (4, 11, 3, 1) Iris-setosa same\n",
      "Iris-versicolor (6, 3, 10, 6) Iris-versicolor same\n",
      "Iris-virginica (16, 9, 27, 14) Iris-virginica same\n",
      "Iris-setosa (9, 13, 4, 1) Iris-setosa same\n",
      "Iris-virginica (25, 9, 31, 17) Iris-virginica same\n",
      "Iris-virginica (29, 11, 36, 14) Iris-virginica same\n",
      "Iris-setosa (15, 19, 2, 1) Iris-setosa same\n",
      "Iris-versicolor (19, 8, 19, 9) Iris-versicolor same\n",
      "Iris-versicolor (7, 2, 10, 6) Iris-versicolor same\n",
      "Iris-virginica (21, 7, 32, 17) Iris-virginica same\n"
     ]
    }
   ],
   "source": [
    "for i in range(len(svm_pred)):\n",
    "    z = svm_pred[i]\n",
    "    a = \"\"\n",
    "    if(d[z] == d[y_test[i]]):\n",
    "        a = \"same\"\n",
    "    else:\n",
    "        a = \"diff\"\n",
    "    print(d[z],x_test[i],d[y_test[i]],a)\n",
    "    "
   ]
  },
  {
   "cell_type": "markdown",
   "id": "be655b8f",
   "metadata": {},
   "source": [
    "##### Adding kernel"
   ]
  },
  {
   "cell_type": "code",
   "execution_count": 339,
   "id": "6446587c",
   "metadata": {},
   "outputs": [],
   "source": [
    "svm1 = svm.SVC(kernel = \"linear\")\n",
    "svm1.fit(x_train, y_train)\n",
    "svm_pred1 = svm1.predict(x_test)"
   ]
  },
  {
   "cell_type": "code",
   "execution_count": 340,
   "id": "ccea96f5",
   "metadata": {},
   "outputs": [
    {
     "data": {
      "text/plain": [
       "0.9666666666666667"
      ]
     },
     "execution_count": 340,
     "metadata": {},
     "output_type": "execute_result"
    }
   ],
   "source": [
    "svm_acc1 = metrics.accuracy_score(y_test,svm_pred1)\n",
    "svm_acc1"
   ]
  },
  {
   "cell_type": "code",
   "execution_count": 341,
   "id": "3e9214e8",
   "metadata": {},
   "outputs": [
    {
     "name": "stdout",
     "output_type": "stream",
     "text": [
      "Iris-versicolor (21, 11, 21, 11) Iris-versicolor same\n",
      "Iris-versicolor (22, 7, 22, 11) Iris-versicolor same\n",
      "Iris-setosa (0, 9, 1, 0) Iris-setosa same\n",
      "Iris-versicolor (11, 9, 21, 11) Iris-versicolor same\n",
      "Iris-virginica (24, 4, 34, 14) Iris-virginica same\n",
      "Iris-setosa (5, 9, 4, 2) Iris-setosa same\n",
      "Iris-setosa (11, 13, 5, 3) Iris-setosa same\n",
      "Iris-versicolor (23, 9, 20, 10) Iris-versicolor same\n",
      "Iris-versicolor (17, 1, 16, 6) Iris-versicolor same\n",
      "Iris-virginica (26, 10, 27, 19) Iris-virginica same\n",
      "Iris-virginica (22, 9, 34, 18) Iris-virginica same\n",
      "Iris-virginica (24, 9, 28, 19) Iris-virginica same\n",
      "Iris-virginica (17, 1, 26, 11) Iris-virginica same\n",
      "Iris-versicolor (20, 7, 27, 11) Iris-virginica diff\n",
      "Iris-setosa (7, 9, 6, 1) Iris-setosa same\n",
      "Iris-setosa (6, 10, 5, 0) Iris-setosa same\n",
      "Iris-setosa (1, 8, 4, 1) Iris-setosa same\n",
      "Iris-virginica (18, 9, 25, 14) Iris-virginica same\n",
      "Iris-versicolor (13, 9, 17, 9) Iris-versicolor same\n",
      "Iris-setosa (11, 13, 7, 1) Iris-setosa same\n",
      "Iris-setosa (4, 11, 3, 1) Iris-setosa same\n",
      "Iris-versicolor (6, 3, 10, 6) Iris-versicolor same\n",
      "Iris-virginica (16, 9, 27, 14) Iris-virginica same\n",
      "Iris-setosa (9, 13, 4, 1) Iris-setosa same\n",
      "Iris-virginica (25, 9, 31, 17) Iris-virginica same\n",
      "Iris-virginica (29, 11, 36, 14) Iris-virginica same\n",
      "Iris-setosa (15, 19, 2, 1) Iris-setosa same\n",
      "Iris-versicolor (19, 8, 19, 9) Iris-versicolor same\n",
      "Iris-versicolor (7, 2, 10, 6) Iris-versicolor same\n",
      "Iris-virginica (21, 7, 32, 17) Iris-virginica same\n"
     ]
    }
   ],
   "source": [
    "for i in range(len(svm_pred1)):\n",
    "    z = svm_pred1[i]\n",
    "    a = \"\"\n",
    "    if(d[z] == d[y_test[i]]):\n",
    "        a = \"same\"\n",
    "    else:\n",
    "        a = \"diff\"\n",
    "    print(d[z],x_test[i],d[y_test[i]],a)\n",
    "    "
   ]
  },
  {
   "cell_type": "markdown",
   "id": "a230eb5d",
   "metadata": {},
   "source": [
    "# KNN algorithm"
   ]
  },
  {
   "cell_type": "code",
   "execution_count": 342,
   "id": "6694e949",
   "metadata": {},
   "outputs": [],
   "source": [
    "from sklearn.neighbors import KNeighborsClassifier\n"
   ]
  },
  {
   "cell_type": "code",
   "execution_count": 343,
   "id": "6248f887",
   "metadata": {},
   "outputs": [
    {
     "data": {
      "text/plain": [
       "KNeighborsClassifier(n_neighbors=11)"
      ]
     },
     "execution_count": 343,
     "metadata": {},
     "output_type": "execute_result"
    }
   ],
   "source": [
    "knn = KNeighborsClassifier(n_neighbors=11)\n",
    "knn"
   ]
  },
  {
   "cell_type": "markdown",
   "id": "039abac3",
   "metadata": {},
   "source": [
    "#### Fitting and prediction"
   ]
  },
  {
   "cell_type": "code",
   "execution_count": 344,
   "id": "d9c87623",
   "metadata": {},
   "outputs": [
    {
     "data": {
      "text/plain": [
       "array([1, 1, 0, 1, 2, 0, 0, 1, 1, 2, 2, 2, 2, 2, 0, 0, 0, 1, 1, 0, 0, 1,\n",
       "       2, 0, 2, 2, 0, 1, 1, 2])"
      ]
     },
     "execution_count": 344,
     "metadata": {},
     "output_type": "execute_result"
    }
   ],
   "source": [
    "knn.fit(x_train,y_train)\n",
    "knn_pred = knn.predict(x_test)\n",
    "knn_pred"
   ]
  },
  {
   "cell_type": "markdown",
   "id": "6fc63425",
   "metadata": {},
   "source": [
    "##### Accuracy"
   ]
  },
  {
   "cell_type": "code",
   "execution_count": 345,
   "id": "f4c338fb",
   "metadata": {},
   "outputs": [
    {
     "data": {
      "text/plain": [
       "0.9666666666666667"
      ]
     },
     "execution_count": 345,
     "metadata": {},
     "output_type": "execute_result"
    }
   ],
   "source": [
    "knn_acc = metrics.accuracy_score(y_test,knn_pred)\n",
    "knn_acc"
   ]
  },
  {
   "cell_type": "code",
   "execution_count": 346,
   "id": "e0dfced6",
   "metadata": {},
   "outputs": [
    {
     "name": "stdout",
     "output_type": "stream",
     "text": [
      "Iris-versicolor (21, 11, 21, 11) Iris-versicolor same\n",
      "Iris-versicolor (22, 7, 22, 11) Iris-versicolor same\n",
      "Iris-setosa (0, 9, 1, 0) Iris-setosa same\n",
      "Iris-versicolor (11, 9, 21, 11) Iris-versicolor same\n",
      "Iris-virginica (24, 4, 34, 14) Iris-virginica same\n",
      "Iris-setosa (5, 9, 4, 2) Iris-setosa same\n",
      "Iris-setosa (11, 13, 5, 3) Iris-setosa same\n",
      "Iris-versicolor (23, 9, 20, 10) Iris-versicolor same\n",
      "Iris-versicolor (17, 1, 16, 6) Iris-versicolor same\n",
      "Iris-virginica (26, 10, 27, 19) Iris-virginica same\n",
      "Iris-virginica (22, 9, 34, 18) Iris-virginica same\n",
      "Iris-virginica (24, 9, 28, 19) Iris-virginica same\n",
      "Iris-virginica (17, 1, 26, 11) Iris-virginica same\n",
      "Iris-virginica (20, 7, 27, 11) Iris-virginica same\n",
      "Iris-setosa (7, 9, 6, 1) Iris-setosa same\n",
      "Iris-setosa (6, 10, 5, 0) Iris-setosa same\n",
      "Iris-setosa (1, 8, 4, 1) Iris-setosa same\n",
      "Iris-versicolor (18, 9, 25, 14) Iris-virginica diff\n",
      "Iris-versicolor (13, 9, 17, 9) Iris-versicolor same\n",
      "Iris-setosa (11, 13, 7, 1) Iris-setosa same\n",
      "Iris-setosa (4, 11, 3, 1) Iris-setosa same\n",
      "Iris-versicolor (6, 3, 10, 6) Iris-versicolor same\n",
      "Iris-virginica (16, 9, 27, 14) Iris-virginica same\n",
      "Iris-setosa (9, 13, 4, 1) Iris-setosa same\n",
      "Iris-virginica (25, 9, 31, 17) Iris-virginica same\n",
      "Iris-virginica (29, 11, 36, 14) Iris-virginica same\n",
      "Iris-setosa (15, 19, 2, 1) Iris-setosa same\n",
      "Iris-versicolor (19, 8, 19, 9) Iris-versicolor same\n",
      "Iris-versicolor (7, 2, 10, 6) Iris-versicolor same\n",
      "Iris-virginica (21, 7, 32, 17) Iris-virginica same\n"
     ]
    }
   ],
   "source": [
    "for i in range(len(knn_pred)):\n",
    "    a = \"\"\n",
    "    if(d[knn_pred[i]] == d[y_test[i]]):\n",
    "        a = \"same\"\n",
    "    else:\n",
    "        a = \"diff\"\n",
    "    print(d[knn_pred[i]],x_test[i],d[y_test[i]],a)\n",
    "    "
   ]
  },
  {
   "cell_type": "markdown",
   "id": "1062bcf6",
   "metadata": {},
   "source": [
    "# K means CLustering"
   ]
  },
  {
   "cell_type": "code",
   "execution_count": 347,
   "id": "8c4f7c3a",
   "metadata": {},
   "outputs": [],
   "source": [
    "from sklearn.cluster import KMeans\n",
    "from sklearn.preprocessing import scale"
   ]
  },
  {
   "cell_type": "code",
   "execution_count": 348,
   "id": "b426fec1",
   "metadata": {},
   "outputs": [
    {
     "data": {
      "text/plain": [
       "KMeans(init='random', n_clusters=3)"
      ]
     },
     "execution_count": 348,
     "metadata": {},
     "output_type": "execute_result"
    }
   ],
   "source": [
    "kmeans = KMeans(n_clusters=3, init=\"random\", n_init=10)\n",
    "kmeans.fit(x_train,y_train)"
   ]
  },
  {
   "cell_type": "code",
   "execution_count": 349,
   "id": "efc29239",
   "metadata": {},
   "outputs": [
    {
     "data": {
      "text/plain": [
       "array([0, 0, 2, 0, 1, 2, 2, 0, 0, 1, 1, 1, 0, 0, 2, 2, 2, 0, 0, 2, 2, 2,\n",
       "       0, 2, 1, 1, 2, 0, 2, 1])"
      ]
     },
     "execution_count": 349,
     "metadata": {},
     "output_type": "execute_result"
    }
   ],
   "source": [
    "kmeans_pred = kmeans.predict(x_test)\n",
    "kmeans_pred"
   ]
  },
  {
   "cell_type": "code",
   "execution_count": 350,
   "id": "1368c449",
   "metadata": {},
   "outputs": [
    {
     "data": {
      "text/plain": [
       "0.0"
      ]
     },
     "execution_count": 350,
     "metadata": {},
     "output_type": "execute_result"
    }
   ],
   "source": [
    "km_acc = metrics.accuracy_score(y_test,kmeans_pred)\n",
    "km_acc"
   ]
  },
  {
   "cell_type": "code",
   "execution_count": 351,
   "id": "78ff9200",
   "metadata": {},
   "outputs": [
    {
     "name": "stdout",
     "output_type": "stream",
     "text": [
      "Iris-setosa (21, 11, 21, 11) Iris-versicolor diff\n",
      "Iris-setosa (22, 7, 22, 11) Iris-versicolor diff\n",
      "Iris-virginica (0, 9, 1, 0) Iris-setosa diff\n",
      "Iris-setosa (11, 9, 21, 11) Iris-versicolor diff\n",
      "Iris-versicolor (24, 4, 34, 14) Iris-virginica diff\n",
      "Iris-virginica (5, 9, 4, 2) Iris-setosa diff\n",
      "Iris-virginica (11, 13, 5, 3) Iris-setosa diff\n",
      "Iris-setosa (23, 9, 20, 10) Iris-versicolor diff\n",
      "Iris-setosa (17, 1, 16, 6) Iris-versicolor diff\n",
      "Iris-versicolor (26, 10, 27, 19) Iris-virginica diff\n",
      "Iris-versicolor (22, 9, 34, 18) Iris-virginica diff\n",
      "Iris-versicolor (24, 9, 28, 19) Iris-virginica diff\n",
      "Iris-setosa (17, 1, 26, 11) Iris-virginica diff\n",
      "Iris-setosa (20, 7, 27, 11) Iris-virginica diff\n",
      "Iris-virginica (7, 9, 6, 1) Iris-setosa diff\n",
      "Iris-virginica (6, 10, 5, 0) Iris-setosa diff\n",
      "Iris-virginica (1, 8, 4, 1) Iris-setosa diff\n",
      "Iris-setosa (18, 9, 25, 14) Iris-virginica diff\n",
      "Iris-setosa (13, 9, 17, 9) Iris-versicolor diff\n",
      "Iris-virginica (11, 13, 7, 1) Iris-setosa diff\n",
      "Iris-virginica (4, 11, 3, 1) Iris-setosa diff\n",
      "Iris-virginica (6, 3, 10, 6) Iris-versicolor diff\n",
      "Iris-setosa (16, 9, 27, 14) Iris-virginica diff\n",
      "Iris-virginica (9, 13, 4, 1) Iris-setosa diff\n",
      "Iris-versicolor (25, 9, 31, 17) Iris-virginica diff\n",
      "Iris-versicolor (29, 11, 36, 14) Iris-virginica diff\n",
      "Iris-virginica (15, 19, 2, 1) Iris-setosa diff\n",
      "Iris-setosa (19, 8, 19, 9) Iris-versicolor diff\n",
      "Iris-virginica (7, 2, 10, 6) Iris-versicolor diff\n",
      "Iris-versicolor (21, 7, 32, 17) Iris-virginica diff\n"
     ]
    }
   ],
   "source": [
    "for i in range(len(kmeans_pred)):\n",
    "    a = \"\"\n",
    "    if(d[kmeans_pred[i]] == d[y_test[i]]):\n",
    "        a = \"same\"\n",
    "    else:\n",
    "        a = \"diff\"\n",
    "    print(d[kmeans_pred[i]],x_test[i],d[y_test[i]],a)\n",
    "    "
   ]
  },
  {
   "cell_type": "markdown",
   "id": "6fb13686",
   "metadata": {},
   "source": [
    "## Feature Scale"
   ]
  },
  {
   "cell_type": "code",
   "execution_count": 352,
   "id": "9fcb958d",
   "metadata": {},
   "outputs": [],
   "source": [
    "from sklearn.preprocessing import StandardScaler\n",
    "ss = StandardScaler()\n",
    "ss_x_train = ss.fit_transform(x_train)\n",
    "ss_x_test = ss.fit_transform(x_test)\n"
   ]
  },
  {
   "cell_type": "markdown",
   "id": "dd45e3bd",
   "metadata": {},
   "source": [
    "# Logistic regression"
   ]
  },
  {
   "cell_type": "code",
   "execution_count": 353,
   "id": "9c3d6ea6",
   "metadata": {},
   "outputs": [
    {
     "data": {
      "text/plain": [
       "LogisticRegression(random_state=0)"
      ]
     },
     "execution_count": 353,
     "metadata": {},
     "output_type": "execute_result"
    }
   ],
   "source": [
    "from sklearn.linear_model import LogisticRegression\n",
    "lr = LogisticRegression(random_state = 0, solver='lbfgs', multi_class='auto')\n",
    "lr.fit(ss_x_train,y_train)"
   ]
  },
  {
   "cell_type": "code",
   "execution_count": 354,
   "id": "f9f94c37",
   "metadata": {},
   "outputs": [
    {
     "data": {
      "text/plain": [
       "array([1, 1, 0, 1, 2, 0, 0, 1, 1, 2, 2, 2, 2, 2, 0, 0, 0, 2, 1, 0, 0, 1,\n",
       "       2, 0, 2, 2, 0, 1, 1, 2])"
      ]
     },
     "execution_count": 354,
     "metadata": {},
     "output_type": "execute_result"
    }
   ],
   "source": [
    "lr_y_pred = lr.predict(ss_x_test)\n",
    "lr_y_pred"
   ]
  },
  {
   "cell_type": "markdown",
   "id": "335f2d5e",
   "metadata": {},
   "source": [
    "#### Accuracy"
   ]
  },
  {
   "cell_type": "code",
   "execution_count": 355,
   "id": "b51be010",
   "metadata": {},
   "outputs": [
    {
     "data": {
      "text/plain": [
       "1.0"
      ]
     },
     "execution_count": 355,
     "metadata": {},
     "output_type": "execute_result"
    }
   ],
   "source": [
    "acc = lr.score(ss_x_test,y_test)\n",
    "acc"
   ]
  },
  {
   "cell_type": "code",
   "execution_count": 356,
   "id": "7b4a964d",
   "metadata": {},
   "outputs": [
    {
     "name": "stdout",
     "output_type": "stream",
     "text": [
      "Iris-versicolor (21, 11, 21, 11) Iris-versicolor same\n",
      "Iris-versicolor (22, 7, 22, 11) Iris-versicolor same\n",
      "Iris-setosa (0, 9, 1, 0) Iris-setosa same\n",
      "Iris-versicolor (11, 9, 21, 11) Iris-versicolor same\n",
      "Iris-virginica (24, 4, 34, 14) Iris-virginica same\n",
      "Iris-setosa (5, 9, 4, 2) Iris-setosa same\n",
      "Iris-setosa (11, 13, 5, 3) Iris-setosa same\n",
      "Iris-versicolor (23, 9, 20, 10) Iris-versicolor same\n",
      "Iris-versicolor (17, 1, 16, 6) Iris-versicolor same\n",
      "Iris-virginica (26, 10, 27, 19) Iris-virginica same\n",
      "Iris-virginica (22, 9, 34, 18) Iris-virginica same\n",
      "Iris-virginica (24, 9, 28, 19) Iris-virginica same\n",
      "Iris-virginica (17, 1, 26, 11) Iris-virginica same\n",
      "Iris-virginica (20, 7, 27, 11) Iris-virginica same\n",
      "Iris-setosa (7, 9, 6, 1) Iris-setosa same\n",
      "Iris-setosa (6, 10, 5, 0) Iris-setosa same\n",
      "Iris-setosa (1, 8, 4, 1) Iris-setosa same\n",
      "Iris-virginica (18, 9, 25, 14) Iris-virginica same\n",
      "Iris-versicolor (13, 9, 17, 9) Iris-versicolor same\n",
      "Iris-setosa (11, 13, 7, 1) Iris-setosa same\n",
      "Iris-setosa (4, 11, 3, 1) Iris-setosa same\n",
      "Iris-versicolor (6, 3, 10, 6) Iris-versicolor same\n",
      "Iris-virginica (16, 9, 27, 14) Iris-virginica same\n",
      "Iris-setosa (9, 13, 4, 1) Iris-setosa same\n",
      "Iris-virginica (25, 9, 31, 17) Iris-virginica same\n",
      "Iris-virginica (29, 11, 36, 14) Iris-virginica same\n",
      "Iris-setosa (15, 19, 2, 1) Iris-setosa same\n",
      "Iris-versicolor (19, 8, 19, 9) Iris-versicolor same\n",
      "Iris-versicolor (7, 2, 10, 6) Iris-versicolor same\n",
      "Iris-virginica (21, 7, 32, 17) Iris-virginica same\n"
     ]
    }
   ],
   "source": [
    "for i in range(len(lr_y_pred)):\n",
    "    a = \"\"\n",
    "    if(d[lr_y_pred[i]] == d[y_test[i]]):\n",
    "        a = \"same\"\n",
    "    else:\n",
    "        a = \"diff\"\n",
    "    print(d[lr_y_pred[i]],x_test[i],d[y_test[i]],a)"
   ]
  },
  {
   "cell_type": "markdown",
   "id": "9e952b33",
   "metadata": {},
   "source": [
    "# Naive Bayes"
   ]
  },
  {
   "cell_type": "code",
   "execution_count": 357,
   "id": "ed4a8828",
   "metadata": {},
   "outputs": [
    {
     "data": {
      "text/plain": [
       "GaussianNB()"
      ]
     },
     "execution_count": 357,
     "metadata": {},
     "output_type": "execute_result"
    }
   ],
   "source": [
    "from sklearn.naive_bayes import GaussianNB\n",
    "nb = GaussianNB()\n",
    "nb.fit(ss_x_train,y_train)"
   ]
  },
  {
   "cell_type": "markdown",
   "id": "b6dd1710",
   "metadata": {},
   "source": [
    "#### Accuracy"
   ]
  },
  {
   "cell_type": "code",
   "execution_count": 360,
   "id": "f16235c9",
   "metadata": {},
   "outputs": [
    {
     "data": {
      "text/plain": [
       "0.9666666666666667"
      ]
     },
     "execution_count": 360,
     "metadata": {},
     "output_type": "execute_result"
    }
   ],
   "source": [
    "acc = nb.score(ss_x_test,y_test)\n",
    "acc"
   ]
  },
  {
   "cell_type": "code",
   "execution_count": 359,
   "id": "9bf33831",
   "metadata": {},
   "outputs": [],
   "source": [
    "nb_y_pred = nb.predict(ss_x_test)"
   ]
  },
  {
   "cell_type": "code",
   "execution_count": 361,
   "id": "dd314450",
   "metadata": {},
   "outputs": [
    {
     "name": "stdout",
     "output_type": "stream",
     "text": [
      "Iris-versicolor (21, 11, 21, 11) Iris-versicolor same\n",
      "Iris-versicolor (22, 7, 22, 11) Iris-versicolor same\n",
      "Iris-setosa (0, 9, 1, 0) Iris-setosa same\n",
      "Iris-versicolor (11, 9, 21, 11) Iris-versicolor same\n",
      "Iris-virginica (24, 4, 34, 14) Iris-virginica same\n",
      "Iris-setosa (5, 9, 4, 2) Iris-setosa same\n",
      "Iris-setosa (11, 13, 5, 3) Iris-setosa same\n",
      "Iris-versicolor (23, 9, 20, 10) Iris-versicolor same\n",
      "Iris-versicolor (17, 1, 16, 6) Iris-versicolor same\n",
      "Iris-virginica (26, 10, 27, 19) Iris-virginica same\n",
      "Iris-virginica (22, 9, 34, 18) Iris-virginica same\n",
      "Iris-virginica (24, 9, 28, 19) Iris-virginica same\n",
      "Iris-versicolor (17, 1, 26, 11) Iris-virginica diff\n",
      "Iris-virginica (20, 7, 27, 11) Iris-virginica same\n",
      "Iris-setosa (7, 9, 6, 1) Iris-setosa same\n",
      "Iris-setosa (6, 10, 5, 0) Iris-setosa same\n",
      "Iris-setosa (1, 8, 4, 1) Iris-setosa same\n",
      "Iris-virginica (18, 9, 25, 14) Iris-virginica same\n",
      "Iris-versicolor (13, 9, 17, 9) Iris-versicolor same\n",
      "Iris-setosa (11, 13, 7, 1) Iris-setosa same\n",
      "Iris-setosa (4, 11, 3, 1) Iris-setosa same\n",
      "Iris-versicolor (6, 3, 10, 6) Iris-versicolor same\n",
      "Iris-virginica (16, 9, 27, 14) Iris-virginica same\n",
      "Iris-setosa (9, 13, 4, 1) Iris-setosa same\n",
      "Iris-virginica (25, 9, 31, 17) Iris-virginica same\n",
      "Iris-virginica (29, 11, 36, 14) Iris-virginica same\n",
      "Iris-setosa (15, 19, 2, 1) Iris-setosa same\n",
      "Iris-versicolor (19, 8, 19, 9) Iris-versicolor same\n",
      "Iris-versicolor (7, 2, 10, 6) Iris-versicolor same\n",
      "Iris-virginica (21, 7, 32, 17) Iris-virginica same\n"
     ]
    }
   ],
   "source": [
    "z = nb_y_pred\n",
    "for i in range(len(z)):\n",
    "    a = \"\"\n",
    "    if(d[z[i]] == d[y_test[i]]):\n",
    "        a = \"same\"\n",
    "    else:\n",
    "        a = \"diff\"\n",
    "    print(d[z[i]],x_test[i],d[y_test[i]],a)"
   ]
  },
  {
   "cell_type": "markdown",
   "id": "d8ff90b0",
   "metadata": {},
   "source": [
    "# Decision Tree"
   ]
  },
  {
   "cell_type": "code",
   "execution_count": 365,
   "id": "c61adbf6",
   "metadata": {},
   "outputs": [
    {
     "data": {
      "text/plain": [
       "DecisionTreeClassifier()"
      ]
     },
     "execution_count": 365,
     "metadata": {},
     "output_type": "execute_result"
    }
   ],
   "source": [
    "from sklearn.tree import DecisionTreeClassifier  \n",
    "dtc = DecisionTreeClassifier()\n",
    "dtc.fit(ss_x_train,y_train)"
   ]
  },
  {
   "cell_type": "markdown",
   "id": "c85645f3",
   "metadata": {},
   "source": [
    "#### Accuracy"
   ]
  },
  {
   "cell_type": "code",
   "execution_count": 366,
   "id": "f3416f68",
   "metadata": {},
   "outputs": [
    {
     "data": {
      "text/plain": [
       "0.9"
      ]
     },
     "execution_count": 366,
     "metadata": {},
     "output_type": "execute_result"
    }
   ],
   "source": [
    "dtc_acc = dtc.score(ss_x_test,y_test)\n",
    "dtc_acc"
   ]
  },
  {
   "cell_type": "code",
   "execution_count": 368,
   "id": "f7f3ef49",
   "metadata": {},
   "outputs": [],
   "source": [
    "dtc_y_pred = dtc.predict(ss_x_test)"
   ]
  },
  {
   "cell_type": "code",
   "execution_count": 369,
   "id": "d860d9e3",
   "metadata": {},
   "outputs": [
    {
     "name": "stdout",
     "output_type": "stream",
     "text": [
      "Iris-versicolor (21, 11, 21, 11) Iris-versicolor same\n",
      "Iris-versicolor (22, 7, 22, 11) Iris-versicolor same\n",
      "Iris-setosa (0, 9, 1, 0) Iris-setosa same\n",
      "Iris-versicolor (11, 9, 21, 11) Iris-versicolor same\n",
      "Iris-virginica (24, 4, 34, 14) Iris-virginica same\n",
      "Iris-setosa (5, 9, 4, 2) Iris-setosa same\n",
      "Iris-setosa (11, 13, 5, 3) Iris-setosa same\n",
      "Iris-versicolor (23, 9, 20, 10) Iris-versicolor same\n",
      "Iris-versicolor (17, 1, 16, 6) Iris-versicolor same\n",
      "Iris-virginica (26, 10, 27, 19) Iris-virginica same\n",
      "Iris-virginica (22, 9, 34, 18) Iris-virginica same\n",
      "Iris-virginica (24, 9, 28, 19) Iris-virginica same\n",
      "Iris-versicolor (17, 1, 26, 11) Iris-virginica diff\n",
      "Iris-versicolor (20, 7, 27, 11) Iris-virginica diff\n",
      "Iris-setosa (7, 9, 6, 1) Iris-setosa same\n",
      "Iris-setosa (6, 10, 5, 0) Iris-setosa same\n",
      "Iris-setosa (1, 8, 4, 1) Iris-setosa same\n",
      "Iris-virginica (18, 9, 25, 14) Iris-virginica same\n",
      "Iris-versicolor (13, 9, 17, 9) Iris-versicolor same\n",
      "Iris-setosa (11, 13, 7, 1) Iris-setosa same\n",
      "Iris-setosa (4, 11, 3, 1) Iris-setosa same\n",
      "Iris-virginica (6, 3, 10, 6) Iris-versicolor diff\n",
      "Iris-virginica (16, 9, 27, 14) Iris-virginica same\n",
      "Iris-setosa (9, 13, 4, 1) Iris-setosa same\n",
      "Iris-virginica (25, 9, 31, 17) Iris-virginica same\n",
      "Iris-virginica (29, 11, 36, 14) Iris-virginica same\n",
      "Iris-setosa (15, 19, 2, 1) Iris-setosa same\n",
      "Iris-versicolor (19, 8, 19, 9) Iris-versicolor same\n",
      "Iris-versicolor (7, 2, 10, 6) Iris-versicolor same\n",
      "Iris-virginica (21, 7, 32, 17) Iris-virginica same\n"
     ]
    }
   ],
   "source": [
    "z = dtc_y_pred\n",
    "for i in range(len(z)):\n",
    "    a = \"\"\n",
    "    if(d[z[i]] == d[y_test[i]]):\n",
    "        a = \"same\"\n",
    "    else:\n",
    "        a = \"diff\"\n",
    "    print(d[z[i]],x_test[i],d[y_test[i]],a)"
   ]
  },
  {
   "cell_type": "markdown",
   "id": "241e74f8",
   "metadata": {},
   "source": [
    "# Random Forest"
   ]
  },
  {
   "cell_type": "code",
   "execution_count": 371,
   "id": "0823f8ac",
   "metadata": {},
   "outputs": [
    {
     "data": {
      "text/plain": [
       "RandomForestClassifier()"
      ]
     },
     "execution_count": 371,
     "metadata": {},
     "output_type": "execute_result"
    }
   ],
   "source": [
    "from sklearn.ensemble import RandomForestClassifier\n",
    "rfc = RandomForestClassifier()\n",
    "rfc.fit(ss_x_train,y_train)"
   ]
  },
  {
   "cell_type": "markdown",
   "id": "e3a71995",
   "metadata": {},
   "source": [
    "#### Accuracy"
   ]
  },
  {
   "cell_type": "code",
   "execution_count": 373,
   "id": "feb6ab4c",
   "metadata": {},
   "outputs": [
    {
     "data": {
      "text/plain": [
       "0.9333333333333333"
      ]
     },
     "execution_count": 373,
     "metadata": {},
     "output_type": "execute_result"
    }
   ],
   "source": [
    "rfc_acc = rfc.score(ss_x_test,y_test)\n",
    "rfc_acc"
   ]
  },
  {
   "cell_type": "code",
   "execution_count": 372,
   "id": "1d4d9913",
   "metadata": {},
   "outputs": [],
   "source": [
    "rfc_y_pred = rfc.predict(ss_x_test)"
   ]
  },
  {
   "cell_type": "code",
   "execution_count": 374,
   "id": "2861d501",
   "metadata": {},
   "outputs": [
    {
     "name": "stdout",
     "output_type": "stream",
     "text": [
      "Iris-versicolor (21, 11, 21, 11) Iris-versicolor same\n",
      "Iris-versicolor (22, 7, 22, 11) Iris-versicolor same\n",
      "Iris-setosa (0, 9, 1, 0) Iris-setosa same\n",
      "Iris-versicolor (11, 9, 21, 11) Iris-versicolor same\n",
      "Iris-virginica (24, 4, 34, 14) Iris-virginica same\n",
      "Iris-setosa (5, 9, 4, 2) Iris-setosa same\n",
      "Iris-setosa (11, 13, 5, 3) Iris-setosa same\n",
      "Iris-versicolor (23, 9, 20, 10) Iris-versicolor same\n",
      "Iris-versicolor (17, 1, 16, 6) Iris-versicolor same\n",
      "Iris-virginica (26, 10, 27, 19) Iris-virginica same\n",
      "Iris-virginica (22, 9, 34, 18) Iris-virginica same\n",
      "Iris-virginica (24, 9, 28, 19) Iris-virginica same\n",
      "Iris-versicolor (17, 1, 26, 11) Iris-virginica diff\n",
      "Iris-versicolor (20, 7, 27, 11) Iris-virginica diff\n",
      "Iris-setosa (7, 9, 6, 1) Iris-setosa same\n",
      "Iris-setosa (6, 10, 5, 0) Iris-setosa same\n",
      "Iris-setosa (1, 8, 4, 1) Iris-setosa same\n",
      "Iris-virginica (18, 9, 25, 14) Iris-virginica same\n",
      "Iris-versicolor (13, 9, 17, 9) Iris-versicolor same\n",
      "Iris-setosa (11, 13, 7, 1) Iris-setosa same\n",
      "Iris-setosa (4, 11, 3, 1) Iris-setosa same\n",
      "Iris-versicolor (6, 3, 10, 6) Iris-versicolor same\n",
      "Iris-virginica (16, 9, 27, 14) Iris-virginica same\n",
      "Iris-setosa (9, 13, 4, 1) Iris-setosa same\n",
      "Iris-virginica (25, 9, 31, 17) Iris-virginica same\n",
      "Iris-virginica (29, 11, 36, 14) Iris-virginica same\n",
      "Iris-setosa (15, 19, 2, 1) Iris-setosa same\n",
      "Iris-versicolor (19, 8, 19, 9) Iris-versicolor same\n",
      "Iris-versicolor (7, 2, 10, 6) Iris-versicolor same\n",
      "Iris-virginica (21, 7, 32, 17) Iris-virginica same\n"
     ]
    }
   ],
   "source": [
    "z = rfc_y_pred\n",
    "for i in range(len(z)):\n",
    "    a = \"\"\n",
    "    if(d[z[i]] == d[y_test[i]]):\n",
    "        a = \"same\"\n",
    "    else:\n",
    "        a = \"diff\"\n",
    "    print(d[z[i]],x_test[i],d[y_test[i]],a)"
   ]
  },
  {
   "cell_type": "markdown",
   "id": "41e40ea7",
   "metadata": {},
   "source": [
    "# XGboost"
   ]
  },
  {
   "cell_type": "code",
   "execution_count": null,
   "id": "e6f38bf6",
   "metadata": {},
   "outputs": [],
   "source": []
  },
  {
   "cell_type": "code",
   "execution_count": null,
   "id": "9c1feab1",
   "metadata": {},
   "outputs": [],
   "source": []
  },
  {
   "cell_type": "code",
   "execution_count": null,
   "id": "d01db820",
   "metadata": {},
   "outputs": [],
   "source": []
  },
  {
   "cell_type": "code",
   "execution_count": null,
   "id": "64d2f3ac",
   "metadata": {},
   "outputs": [],
   "source": []
  },
  {
   "cell_type": "code",
   "execution_count": null,
   "id": "31e075bc",
   "metadata": {},
   "outputs": [],
   "source": []
  },
  {
   "cell_type": "code",
   "execution_count": null,
   "id": "0be6b257",
   "metadata": {},
   "outputs": [],
   "source": []
  },
  {
   "cell_type": "code",
   "execution_count": null,
   "id": "d1baa812",
   "metadata": {},
   "outputs": [],
   "source": []
  },
  {
   "cell_type": "code",
   "execution_count": null,
   "id": "faa30413",
   "metadata": {},
   "outputs": [],
   "source": []
  },
  {
   "cell_type": "markdown",
   "id": "467b5df5",
   "metadata": {},
   "source": [
    "# Polynomial Regression"
   ]
  },
  {
   "cell_type": "code",
   "execution_count": null,
   "id": "b7957926",
   "metadata": {},
   "outputs": [],
   "source": [
    "from sklearn.preprocessing import PolynomialFeatures\n",
    "pr = PolynomialFeatures()\n",
    "pr_x_train()\n",
    "pr.fit(x_train,x_test)"
   ]
  }
 ],
 "metadata": {
  "kernelspec": {
   "display_name": "Python 3 (ipykernel)",
   "language": "python",
   "name": "python3"
  },
  "language_info": {
   "codemirror_mode": {
    "name": "ipython",
    "version": 3
   },
   "file_extension": ".py",
   "mimetype": "text/x-python",
   "name": "python",
   "nbconvert_exporter": "python",
   "pygments_lexer": "ipython3",
   "version": "3.9.6"
  }
 },
 "nbformat": 4,
 "nbformat_minor": 5
}
