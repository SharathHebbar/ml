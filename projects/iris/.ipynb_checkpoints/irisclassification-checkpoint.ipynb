{
 "cells": [
  {
   "cell_type": "markdown",
   "id": "5be6faf1",
   "metadata": {},
   "source": [
    "## Importing libraries"
   ]
  },
  {
   "cell_type": "code",
   "execution_count": 160,
   "id": "f507702f",
   "metadata": {},
   "outputs": [],
   "source": [
    "import pandas as pd\n",
    "import numpy as np\n",
    "\n",
    "from sklearn.model_selection import train_test_split\n",
    "\n",
    "from sklearn.preprocessing import LabelEncoder\n",
    "\n",
    "import matplotlib.pyplot as plt"
   ]
  },
  {
   "cell_type": "markdown",
   "id": "4f3b27c1",
   "metadata": {},
   "source": [
    "### Loading datasets"
   ]
  },
  {
   "cell_type": "code",
   "execution_count": 161,
   "id": "26afda7a",
   "metadata": {},
   "outputs": [
    {
     "data": {
      "text/html": [
       "<div>\n",
       "<style scoped>\n",
       "    .dataframe tbody tr th:only-of-type {\n",
       "        vertical-align: middle;\n",
       "    }\n",
       "\n",
       "    .dataframe tbody tr th {\n",
       "        vertical-align: top;\n",
       "    }\n",
       "\n",
       "    .dataframe thead th {\n",
       "        text-align: right;\n",
       "    }\n",
       "</style>\n",
       "<table border=\"1\" class=\"dataframe\">\n",
       "  <thead>\n",
       "    <tr style=\"text-align: right;\">\n",
       "      <th></th>\n",
       "      <th>sepal-length</th>\n",
       "      <th>sepal-width</th>\n",
       "      <th>petal-length</th>\n",
       "      <th>petal-width</th>\n",
       "      <th>class</th>\n",
       "    </tr>\n",
       "  </thead>\n",
       "  <tbody>\n",
       "    <tr>\n",
       "      <th>0</th>\n",
       "      <td>5.1</td>\n",
       "      <td>3.5</td>\n",
       "      <td>1.4</td>\n",
       "      <td>0.2</td>\n",
       "      <td>Iris-setosa</td>\n",
       "    </tr>\n",
       "    <tr>\n",
       "      <th>1</th>\n",
       "      <td>4.9</td>\n",
       "      <td>3.0</td>\n",
       "      <td>1.4</td>\n",
       "      <td>0.2</td>\n",
       "      <td>Iris-setosa</td>\n",
       "    </tr>\n",
       "    <tr>\n",
       "      <th>2</th>\n",
       "      <td>4.7</td>\n",
       "      <td>3.2</td>\n",
       "      <td>1.3</td>\n",
       "      <td>0.2</td>\n",
       "      <td>Iris-setosa</td>\n",
       "    </tr>\n",
       "    <tr>\n",
       "      <th>3</th>\n",
       "      <td>4.6</td>\n",
       "      <td>3.1</td>\n",
       "      <td>1.5</td>\n",
       "      <td>0.2</td>\n",
       "      <td>Iris-setosa</td>\n",
       "    </tr>\n",
       "    <tr>\n",
       "      <th>4</th>\n",
       "      <td>5.0</td>\n",
       "      <td>3.6</td>\n",
       "      <td>1.4</td>\n",
       "      <td>0.2</td>\n",
       "      <td>Iris-setosa</td>\n",
       "    </tr>\n",
       "  </tbody>\n",
       "</table>\n",
       "</div>"
      ],
      "text/plain": [
       "   sepal-length  sepal-width  petal-length  petal-width        class\n",
       "0           5.1          3.5           1.4          0.2  Iris-setosa\n",
       "1           4.9          3.0           1.4          0.2  Iris-setosa\n",
       "2           4.7          3.2           1.3          0.2  Iris-setosa\n",
       "3           4.6          3.1           1.5          0.2  Iris-setosa\n",
       "4           5.0          3.6           1.4          0.2  Iris-setosa"
      ]
     },
     "execution_count": 161,
     "metadata": {},
     "output_type": "execute_result"
    }
   ],
   "source": [
    "data = pd.read_csv(\"iris.csv\", sep = ',')\n",
    "data.head()"
   ]
  },
  {
   "cell_type": "markdown",
   "id": "c2d13530",
   "metadata": {},
   "source": [
    "### Data preprocessing"
   ]
  },
  {
   "cell_type": "code",
   "execution_count": null,
   "id": "9f334651",
   "metadata": {},
   "outputs": [],
   "source": []
  },
  {
   "cell_type": "markdown",
   "id": "994551f3",
   "metadata": {},
   "source": [
    "### Label Encoding"
   ]
  },
  {
   "cell_type": "code",
   "execution_count": 162,
   "id": "104dc4e3",
   "metadata": {},
   "outputs": [],
   "source": [
    "l_enc = LabelEncoder()\n"
   ]
  },
  {
   "cell_type": "code",
   "execution_count": 163,
   "id": "b73c814f",
   "metadata": {},
   "outputs": [
    {
     "name": "stdout",
     "output_type": "stream",
     "text": [
      "Iris-setosa 0\n",
      "Iris-setosa 0\n",
      "Iris-setosa 0\n",
      "Iris-setosa 0\n",
      "Iris-setosa 0\n",
      "Iris-setosa 0\n",
      "Iris-setosa 0\n",
      "Iris-setosa 0\n",
      "Iris-setosa 0\n",
      "Iris-setosa 0\n",
      "Iris-setosa 0\n",
      "Iris-setosa 0\n",
      "Iris-setosa 0\n",
      "Iris-setosa 0\n",
      "Iris-setosa 0\n",
      "Iris-setosa 0\n",
      "Iris-setosa 0\n",
      "Iris-setosa 0\n",
      "Iris-setosa 0\n",
      "Iris-setosa 0\n",
      "Iris-setosa 0\n",
      "Iris-setosa 0\n",
      "Iris-setosa 0\n",
      "Iris-setosa 0\n",
      "Iris-setosa 0\n",
      "Iris-setosa 0\n",
      "Iris-setosa 0\n",
      "Iris-setosa 0\n",
      "Iris-setosa 0\n",
      "Iris-setosa 0\n",
      "Iris-setosa 0\n",
      "Iris-setosa 0\n",
      "Iris-setosa 0\n",
      "Iris-setosa 0\n",
      "Iris-setosa 0\n",
      "Iris-setosa 0\n",
      "Iris-setosa 0\n",
      "Iris-setosa 0\n",
      "Iris-setosa 0\n",
      "Iris-setosa 0\n",
      "Iris-setosa 0\n",
      "Iris-setosa 0\n",
      "Iris-setosa 0\n",
      "Iris-setosa 0\n",
      "Iris-setosa 0\n",
      "Iris-setosa 0\n",
      "Iris-setosa 0\n",
      "Iris-setosa 0\n",
      "Iris-setosa 0\n",
      "Iris-setosa 0\n",
      "Iris-versicolor 1\n",
      "Iris-versicolor 1\n",
      "Iris-versicolor 1\n",
      "Iris-versicolor 1\n",
      "Iris-versicolor 1\n",
      "Iris-versicolor 1\n",
      "Iris-versicolor 1\n",
      "Iris-versicolor 1\n",
      "Iris-versicolor 1\n",
      "Iris-versicolor 1\n",
      "Iris-versicolor 1\n",
      "Iris-versicolor 1\n",
      "Iris-versicolor 1\n",
      "Iris-versicolor 1\n",
      "Iris-versicolor 1\n",
      "Iris-versicolor 1\n",
      "Iris-versicolor 1\n",
      "Iris-versicolor 1\n",
      "Iris-versicolor 1\n",
      "Iris-versicolor 1\n",
      "Iris-versicolor 1\n",
      "Iris-versicolor 1\n",
      "Iris-versicolor 1\n",
      "Iris-versicolor 1\n",
      "Iris-versicolor 1\n",
      "Iris-versicolor 1\n",
      "Iris-versicolor 1\n",
      "Iris-versicolor 1\n",
      "Iris-versicolor 1\n",
      "Iris-versicolor 1\n",
      "Iris-versicolor 1\n",
      "Iris-versicolor 1\n",
      "Iris-versicolor 1\n",
      "Iris-versicolor 1\n",
      "Iris-versicolor 1\n",
      "Iris-versicolor 1\n",
      "Iris-versicolor 1\n",
      "Iris-versicolor 1\n",
      "Iris-versicolor 1\n",
      "Iris-versicolor 1\n",
      "Iris-versicolor 1\n",
      "Iris-versicolor 1\n",
      "Iris-versicolor 1\n",
      "Iris-versicolor 1\n",
      "Iris-versicolor 1\n",
      "Iris-versicolor 1\n",
      "Iris-versicolor 1\n",
      "Iris-versicolor 1\n",
      "Iris-versicolor 1\n",
      "Iris-versicolor 1\n",
      "Iris-virginica 2\n",
      "Iris-virginica 2\n",
      "Iris-virginica 2\n",
      "Iris-virginica 2\n",
      "Iris-virginica 2\n",
      "Iris-virginica 2\n",
      "Iris-virginica 2\n",
      "Iris-virginica 2\n",
      "Iris-virginica 2\n",
      "Iris-virginica 2\n",
      "Iris-virginica 2\n",
      "Iris-virginica 2\n",
      "Iris-virginica 2\n",
      "Iris-virginica 2\n",
      "Iris-virginica 2\n",
      "Iris-virginica 2\n",
      "Iris-virginica 2\n",
      "Iris-virginica 2\n",
      "Iris-virginica 2\n",
      "Iris-virginica 2\n",
      "Iris-virginica 2\n",
      "Iris-virginica 2\n",
      "Iris-virginica 2\n",
      "Iris-virginica 2\n",
      "Iris-virginica 2\n",
      "Iris-virginica 2\n",
      "Iris-virginica 2\n",
      "Iris-virginica 2\n",
      "Iris-virginica 2\n",
      "Iris-virginica 2\n",
      "Iris-virginica 2\n",
      "Iris-virginica 2\n",
      "Iris-virginica 2\n",
      "Iris-virginica 2\n",
      "Iris-virginica 2\n",
      "Iris-virginica 2\n",
      "Iris-virginica 2\n",
      "Iris-virginica 2\n",
      "Iris-virginica 2\n",
      "Iris-virginica 2\n",
      "Iris-virginica 2\n",
      "Iris-virginica 2\n",
      "Iris-virginica 2\n",
      "Iris-virginica 2\n",
      "Iris-virginica 2\n",
      "Iris-virginica 2\n",
      "Iris-virginica 2\n",
      "Iris-virginica 2\n",
      "Iris-virginica 2\n",
      "Iris-virginica 2\n"
     ]
    }
   ],
   "source": [
    "s_len = l_enc.fit_transform(data['sepal-length'])\n",
    "s_wid = l_enc.fit_transform(data['sepal-width'])\n",
    "p_len = l_enc.fit_transform(data['petal-length'])\n",
    "p_wid = l_enc.fit_transform(data['petal-width'])\n",
    "cls = l_enc.fit_transform(data['class'])\n",
    "for i in range(len(cls)):\n",
    "    print(data['class'][i],cls[i])"
   ]
  },
  {
   "cell_type": "markdown",
   "id": "f4916c3d",
   "metadata": {},
   "source": [
    "### Zip all the details to one list"
   ]
  },
  {
   "cell_type": "code",
   "execution_count": 187,
   "id": "f342e9ad",
   "metadata": {},
   "outputs": [],
   "source": [
    "x = list(zip(s_len,s_wid,p_len,p_wid))\n",
    "y = list(cls)"
   ]
  },
  {
   "cell_type": "markdown",
   "id": "489b0832",
   "metadata": {},
   "source": [
    "### Training data"
   ]
  },
  {
   "cell_type": "code",
   "execution_count": 165,
   "id": "23a69ff0",
   "metadata": {},
   "outputs": [],
   "source": [
    "x_train,x_test,y_train,y_test = train_test_split(x,y,test_size = 0.3)"
   ]
  },
  {
   "cell_type": "code",
   "execution_count": 166,
   "id": "5d2f6af6",
   "metadata": {},
   "outputs": [],
   "source": [
    "d = {\n",
    "    0 :'Iris-setosa',\n",
    "    1 : 'Iris-versicolor',\n",
    "    2 :'Iris-virginica'\n",
    "}"
   ]
  },
  {
   "cell_type": "markdown",
   "id": "72b401c8",
   "metadata": {},
   "source": [
    "# Linear Regression"
   ]
  },
  {
   "cell_type": "code",
   "execution_count": 167,
   "id": "2b6dce77",
   "metadata": {},
   "outputs": [],
   "source": [
    "from sklearn.linear_model import LinearRegression"
   ]
  },
  {
   "cell_type": "code",
   "execution_count": 168,
   "id": "b53776e7",
   "metadata": {},
   "outputs": [
    {
     "data": {
      "text/plain": [
       "LinearRegression()"
      ]
     },
     "execution_count": 168,
     "metadata": {},
     "output_type": "execute_result"
    }
   ],
   "source": [
    "linear = LinearRegression()\n",
    "linear.fit(x_train,y_train)"
   ]
  },
  {
   "cell_type": "code",
   "execution_count": 169,
   "id": "941e7e2a",
   "metadata": {},
   "outputs": [
    {
     "data": {
      "text/plain": [
       "array([-0.01194609, -0.02246938,  0.03273342,  0.07472249])"
      ]
     },
     "execution_count": 169,
     "metadata": {},
     "output_type": "execute_result"
    }
   ],
   "source": [
    "linear.coef_"
   ]
  },
  {
   "cell_type": "code",
   "execution_count": 170,
   "id": "08622f30",
   "metadata": {},
   "outputs": [
    {
     "data": {
      "text/plain": [
       "0.14497361057610503"
      ]
     },
     "execution_count": 170,
     "metadata": {},
     "output_type": "execute_result"
    }
   ],
   "source": [
    "linear.intercept_"
   ]
  },
  {
   "cell_type": "markdown",
   "id": "fb78b918",
   "metadata": {},
   "source": [
    "##### Accuracy"
   ]
  },
  {
   "cell_type": "code",
   "execution_count": 171,
   "id": "1fa6d562",
   "metadata": {},
   "outputs": [
    {
     "data": {
      "text/plain": [
       "0.9230462172216696"
      ]
     },
     "execution_count": 171,
     "metadata": {},
     "output_type": "execute_result"
    }
   ],
   "source": [
    "acc = linear.score(x_test,y_test)\n",
    "acc"
   ]
  },
  {
   "cell_type": "code",
   "execution_count": 188,
   "id": "c8f46349",
   "metadata": {},
   "outputs": [
    {
     "data": {
      "text/plain": [
       "array([ 1.23385989,  2.05457187,  1.82939601,  1.14086873, -0.03872287,\n",
       "        0.12283116,  0.87522289, -0.24826162,  0.10929931,  2.13109713,\n",
       "        1.68152898,  1.07535966,  0.91974725,  2.17939215,  1.45645723,\n",
       "        0.15346032, -0.26458019, -0.01946243,  1.91321118,  2.01593907,\n",
       "        1.18828391, -0.04562282, -0.00557505,  1.28595785,  0.06762836,\n",
       "        0.31679267,  1.25028256,  1.32069143,  2.18674874,  1.19507977,\n",
       "        0.00763868,  1.83560569,  0.83576911,  2.2418052 ,  2.38399469,\n",
       "        1.26695666,  0.12114912,  0.79208137,  0.91553773,  1.45451593,\n",
       "        1.01642061,  0.30779628,  1.24996445,  1.60591883,  1.99230615])"
      ]
     },
     "execution_count": 188,
     "metadata": {},
     "output_type": "execute_result"
    }
   ],
   "source": [
    "predict = linear.predict(x_test)\n",
    "predict"
   ]
  },
  {
   "cell_type": "code",
   "execution_count": 172,
   "id": "ffad54ce",
   "metadata": {
    "scrolled": true
   },
   "outputs": [
    {
     "name": "stdout",
     "output_type": "stream",
     "text": [
      "Iris-versicolor (17, 13, 21, 12) Iris-versicolor same\n",
      "Iris-virginica (21, 7, 32, 17) Iris-virginica same\n",
      "Iris-virginica (21, 6, 29, 15) Iris-virginica same\n",
      "Iris-versicolor (9, 6, 15, 10) Iris-versicolor same\n",
      "Iris-setosa (9, 14, 5, 1) Iris-setosa same\n",
      "Iris-setosa (3, 10, 5, 1) Iris-setosa same\n",
      "Iris-versicolor (13, 8, 12, 9) Iris-versicolor same\n",
      "Iris-setosa (9, 20, 5, 0) Iris-setosa same\n",
      "Iris-setosa (11, 13, 5, 3) Iris-setosa same\n",
      "Iris-virginica (33, 7, 41, 16) Iris-virginica same\n",
      "Iris-virginica (16, 9, 27, 14) Iris-virginica same\n",
      "Iris-versicolor (27, 11, 23, 10) Iris-versicolor same\n",
      "Iris-versicolor (15, 6, 15, 8) Iris-versicolor same\n",
      "Iris-virginica (33, 9, 37, 19) Iris-virginica same\n",
      "Iris-versicolor (20, 4, 25, 11) Iris-versicolor same\n",
      "Iris-setosa (8, 17, 8, 3) Iris-setosa same\n",
      "Iris-setosa (12, 21, 4, 1) Iris-setosa same\n",
      "Iris-setosa (8, 17, 5, 2) Iris-setosa same\n",
      "Iris-virginica (26, 10, 27, 19) Iris-virginica same\n",
      "Iris-virginica (21, 11, 29, 19) Iris-virginica same\n",
      "Iris-versicolor (20, 2, 20, 9) Iris-versicolor same\n",
      "Iris-setosa (7, 11, 2, 1) Iris-setosa same\n",
      "Iris-setosa (7, 14, 3, 2) Iris-setosa same\n",
      "Iris-versicolor (20, 12, 23, 12) Iris-versicolor same\n",
      "Iris-setosa (3, 11, 4, 1) Iris-setosa same\n",
      "Iris-setosa (7, 14, 6, 5) Iris-setosa same\n",
      "Iris-versicolor (18, 8, 23, 10) Iris-versicolor same\n",
      "Iris-versicolor (11, 9, 21, 11) Iris-versicolor same\n",
      "Iris-virginica (15, 7, 27, 20) Iris-virginica same\n",
      "Iris-versicolor (18, 9, 22, 10) Iris-versicolor same\n",
      "Iris-setosa (7, 13, 5, 1) Iris-setosa same\n",
      "Iris-virginica (15, 6, 27, 15) Iris-virginica same\n",
      "Iris-versicolor (15, 6, 17, 6) Iris-versicolor same\n",
      "Iris-virginica (29, 15, 37, 21) Iris-virginica same\n",
      "Iris-virginica (20, 12, 36, 21) Iris-virginica same\n",
      "Iris-versicolor (22, 7, 22, 11) Iris-versicolor same\n",
      "Iris-setosa (4, 11, 6, 1) Iris-setosa same\n",
      "Iris-versicolor (7, 2, 10, 6) Iris-versicolor same\n",
      "Iris-versicolor (12, 3, 14, 7) Iris-versicolor same\n",
      "Iris-versicolor (20, 7, 27, 11) Iris-virginica diff\n",
      "Iris-versicolor (13, 9, 17, 9) Iris-versicolor same\n",
      "Iris-setosa (8, 12, 7, 4) Iris-setosa same\n",
      "Iris-versicolor (26, 10, 25, 11) Iris-versicolor same\n",
      "Iris-virginica (29, 9, 34, 12) Iris-virginica same\n",
      "Iris-virginica (24, 9, 28, 19) Iris-virginica same\n"
     ]
    }
   ],
   "source": [
    "\n",
    "for i in range(len(predict)):\n",
    "    z = predict[i].round()\n",
    "    a = \"\"\n",
    "    if(d[z] == d[y_test[i]]):\n",
    "        a = \"same\"\n",
    "    else:\n",
    "        a = \"diff\"\n",
    "    print(d[z],x_test[i],d[y_test[i]],a)\n",
    "    \n"
   ]
  },
  {
   "cell_type": "markdown",
   "id": "daac3a1d",
   "metadata": {},
   "source": [
    "# SVM"
   ]
  },
  {
   "cell_type": "code",
   "execution_count": 173,
   "id": "1844de60",
   "metadata": {},
   "outputs": [],
   "source": [
    "from sklearn import svm\n",
    "from sklearn import metrics"
   ]
  },
  {
   "cell_type": "code",
   "execution_count": 174,
   "id": "0d4d2a6c",
   "metadata": {},
   "outputs": [
    {
     "data": {
      "text/plain": [
       "SVC()"
      ]
     },
     "execution_count": 174,
     "metadata": {},
     "output_type": "execute_result"
    }
   ],
   "source": [
    "\n",
    "svm0 = svm.SVC()\n",
    "svm0.fit(x_train, y_train)\n"
   ]
  },
  {
   "cell_type": "markdown",
   "id": "147a93fa",
   "metadata": {},
   "source": [
    "##### Prediction"
   ]
  },
  {
   "cell_type": "code",
   "execution_count": 175,
   "id": "15efaf0f",
   "metadata": {},
   "outputs": [
    {
     "data": {
      "text/plain": [
       "array([1, 2, 2, 1, 0, 0, 1, 0, 0, 2, 2, 1, 1, 2, 1, 0, 0, 0, 2, 2, 1, 0,\n",
       "       0, 1, 0, 0, 1, 1, 2, 1, 0, 2, 1, 2, 2, 1, 0, 1, 1, 2, 1, 0, 1, 2,\n",
       "       2])"
      ]
     },
     "execution_count": 175,
     "metadata": {},
     "output_type": "execute_result"
    }
   ],
   "source": [
    "svm_pred = svm0.predict(x_test)\n",
    "svm_pred"
   ]
  },
  {
   "cell_type": "markdown",
   "id": "bf07c9f3",
   "metadata": {},
   "source": [
    "##### Accuracy"
   ]
  },
  {
   "cell_type": "code",
   "execution_count": 176,
   "id": "b6904157",
   "metadata": {},
   "outputs": [
    {
     "data": {
      "text/plain": [
       "1.0"
      ]
     },
     "execution_count": 176,
     "metadata": {},
     "output_type": "execute_result"
    }
   ],
   "source": [
    "svm_acc = metrics.accuracy_score(y_test,svm_pred)\n",
    "svm_acc"
   ]
  },
  {
   "cell_type": "code",
   "execution_count": 177,
   "id": "f9ef3c3d",
   "metadata": {},
   "outputs": [
    {
     "name": "stdout",
     "output_type": "stream",
     "text": [
      "Iris-versicolor (17, 13, 21, 12) Iris-versicolor same\n",
      "Iris-virginica (21, 7, 32, 17) Iris-virginica same\n",
      "Iris-virginica (21, 6, 29, 15) Iris-virginica same\n",
      "Iris-versicolor (9, 6, 15, 10) Iris-versicolor same\n",
      "Iris-setosa (9, 14, 5, 1) Iris-setosa same\n",
      "Iris-setosa (3, 10, 5, 1) Iris-setosa same\n",
      "Iris-versicolor (13, 8, 12, 9) Iris-versicolor same\n",
      "Iris-setosa (9, 20, 5, 0) Iris-setosa same\n",
      "Iris-setosa (11, 13, 5, 3) Iris-setosa same\n",
      "Iris-virginica (33, 7, 41, 16) Iris-virginica same\n",
      "Iris-virginica (16, 9, 27, 14) Iris-virginica same\n",
      "Iris-versicolor (27, 11, 23, 10) Iris-versicolor same\n",
      "Iris-versicolor (15, 6, 15, 8) Iris-versicolor same\n",
      "Iris-virginica (33, 9, 37, 19) Iris-virginica same\n",
      "Iris-versicolor (20, 4, 25, 11) Iris-versicolor same\n",
      "Iris-setosa (8, 17, 8, 3) Iris-setosa same\n",
      "Iris-setosa (12, 21, 4, 1) Iris-setosa same\n",
      "Iris-setosa (8, 17, 5, 2) Iris-setosa same\n",
      "Iris-virginica (26, 10, 27, 19) Iris-virginica same\n",
      "Iris-virginica (21, 11, 29, 19) Iris-virginica same\n",
      "Iris-versicolor (20, 2, 20, 9) Iris-versicolor same\n",
      "Iris-setosa (7, 11, 2, 1) Iris-setosa same\n",
      "Iris-setosa (7, 14, 3, 2) Iris-setosa same\n",
      "Iris-versicolor (20, 12, 23, 12) Iris-versicolor same\n",
      "Iris-setosa (3, 11, 4, 1) Iris-setosa same\n",
      "Iris-setosa (7, 14, 6, 5) Iris-setosa same\n",
      "Iris-versicolor (18, 8, 23, 10) Iris-versicolor same\n",
      "Iris-versicolor (11, 9, 21, 11) Iris-versicolor same\n",
      "Iris-virginica (15, 7, 27, 20) Iris-virginica same\n",
      "Iris-versicolor (18, 9, 22, 10) Iris-versicolor same\n",
      "Iris-setosa (7, 13, 5, 1) Iris-setosa same\n",
      "Iris-virginica (15, 6, 27, 15) Iris-virginica same\n",
      "Iris-versicolor (15, 6, 17, 6) Iris-versicolor same\n",
      "Iris-virginica (29, 15, 37, 21) Iris-virginica same\n",
      "Iris-virginica (20, 12, 36, 21) Iris-virginica same\n",
      "Iris-versicolor (22, 7, 22, 11) Iris-versicolor same\n",
      "Iris-setosa (4, 11, 6, 1) Iris-setosa same\n",
      "Iris-versicolor (7, 2, 10, 6) Iris-versicolor same\n",
      "Iris-versicolor (12, 3, 14, 7) Iris-versicolor same\n",
      "Iris-virginica (20, 7, 27, 11) Iris-virginica same\n",
      "Iris-versicolor (13, 9, 17, 9) Iris-versicolor same\n",
      "Iris-setosa (8, 12, 7, 4) Iris-setosa same\n",
      "Iris-versicolor (26, 10, 25, 11) Iris-versicolor same\n",
      "Iris-virginica (29, 9, 34, 12) Iris-virginica same\n",
      "Iris-virginica (24, 9, 28, 19) Iris-virginica same\n"
     ]
    }
   ],
   "source": [
    "for i in range(len(svm_pred)):\n",
    "    z = svm_pred[i]\n",
    "    a = \"\"\n",
    "    if(d[z] == d[y_test[i]]):\n",
    "        a = \"same\"\n",
    "    else:\n",
    "        a = \"diff\"\n",
    "    print(d[z],x_test[i],d[y_test[i]],a)\n",
    "    "
   ]
  },
  {
   "cell_type": "markdown",
   "id": "9b0832c8",
   "metadata": {},
   "source": [
    "##### Adding kernel"
   ]
  },
  {
   "cell_type": "code",
   "execution_count": 178,
   "id": "2051e7e4",
   "metadata": {},
   "outputs": [],
   "source": [
    "svm1 = svm.SVC(kernel = \"linear\")\n",
    "svm1.fit(x_train, y_train)\n",
    "svm_pred1 = svm1.predict(x_test)"
   ]
  },
  {
   "cell_type": "code",
   "execution_count": 179,
   "id": "72e0cd43",
   "metadata": {},
   "outputs": [
    {
     "data": {
      "text/plain": [
       "0.9555555555555556"
      ]
     },
     "execution_count": 179,
     "metadata": {},
     "output_type": "execute_result"
    }
   ],
   "source": [
    "svm_acc1 = metrics.accuracy_score(y_test,svm_pred1)\n",
    "svm_acc1"
   ]
  },
  {
   "cell_type": "code",
   "execution_count": 180,
   "id": "e2338d35",
   "metadata": {},
   "outputs": [
    {
     "name": "stdout",
     "output_type": "stream",
     "text": [
      "Iris-versicolor (17, 13, 21, 12) Iris-versicolor same\n",
      "Iris-virginica (21, 7, 32, 17) Iris-virginica same\n",
      "Iris-virginica (21, 6, 29, 15) Iris-virginica same\n",
      "Iris-versicolor (9, 6, 15, 10) Iris-versicolor same\n",
      "Iris-setosa (9, 14, 5, 1) Iris-setosa same\n",
      "Iris-setosa (3, 10, 5, 1) Iris-setosa same\n",
      "Iris-versicolor (13, 8, 12, 9) Iris-versicolor same\n",
      "Iris-setosa (9, 20, 5, 0) Iris-setosa same\n",
      "Iris-setosa (11, 13, 5, 3) Iris-setosa same\n",
      "Iris-virginica (33, 7, 41, 16) Iris-virginica same\n",
      "Iris-virginica (16, 9, 27, 14) Iris-virginica same\n",
      "Iris-versicolor (27, 11, 23, 10) Iris-versicolor same\n",
      "Iris-versicolor (15, 6, 15, 8) Iris-versicolor same\n",
      "Iris-virginica (33, 9, 37, 19) Iris-virginica same\n",
      "Iris-versicolor (20, 4, 25, 11) Iris-versicolor same\n",
      "Iris-setosa (8, 17, 8, 3) Iris-setosa same\n",
      "Iris-setosa (12, 21, 4, 1) Iris-setosa same\n",
      "Iris-setosa (8, 17, 5, 2) Iris-setosa same\n",
      "Iris-virginica (26, 10, 27, 19) Iris-virginica same\n",
      "Iris-virginica (21, 11, 29, 19) Iris-virginica same\n",
      "Iris-versicolor (20, 2, 20, 9) Iris-versicolor same\n",
      "Iris-setosa (7, 11, 2, 1) Iris-setosa same\n",
      "Iris-setosa (7, 14, 3, 2) Iris-setosa same\n",
      "Iris-versicolor (20, 12, 23, 12) Iris-versicolor same\n",
      "Iris-setosa (3, 11, 4, 1) Iris-setosa same\n",
      "Iris-setosa (7, 14, 6, 5) Iris-setosa same\n",
      "Iris-versicolor (18, 8, 23, 10) Iris-versicolor same\n",
      "Iris-versicolor (11, 9, 21, 11) Iris-versicolor same\n",
      "Iris-virginica (15, 7, 27, 20) Iris-virginica same\n",
      "Iris-versicolor (18, 9, 22, 10) Iris-versicolor same\n",
      "Iris-setosa (7, 13, 5, 1) Iris-setosa same\n",
      "Iris-virginica (15, 6, 27, 15) Iris-virginica same\n",
      "Iris-versicolor (15, 6, 17, 6) Iris-versicolor same\n",
      "Iris-virginica (29, 15, 37, 21) Iris-virginica same\n",
      "Iris-virginica (20, 12, 36, 21) Iris-virginica same\n",
      "Iris-versicolor (22, 7, 22, 11) Iris-versicolor same\n",
      "Iris-setosa (4, 11, 6, 1) Iris-setosa same\n",
      "Iris-versicolor (7, 2, 10, 6) Iris-versicolor same\n",
      "Iris-versicolor (12, 3, 14, 7) Iris-versicolor same\n",
      "Iris-versicolor (20, 7, 27, 11) Iris-virginica diff\n",
      "Iris-versicolor (13, 9, 17, 9) Iris-versicolor same\n",
      "Iris-setosa (8, 12, 7, 4) Iris-setosa same\n",
      "Iris-versicolor (26, 10, 25, 11) Iris-versicolor same\n",
      "Iris-versicolor (29, 9, 34, 12) Iris-virginica diff\n",
      "Iris-virginica (24, 9, 28, 19) Iris-virginica same\n"
     ]
    }
   ],
   "source": [
    "for i in range(len(svm_pred1)):\n",
    "    z = svm_pred1[i]\n",
    "    a = \"\"\n",
    "    if(d[z] == d[y_test[i]]):\n",
    "        a = \"same\"\n",
    "    else:\n",
    "        a = \"diff\"\n",
    "    print(d[z],x_test[i],d[y_test[i]],a)\n",
    "    "
   ]
  },
  {
   "cell_type": "markdown",
   "id": "852ce653",
   "metadata": {},
   "source": [
    "# KNN algorithm"
   ]
  },
  {
   "cell_type": "code",
   "execution_count": 181,
   "id": "4f023c6a",
   "metadata": {},
   "outputs": [],
   "source": [
    "from sklearn.neighbors import KNeighborsClassifier\n"
   ]
  },
  {
   "cell_type": "code",
   "execution_count": 182,
   "id": "347159f3",
   "metadata": {},
   "outputs": [
    {
     "data": {
      "text/plain": [
       "KNeighborsClassifier(n_neighbors=11)"
      ]
     },
     "execution_count": 182,
     "metadata": {},
     "output_type": "execute_result"
    }
   ],
   "source": [
    "knn = KNeighborsClassifier(n_neighbors=11)\n",
    "knn"
   ]
  },
  {
   "cell_type": "markdown",
   "id": "5d9eadf4",
   "metadata": {},
   "source": [
    "#### Fitting and prediction"
   ]
  },
  {
   "cell_type": "code",
   "execution_count": 183,
   "id": "bf94cbb8",
   "metadata": {},
   "outputs": [
    {
     "data": {
      "text/plain": [
       "array([1, 2, 2, 1, 0, 0, 1, 0, 0, 2, 2, 1, 1, 2, 1, 0, 0, 0, 2, 2, 1, 0,\n",
       "       0, 1, 0, 0, 1, 1, 2, 1, 0, 2, 1, 2, 2, 1, 0, 1, 1, 2, 1, 0, 1, 2,\n",
       "       2])"
      ]
     },
     "execution_count": 183,
     "metadata": {},
     "output_type": "execute_result"
    }
   ],
   "source": [
    "knn.fit(x_train,y_train)\n",
    "knn_pred = knn.predict(x_test)\n",
    "knn_pred"
   ]
  },
  {
   "cell_type": "markdown",
   "id": "05497372",
   "metadata": {},
   "source": [
    "##### Accuracy"
   ]
  },
  {
   "cell_type": "code",
   "execution_count": 185,
   "id": "f4c338fb",
   "metadata": {},
   "outputs": [
    {
     "data": {
      "text/plain": [
       "1.0"
      ]
     },
     "execution_count": 185,
     "metadata": {},
     "output_type": "execute_result"
    }
   ],
   "source": [
    "knn_acc = metrics.accuracy_score(y_test,knn_pred)\n",
    "knn_acc"
   ]
  },
  {
   "cell_type": "code",
   "execution_count": 191,
   "id": "ec58eedd",
   "metadata": {},
   "outputs": [
    {
     "name": "stdout",
     "output_type": "stream",
     "text": [
      "Iris-versicolor (17, 13, 21, 12) Iris-versicolor same\n",
      "Iris-virginica (21, 7, 32, 17) Iris-virginica same\n",
      "Iris-virginica (21, 6, 29, 15) Iris-virginica same\n",
      "Iris-versicolor (9, 6, 15, 10) Iris-versicolor same\n",
      "Iris-setosa (9, 14, 5, 1) Iris-setosa same\n",
      "Iris-setosa (3, 10, 5, 1) Iris-setosa same\n",
      "Iris-versicolor (13, 8, 12, 9) Iris-versicolor same\n",
      "Iris-setosa (9, 20, 5, 0) Iris-setosa same\n",
      "Iris-setosa (11, 13, 5, 3) Iris-setosa same\n",
      "Iris-virginica (33, 7, 41, 16) Iris-virginica same\n",
      "Iris-virginica (16, 9, 27, 14) Iris-virginica same\n",
      "Iris-versicolor (27, 11, 23, 10) Iris-versicolor same\n",
      "Iris-versicolor (15, 6, 15, 8) Iris-versicolor same\n",
      "Iris-virginica (33, 9, 37, 19) Iris-virginica same\n",
      "Iris-versicolor (20, 4, 25, 11) Iris-versicolor same\n",
      "Iris-setosa (8, 17, 8, 3) Iris-setosa same\n",
      "Iris-setosa (12, 21, 4, 1) Iris-setosa same\n",
      "Iris-setosa (8, 17, 5, 2) Iris-setosa same\n",
      "Iris-virginica (26, 10, 27, 19) Iris-virginica same\n",
      "Iris-virginica (21, 11, 29, 19) Iris-virginica same\n",
      "Iris-versicolor (20, 2, 20, 9) Iris-versicolor same\n",
      "Iris-setosa (7, 11, 2, 1) Iris-setosa same\n",
      "Iris-setosa (7, 14, 3, 2) Iris-setosa same\n",
      "Iris-versicolor (20, 12, 23, 12) Iris-versicolor same\n",
      "Iris-setosa (3, 11, 4, 1) Iris-setosa same\n",
      "Iris-setosa (7, 14, 6, 5) Iris-setosa same\n",
      "Iris-versicolor (18, 8, 23, 10) Iris-versicolor same\n",
      "Iris-versicolor (11, 9, 21, 11) Iris-versicolor same\n",
      "Iris-virginica (15, 7, 27, 20) Iris-virginica same\n",
      "Iris-versicolor (18, 9, 22, 10) Iris-versicolor same\n",
      "Iris-setosa (7, 13, 5, 1) Iris-setosa same\n",
      "Iris-virginica (15, 6, 27, 15) Iris-virginica same\n",
      "Iris-versicolor (15, 6, 17, 6) Iris-versicolor same\n",
      "Iris-virginica (29, 15, 37, 21) Iris-virginica same\n",
      "Iris-virginica (20, 12, 36, 21) Iris-virginica same\n",
      "Iris-versicolor (22, 7, 22, 11) Iris-versicolor same\n",
      "Iris-setosa (4, 11, 6, 1) Iris-setosa same\n",
      "Iris-versicolor (7, 2, 10, 6) Iris-versicolor same\n",
      "Iris-versicolor (12, 3, 14, 7) Iris-versicolor same\n",
      "Iris-virginica (20, 7, 27, 11) Iris-virginica same\n",
      "Iris-versicolor (13, 9, 17, 9) Iris-versicolor same\n",
      "Iris-setosa (8, 12, 7, 4) Iris-setosa same\n",
      "Iris-versicolor (26, 10, 25, 11) Iris-versicolor same\n",
      "Iris-virginica (29, 9, 34, 12) Iris-virginica same\n",
      "Iris-virginica (24, 9, 28, 19) Iris-virginica same\n"
     ]
    }
   ],
   "source": [
    "for i in range(len(knn_pred)):\n",
    "    a = \"\"\n",
    "    if(d[knn_pred[i]] == d[y_test[i]]):\n",
    "        a = \"same\"\n",
    "    else:\n",
    "        a = \"diff\"\n",
    "    print(d[knn_pred[i]],x_test[i],d[y_test[i]],a)\n",
    "    "
   ]
  },
  {
   "cell_type": "markdown",
   "id": "5f2a7986",
   "metadata": {},
   "source": [
    "# K means CLustering"
   ]
  },
  {
   "cell_type": "code",
   "execution_count": 192,
   "id": "4b7098d0",
   "metadata": {},
   "outputs": [],
   "source": [
    "from sklearn.cluster import KMeans\n",
    "from sklearn.preprocessing import scale"
   ]
  },
  {
   "cell_type": "code",
   "execution_count": 202,
   "id": "6df84418",
   "metadata": {},
   "outputs": [
    {
     "data": {
      "text/plain": [
       "KMeans(init='random', n_clusters=3)"
      ]
     },
     "execution_count": 202,
     "metadata": {},
     "output_type": "execute_result"
    }
   ],
   "source": [
    "kmeans = KMeans(n_clusters=3, init=\"random\", n_init=10)\n",
    "kmeans.fit(x_train,y_train)"
   ]
  },
  {
   "cell_type": "code",
   "execution_count": 203,
   "id": "2df10c7e",
   "metadata": {},
   "outputs": [
    {
     "data": {
      "text/plain": [
       "array([2, 0, 0, 2, 1, 1, 2, 1, 1, 0, 2, 2, 2, 0, 2, 1, 1, 1, 0, 0, 2, 1,\n",
       "       1, 2, 1, 1, 2, 2, 2, 2, 1, 2, 2, 0, 0, 2, 1, 1, 2, 2, 2, 1, 0, 0,\n",
       "       0])"
      ]
     },
     "execution_count": 203,
     "metadata": {},
     "output_type": "execute_result"
    }
   ],
   "source": [
    "kmeans_pred = kmeans.predict(x_test)\n",
    "kmeans_pred"
   ]
  },
  {
   "cell_type": "code",
   "execution_count": 205,
   "id": "8d72921a",
   "metadata": {},
   "outputs": [
    {
     "data": {
      "text/plain": [
       "0.1111111111111111"
      ]
     },
     "execution_count": 205,
     "metadata": {},
     "output_type": "execute_result"
    }
   ],
   "source": [
    "km_acc = metrics.accuracy_score(y_test,kmeans_pred)\n",
    "km_acc"
   ]
  },
  {
   "cell_type": "code",
   "execution_count": 206,
   "id": "a517f147",
   "metadata": {},
   "outputs": [
    {
     "name": "stdout",
     "output_type": "stream",
     "text": [
      "Iris-virginica (17, 13, 21, 12) Iris-versicolor diff\n",
      "Iris-setosa (21, 7, 32, 17) Iris-virginica diff\n",
      "Iris-setosa (21, 6, 29, 15) Iris-virginica diff\n",
      "Iris-virginica (9, 6, 15, 10) Iris-versicolor diff\n",
      "Iris-versicolor (9, 14, 5, 1) Iris-setosa diff\n",
      "Iris-versicolor (3, 10, 5, 1) Iris-setosa diff\n",
      "Iris-virginica (13, 8, 12, 9) Iris-versicolor diff\n",
      "Iris-versicolor (9, 20, 5, 0) Iris-setosa diff\n",
      "Iris-versicolor (11, 13, 5, 3) Iris-setosa diff\n",
      "Iris-setosa (33, 7, 41, 16) Iris-virginica diff\n",
      "Iris-virginica (16, 9, 27, 14) Iris-virginica same\n",
      "Iris-virginica (27, 11, 23, 10) Iris-versicolor diff\n",
      "Iris-virginica (15, 6, 15, 8) Iris-versicolor diff\n",
      "Iris-setosa (33, 9, 37, 19) Iris-virginica diff\n",
      "Iris-virginica (20, 4, 25, 11) Iris-versicolor diff\n",
      "Iris-versicolor (8, 17, 8, 3) Iris-setosa diff\n",
      "Iris-versicolor (12, 21, 4, 1) Iris-setosa diff\n",
      "Iris-versicolor (8, 17, 5, 2) Iris-setosa diff\n",
      "Iris-setosa (26, 10, 27, 19) Iris-virginica diff\n",
      "Iris-setosa (21, 11, 29, 19) Iris-virginica diff\n",
      "Iris-virginica (20, 2, 20, 9) Iris-versicolor diff\n",
      "Iris-versicolor (7, 11, 2, 1) Iris-setosa diff\n",
      "Iris-versicolor (7, 14, 3, 2) Iris-setosa diff\n",
      "Iris-virginica (20, 12, 23, 12) Iris-versicolor diff\n",
      "Iris-versicolor (3, 11, 4, 1) Iris-setosa diff\n",
      "Iris-versicolor (7, 14, 6, 5) Iris-setosa diff\n",
      "Iris-virginica (18, 8, 23, 10) Iris-versicolor diff\n",
      "Iris-virginica (11, 9, 21, 11) Iris-versicolor diff\n",
      "Iris-virginica (15, 7, 27, 20) Iris-virginica same\n",
      "Iris-virginica (18, 9, 22, 10) Iris-versicolor diff\n",
      "Iris-versicolor (7, 13, 5, 1) Iris-setosa diff\n",
      "Iris-virginica (15, 6, 27, 15) Iris-virginica same\n",
      "Iris-virginica (15, 6, 17, 6) Iris-versicolor diff\n",
      "Iris-setosa (29, 15, 37, 21) Iris-virginica diff\n",
      "Iris-setosa (20, 12, 36, 21) Iris-virginica diff\n",
      "Iris-virginica (22, 7, 22, 11) Iris-versicolor diff\n",
      "Iris-versicolor (4, 11, 6, 1) Iris-setosa diff\n",
      "Iris-versicolor (7, 2, 10, 6) Iris-versicolor same\n",
      "Iris-virginica (12, 3, 14, 7) Iris-versicolor diff\n",
      "Iris-virginica (20, 7, 27, 11) Iris-virginica same\n",
      "Iris-virginica (13, 9, 17, 9) Iris-versicolor diff\n",
      "Iris-versicolor (8, 12, 7, 4) Iris-setosa diff\n",
      "Iris-setosa (26, 10, 25, 11) Iris-versicolor diff\n",
      "Iris-setosa (29, 9, 34, 12) Iris-virginica diff\n",
      "Iris-setosa (24, 9, 28, 19) Iris-virginica diff\n"
     ]
    }
   ],
   "source": [
    "for i in range(len(kmeans_pred)):\n",
    "    a = \"\"\n",
    "    if(d[kmeans_pred[i]] == d[y_test[i]]):\n",
    "        a = \"same\"\n",
    "    else:\n",
    "        a = \"diff\"\n",
    "    print(d[kmeans_pred[i]],x_test[i],d[y_test[i]],a)\n",
    "    "
   ]
  },
  {
   "cell_type": "code",
   "execution_count": null,
   "id": "7e5a2fb4",
   "metadata": {},
   "outputs": [],
   "source": []
  },
  {
   "cell_type": "code",
   "execution_count": null,
   "id": "18465f00",
   "metadata": {},
   "outputs": [],
   "source": []
  },
  {
   "cell_type": "code",
   "execution_count": null,
   "id": "bd32925c",
   "metadata": {},
   "outputs": [],
   "source": []
  },
  {
   "cell_type": "code",
   "execution_count": null,
   "id": "692a7b21",
   "metadata": {},
   "outputs": [],
   "source": []
  },
  {
   "cell_type": "code",
   "execution_count": null,
   "id": "129afcee",
   "metadata": {},
   "outputs": [],
   "source": []
  },
  {
   "cell_type": "code",
   "execution_count": null,
   "id": "34bd9804",
   "metadata": {},
   "outputs": [],
   "source": []
  },
  {
   "cell_type": "code",
   "execution_count": null,
   "id": "716a9730",
   "metadata": {},
   "outputs": [],
   "source": []
  },
  {
   "cell_type": "code",
   "execution_count": null,
   "id": "67f566b1",
   "metadata": {},
   "outputs": [],
   "source": []
  },
  {
   "cell_type": "code",
   "execution_count": null,
   "id": "2018d385",
   "metadata": {},
   "outputs": [],
   "source": []
  },
  {
   "cell_type": "code",
   "execution_count": null,
   "id": "2d433b21",
   "metadata": {},
   "outputs": [],
   "source": []
  },
  {
   "cell_type": "code",
   "execution_count": null,
   "id": "cf7005e8",
   "metadata": {},
   "outputs": [],
   "source": []
  },
  {
   "cell_type": "code",
   "execution_count": null,
   "id": "368246a5",
   "metadata": {},
   "outputs": [],
   "source": []
  },
  {
   "cell_type": "code",
   "execution_count": null,
   "id": "47fecad0",
   "metadata": {},
   "outputs": [],
   "source": []
  },
  {
   "cell_type": "code",
   "execution_count": null,
   "id": "8133b919",
   "metadata": {},
   "outputs": [],
   "source": []
  },
  {
   "cell_type": "code",
   "execution_count": null,
   "id": "2d2c72a4",
   "metadata": {},
   "outputs": [],
   "source": []
  },
  {
   "cell_type": "code",
   "execution_count": null,
   "id": "66e21768",
   "metadata": {},
   "outputs": [],
   "source": []
  },
  {
   "cell_type": "code",
   "execution_count": null,
   "id": "0a99ba8f",
   "metadata": {},
   "outputs": [],
   "source": []
  }
 ],
 "metadata": {
  "kernelspec": {
   "display_name": "Python 3 (ipykernel)",
   "language": "python",
   "name": "python3"
  },
  "language_info": {
   "codemirror_mode": {
    "name": "ipython",
    "version": 3
   },
   "file_extension": ".py",
   "mimetype": "text/x-python",
   "name": "python",
   "nbconvert_exporter": "python",
   "pygments_lexer": "ipython3",
   "version": "3.9.6"
  }
 },
 "nbformat": 4,
 "nbformat_minor": 5
}
