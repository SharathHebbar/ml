{
 "cells": [
  {
   "cell_type": "markdown",
   "id": "21cd93b5",
   "metadata": {},
   "source": [
    "Given a list of numbers print square and cube of every numbers\n",
    "for example input : [2,3,8,9]\n",
    "op : square list = [4,9,64,81]\n",
    "     cube = [8,27,512,729]"
   ]
  },
  {
   "cell_type": "code",
   "execution_count": 1,
   "id": "6557b206",
   "metadata": {},
   "outputs": [],
   "source": [
    "import time"
   ]
  },
  {
   "cell_type": "code",
   "execution_count": 18,
   "id": "763373df",
   "metadata": {},
   "outputs": [],
   "source": [
    "def sq(n):\n",
    "    print(\"Square of 2 numbers\")\n",
    "    for i in n:\n",
    "        time.sleep(0.2)\n",
    "        print('Square: ',i**2)\n",
    "def cub(n):\n",
    "    print(\"Cube of 2 numbers\")\n",
    "    for i in n:\n",
    "        time.sleep(0.2)\n",
    "        print('Cube: ',i**3)"
   ]
  },
  {
   "cell_type": "code",
   "execution_count": 5,
   "id": "8706cf13",
   "metadata": {},
   "outputs": [
    {
     "name": "stdout",
     "output_type": "stream",
     "text": [
      "Square of 2 numbers\n",
      "Square:  4\n",
      "Square:  9\n",
      "Square:  64\n",
      "Square:  81\n",
      "Cube of 2 numbers\n",
      "Cube:  8\n",
      "Cube:  27\n",
      "Cube:  512\n",
      "Cube:  729\n",
      "Done in:  1.6449737548828125\n"
     ]
    }
   ],
   "source": [
    "a = [2,3,8,9]\n",
    "t = time.time()\n",
    "sq(a)\n",
    "cub(a)\n",
    "\n",
    "print(\"Done in: \",time.time()-t)"
   ]
  },
  {
   "cell_type": "code",
   "execution_count": 12,
   "id": "9c51591a",
   "metadata": {},
   "outputs": [],
   "source": [
    "import time\n",
    "import threading\n",
    "def sq(n):\n",
    "    print(\"Square of 2 numbers\")\n",
    "    for i in n:\n",
    "        time.sleep(0.2)\n",
    "        print('Square: ',i**2)\n",
    "def cub(n):\n",
    "    print(\"Cube of 2 numbers\")\n",
    "    for i in n:\n",
    "        time.sleep(0.2)\n",
    "        print('Cube: ',i**3)\n",
    "        \n",
    "a = [2,3,8,9]\n",
    "t = time.time()\n",
    "t1 = threading.Thread(target= sq,args = (a,))\n",
    "t2 = threading.Thread(target= cub,args = (a,))\n",
    "\n",
    "t1.start()\n",
    "t2.start()\n",
    "\n",
    "t1.join()\n",
    "t2.join()\n",
    "print(\"Done in: \",time.time()-t)"
   ]
  },
  {
   "cell_type": "code",
   "execution_count": 19,
   "id": "a6abb0a2",
   "metadata": {},
   "outputs": [],
   "source": []
  },
  {
   "cell_type": "code",
   "execution_count": 20,
   "id": "c5b14d4a",
   "metadata": {},
   "outputs": [
    {
     "name": "stdout",
     "output_type": "stream",
     "text": [
      "Square of 2 numbers\n",
      "Cube of 2 numbers\n",
      "Square:  4Cube:  8\n",
      "\n",
      "Square:  9\n",
      "Cube:  27\n",
      "Square: Cube:  512\n",
      " 64\n",
      "Square: Cube:   729\n",
      "81\n",
      "Done in:  2.306521415710449\n"
     ]
    }
   ],
   "source": []
  },
  {
   "cell_type": "code",
   "execution_count": null,
   "id": "2fb322f6",
   "metadata": {},
   "outputs": [],
   "source": []
  }
 ],
 "metadata": {
  "kernelspec": {
   "display_name": "Python 3 (ipykernel)",
   "language": "python",
   "name": "python3"
  },
  "language_info": {
   "codemirror_mode": {
    "name": "ipython",
    "version": 3
   },
   "file_extension": ".py",
   "mimetype": "text/x-python",
   "name": "python",
   "nbconvert_exporter": "python",
   "pygments_lexer": "ipython3",
   "version": "3.9.6"
  }
 },
 "nbformat": 4,
 "nbformat_minor": 5
}
