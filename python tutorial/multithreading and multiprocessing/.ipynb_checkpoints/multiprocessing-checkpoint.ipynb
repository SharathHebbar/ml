{
 "cells": [
  {
   "cell_type": "markdown",
   "id": "10b26a66",
   "metadata": {},
   "source": [
    "Given a list of numbers print square and cube of every numbers\n",
    "for example input : [2,3,8,9]\n",
    "op : square list = [4,9,64,81]\n",
    "     cube = [8,27,512,729]"
   ]
  },
  {
   "cell_type": "code",
   "execution_count": 5,
   "id": "15b84342",
   "metadata": {},
   "outputs": [
    {
     "name": "stdout",
     "output_type": "stream",
     "text": [
      "Done\n"
     ]
    }
   ],
   "source": [
    "import multiprocessing\n",
    "\n",
    "def sq(n):\n",
    "    print(\"Square of 2 numbers\")\n",
    "    for i in n:\n",
    "        print('Square: ',i**2)\n",
    "def cub(n):\n",
    "    print(\"Cube of 2 numbers\")\n",
    "    for i in n:\n",
    "        print('Cube: ',i**3)\n",
    "\n",
    "if __name__ == '__main__':\n",
    "    a = [2,3,8,9]\n",
    "    p1 = multiprocessing.Process(target=sq,args=(a,))\n",
    "    p2 = multiprocessing.Process(target=cub,args=(a,))\n",
    "    \n",
    "    p1.start()\n",
    "    p2.start()\n",
    "    \n",
    "    p1.join()\n",
    "    p2.join()\n",
    "    \n",
    "    print(\"Done\")"
   ]
  },
  {
   "cell_type": "code",
   "execution_count": 6,
   "id": "c02c8473",
   "metadata": {},
   "outputs": [
    {
     "name": "stdout",
     "output_type": "stream",
     "text": [
      "Done\n"
     ]
    }
   ],
   "source": [
    "import multiprocessing\n",
    "import time\n",
    "\n",
    "def sq(n):\n",
    "    print(\"Square of 2 numbers\")\n",
    "    for i in n:\n",
    "        time.sleep(5)\n",
    "        print('Square: ',i**2)\n",
    "def cub(n):\n",
    "    print(\"Cube of 2 numbers\")\n",
    "    for i in n:\n",
    "        time.sleep(5)\n",
    "        print('Cube: ',i**3)\n",
    "\n",
    "if __name__ == '__main__':\n",
    "    a = [2,3,8,9]\n",
    "    p1 = multiprocessing.Process(target=sq,args=(a,))\n",
    "    p2 = multiprocessing.Process(target=cub,args=(a,))\n",
    "    \n",
    "    p1.start()\n",
    "    p2.start()\n",
    "    \n",
    "    p1.join()\n",
    "    p2.join()\n",
    "    \n",
    "    print(\"Done\")"
   ]
  },
  {
   "cell_type": "code",
   "execution_count": 7,
   "id": "5c9c3c3b",
   "metadata": {},
   "outputs": [
    {
     "ename": "NameError",
     "evalue": "name 'square_result' is not defined",
     "output_type": "error",
     "traceback": [
      "\u001b[1;31m---------------------------------------------------------------------------\u001b[0m",
      "\u001b[1;31mNameError\u001b[0m                                 Traceback (most recent call last)",
      "\u001b[1;32m~\\AppData\\Local\\Temp/ipykernel_11632/2257724017.py\u001b[0m in \u001b[0;36m<module>\u001b[1;34m\u001b[0m\n\u001b[0;32m     16\u001b[0m     \u001b[0mp1\u001b[0m\u001b[1;33m.\u001b[0m\u001b[0mstart\u001b[0m\u001b[1;33m(\u001b[0m\u001b[1;33m)\u001b[0m\u001b[1;33m\u001b[0m\u001b[1;33m\u001b[0m\u001b[0m\n\u001b[0;32m     17\u001b[0m     \u001b[0mp1\u001b[0m\u001b[1;33m.\u001b[0m\u001b[0mjoin\u001b[0m\u001b[1;33m(\u001b[0m\u001b[1;33m)\u001b[0m\u001b[1;33m\u001b[0m\u001b[1;33m\u001b[0m\u001b[0m\n\u001b[1;32m---> 18\u001b[1;33m     \u001b[0mprint\u001b[0m\u001b[1;33m(\u001b[0m\u001b[0msquare_result\u001b[0m\u001b[1;33m)\u001b[0m\u001b[1;33m\u001b[0m\u001b[1;33m\u001b[0m\u001b[0m\n\u001b[0m\u001b[0;32m     19\u001b[0m     \u001b[0mprint\u001b[0m\u001b[1;33m(\u001b[0m\u001b[1;34m\"Done\"\u001b[0m\u001b[1;33m)\u001b[0m\u001b[1;33m\u001b[0m\u001b[1;33m\u001b[0m\u001b[0m\n",
      "\u001b[1;31mNameError\u001b[0m: name 'square_result' is not defined"
     ]
    }
   ],
   "source": [
    "import multiprocessing\n",
    "import time\n",
    "\n",
    "square_list = []\n",
    "def sq(n):\n",
    "    global square_list\n",
    "    print(\"Square of 2 numbers\")\n",
    "    for i in n:\n",
    "        print('Square: ',i**2)\n",
    "        square_list.append(i**2)\n",
    "\n",
    "\n",
    "if __name__ == '__main__':\n",
    "    a = [2,3,8,9]\n",
    "    p1 = multiprocessing.Process(target=sq,args=(a,))\n",
    "    p1.start()\n",
    "    p1.join()\n",
    "    print(square_list)\n",
    "    print(\"Done\")"
   ]
  },
  {
   "cell_type": "code",
   "execution_count": null,
   "id": "d488d48f",
   "metadata": {},
   "outputs": [],
   "source": []
  },
  {
   "cell_type": "code",
   "execution_count": null,
   "id": "2f892d29",
   "metadata": {},
   "outputs": [],
   "source": []
  }
 ],
 "metadata": {
  "kernelspec": {
   "display_name": "Python 3 (ipykernel)",
   "language": "python",
   "name": "python3"
  },
  "language_info": {
   "codemirror_mode": {
    "name": "ipython",
    "version": 3
   },
   "file_extension": ".py",
   "mimetype": "text/x-python",
   "name": "python",
   "nbconvert_exporter": "python",
   "pygments_lexer": "ipython3",
   "version": "3.9.6"
  }
 },
 "nbformat": 4,
 "nbformat_minor": 5
}
