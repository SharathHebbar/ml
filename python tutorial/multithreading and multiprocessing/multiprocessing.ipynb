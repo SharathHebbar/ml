{
 "cells": [
  {
   "cell_type": "markdown",
   "id": "e7945275",
   "metadata": {},
   "source": [
    "Given a list of numbers print square and cube of every numbers\n",
    "for example input : [2,3,8,9]\n",
    "op : square list = [4,9,64,81]\n",
    "     cube = [8,27,512,729]"
   ]
  },
  {
   "cell_type": "code",
   "execution_count": 5,
   "id": "9af2716f",
   "metadata": {},
   "outputs": [
    {
     "name": "stdout",
     "output_type": "stream",
     "text": [
      "Done\n"
     ]
    }
   ],
   "source": [
    "import multiprocessing\n",
    "\n",
    "def sq(n):\n",
    "    print(\"Square of 2 numbers\")\n",
    "    for i in n:\n",
    "        print('Square: ',i**2)\n",
    "def cub(n):\n",
    "    print(\"Cube of 2 numbers\")\n",
    "    for i in n:\n",
    "        print('Cube: ',i**3)\n",
    "\n",
    "if __name__ == '__main__':\n",
    "    a = [2,3,8,9]\n",
    "    p1 = multiprocessing.Process(target=sq,args=(a,))\n",
    "    p2 = multiprocessing.Process(target=cub,args=(a,))\n",
    "    \n",
    "    p1.start()\n",
    "    p2.start()\n",
    "    \n",
    "    p1.join()\n",
    "    p2.join()\n",
    "    \n",
    "    print(\"Done\")"
   ]
  },
  {
   "cell_type": "code",
   "execution_count": 6,
   "id": "dd3548fc",
   "metadata": {},
   "outputs": [
    {
     "name": "stdout",
     "output_type": "stream",
     "text": [
      "Done\n"
     ]
    }
   ],
   "source": [
    "import multiprocessing\n",
    "import time\n",
    "\n",
    "def sq(n):\n",
    "    print(\"Square of 2 numbers\")\n",
    "    for i in n:\n",
    "        time.sleep(5)\n",
    "        print('Square: ',i**2)\n",
    "def cub(n):\n",
    "    print(\"Cube of 2 numbers\")\n",
    "    for i in n:\n",
    "        time.sleep(5)\n",
    "        print('Cube: ',i**3)\n",
    "\n",
    "if __name__ == '__main__':\n",
    "    a = [2,3,8,9]\n",
    "    p1 = multiprocessing.Process(target=sq,args=(a,))\n",
    "    p2 = multiprocessing.Process(target=cub,args=(a,))\n",
    "    \n",
    "    p1.start()\n",
    "    p2.start()\n",
    "    \n",
    "    p1.join()\n",
    "    p2.join()\n",
    "    \n",
    "    print(\"Done\")"
   ]
  },
  {
   "cell_type": "code",
   "execution_count": 8,
   "id": "5c287b8d",
   "metadata": {},
   "outputs": [
    {
     "name": "stdout",
     "output_type": "stream",
     "text": [
      "[]\n",
      "Done\n"
     ]
    }
   ],
   "source": [
    "import multiprocessing\n",
    "import time\n",
    "\n",
    "square_list = []\n",
    "def sq(n):\n",
    "    global square_list\n",
    "    print(\"Square of 2 numbers\")\n",
    "    for i in n:\n",
    "        print('Square: ',i**2)\n",
    "        square_list.append(i**2)\n",
    "\n",
    "\n",
    "if __name__ == '__main__':\n",
    "    a = [2,3,8,9]\n",
    "    p1 = multiprocessing.Process(target=sq,args=(a,))\n",
    "    p1.start()\n",
    "    p1.join()\n",
    "    print(square_list)\n",
    "    print(\"Done\")"
   ]
  },
  {
   "cell_type": "code",
   "execution_count": null,
   "id": "b82717d8",
   "metadata": {},
   "outputs": [],
   "source": []
  },
  {
   "cell_type": "code",
   "execution_count": null,
   "id": "1602d1f4",
   "metadata": {},
   "outputs": [],
   "source": []
  }
 ],
 "metadata": {
  "kernelspec": {
   "display_name": "Python 3 (ipykernel)",
   "language": "python",
   "name": "python3"
  },
  "language_info": {
   "codemirror_mode": {
    "name": "ipython",
    "version": 3
   },
   "file_extension": ".py",
   "mimetype": "text/x-python",
   "name": "python",
   "nbconvert_exporter": "python",
   "pygments_lexer": "ipython3",
   "version": "3.9.6"
  }
 },
 "nbformat": 4,
 "nbformat_minor": 5
}
