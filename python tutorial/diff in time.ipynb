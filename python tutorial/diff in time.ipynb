{
 "cells": [
  {
   "cell_type": "code",
   "execution_count": null,
   "id": "c70589e7",
   "metadata": {},
   "outputs": [],
   "source": [
    "# 2020-01-01  15:00:00\n",
    "# 2020-01-01 16:00:00\n",
    "\n",
    "date1 = input().strip().split(\" \")\n",
    "date2 = input().strip().split(\" \")\n",
    "\n",
    "#print(date1,date2)\n",
    "\n",
    "for i in date1:\n",
    "    if i == '':\n",
    "        date1.remove(\"\")\n",
    "for i in date2:\n",
    "    if i == '':\n",
    "        date2.remove(\"\")\n",
    "    \n",
    "#print(date1,date2)\n",
    "\n",
    "h=0\n",
    "m=0\n",
    "s=0\n",
    "time=\"\"\n",
    "\n",
    "d = int(date2[0][-2:]) - int(date1[0][-2:])\n",
    "h = d*24\n",
    "date1[1].strip()\n",
    "date2[1].strip()\n",
    "#print(date1,date2)\n",
    "h+= int(date2[1][0:2])-int(date1[1][0:2])\n",
    "m += int(date2[1][3:5])-int(date1[1][3:5])\n",
    "s+= int(date2[1][6:])-int(date1[1][6:])\n",
    "hr = \"\"\n",
    "mi =\"\"\n",
    "se = \"\"\n",
    "if(h < 10):\n",
    "    hr = '0'+str(h)\n",
    "else:\n",
    "    hr = str(h)\n",
    "if(m < 10):\n",
    "    mi = '0'+str(m)\n",
    "else:\n",
    "    mi = str(m)\n",
    "if(s < 10):\n",
    "    se = '0'+str(s)\n",
    "else:\n",
    "    se = str(s)\n",
    "res = hr+\":\"+mi+\":\"+se\n",
    "print(res)"
   ]
  }
 ],
 "metadata": {
  "kernelspec": {
   "display_name": "Python 3 (ipykernel)",
   "language": "python",
   "name": "python3"
  },
  "language_info": {
   "codemirror_mode": {
    "name": "ipython",
    "version": 3
   },
   "file_extension": ".py",
   "mimetype": "text/x-python",
   "name": "python",
   "nbconvert_exporter": "python",
   "pygments_lexer": "ipython3",
   "version": "3.9.6"
  }
 },
 "nbformat": 4,
 "nbformat_minor": 5
}
