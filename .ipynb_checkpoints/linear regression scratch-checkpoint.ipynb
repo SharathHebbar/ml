{
 "cells": [
  {
   "cell_type": "markdown",
   "id": "cccc9612",
   "metadata": {},
   "source": [
    "## Importing libraries"
   ]
  },
  {
   "cell_type": "code",
   "execution_count": 68,
   "id": "fc8379d9",
   "metadata": {},
   "outputs": [],
   "source": [
    "import numpy as np\n",
    "import pandas as pd\n",
    "import matplotlib.pyplot as plt\n",
    "import matplotlib.axes as ax"
   ]
  },
  {
   "cell_type": "markdown",
   "id": "53d63278",
   "metadata": {},
   "source": [
    "## Loading data"
   ]
  },
  {
   "cell_type": "code",
   "execution_count": 69,
   "id": "5bc709ec",
   "metadata": {},
   "outputs": [
    {
     "data": {
      "text/html": [
       "<div>\n",
       "<style scoped>\n",
       "    .dataframe tbody tr th:only-of-type {\n",
       "        vertical-align: middle;\n",
       "    }\n",
       "\n",
       "    .dataframe tbody tr th {\n",
       "        vertical-align: top;\n",
       "    }\n",
       "\n",
       "    .dataframe thead th {\n",
       "        text-align: right;\n",
       "    }\n",
       "</style>\n",
       "<table border=\"1\" class=\"dataframe\">\n",
       "  <thead>\n",
       "    <tr style=\"text-align: right;\">\n",
       "      <th></th>\n",
       "      <th>x</th>\n",
       "      <th>y</th>\n",
       "    </tr>\n",
       "  </thead>\n",
       "  <tbody>\n",
       "    <tr>\n",
       "      <th>0</th>\n",
       "      <td>24</td>\n",
       "      <td>21.54</td>\n",
       "    </tr>\n",
       "    <tr>\n",
       "      <th>1</th>\n",
       "      <td>50</td>\n",
       "      <td>47.56</td>\n",
       "    </tr>\n",
       "    <tr>\n",
       "      <th>2</th>\n",
       "      <td>15</td>\n",
       "      <td>17.20</td>\n",
       "    </tr>\n",
       "    <tr>\n",
       "      <th>3</th>\n",
       "      <td>25</td>\n",
       "      <td>22.54</td>\n",
       "    </tr>\n",
       "    <tr>\n",
       "      <th>4</th>\n",
       "      <td>51</td>\n",
       "      <td>48.56</td>\n",
       "    </tr>\n",
       "  </tbody>\n",
       "</table>\n",
       "</div>"
      ],
      "text/plain": [
       "    x      y\n",
       "0  24  21.54\n",
       "1  50  47.56\n",
       "2  15  17.20\n",
       "3  25  22.54\n",
       "4  51  48.56"
      ]
     },
     "execution_count": 69,
     "metadata": {},
     "output_type": "execute_result"
    }
   ],
   "source": [
    "data = pd.read_csv(\"linear.csv\")\n",
    "data.head()"
   ]
  },
  {
   "cell_type": "code",
   "execution_count": 70,
   "id": "8227cb43",
   "metadata": {},
   "outputs": [
    {
     "name": "stdout",
     "output_type": "stream",
     "text": [
      "<class 'pandas.core.frame.DataFrame'>\n",
      "RangeIndex: 29 entries, 0 to 28\n",
      "Data columns (total 2 columns):\n",
      " #   Column  Non-Null Count  Dtype  \n",
      "---  ------  --------------  -----  \n",
      " 0   x       29 non-null     int64  \n",
      " 1   y       29 non-null     float64\n",
      "dtypes: float64(1), int64(1)\n",
      "memory usage: 592.0 bytes\n"
     ]
    }
   ],
   "source": [
    "data.info()"
   ]
  },
  {
   "cell_type": "markdown",
   "id": "bee17c70",
   "metadata": {},
   "source": [
    "## Data preprocessing "
   ]
  },
  {
   "cell_type": "code",
   "execution_count": 71,
   "id": "3dcd4d31",
   "metadata": {},
   "outputs": [
    {
     "data": {
      "text/plain": [
       "(29, 2)"
      ]
     },
     "execution_count": 71,
     "metadata": {},
     "output_type": "execute_result"
    }
   ],
   "source": [
    "data = data.dropna(axis = 0)\n",
    "data.shape\n"
   ]
  },
  {
   "cell_type": "markdown",
   "id": "25c1cdc2",
   "metadata": {},
   "source": [
    "## Splitting data"
   ]
  },
  {
   "cell_type": "code",
   "execution_count": 72,
   "id": "b0c6c9aa",
   "metadata": {},
   "outputs": [
    {
     "name": "stdout",
     "output_type": "stream",
     "text": [
      "(20, 1) (20, 1) (1, 9) (1, 9)\n"
     ]
    }
   ],
   "source": [
    "train_input = np.array(data.x[0:20]).reshape(20, 1 )\n",
    "train_output = np.array(data.x[0:20]).reshape(20, 1)\n",
    "test_input = np.array(data.x[20:30]).reshape(1, 9)\n",
    "test_output = np.array(data.x[20:30]).reshape(1, 9)\n",
    "#print(train_input,train_output,test_input,test_output)\n",
    "print(train_input.shape,train_output.shape,test_input.shape,test_output.shape)"
   ]
  },
  {
   "cell_type": "markdown",
   "id": "0762d0f8",
   "metadata": {},
   "source": [
    "## Linear Regression"
   ]
  },
  {
   "cell_type": "markdown",
   "id": "cf8df512",
   "metadata": {},
   "source": [
    "###### Sequence of steps\n",
    "1. Forward propagation\n",
    "2. cost function\n",
    "3. Backward propagation\n",
    "4. Update parameters"
   ]
  },
  {
   "cell_type": "markdown",
   "id": "c37689d3",
   "metadata": {},
   "source": [
    "## Cost Function"
   ]
  },
  {
   "cell_type": "markdown",
   "id": "2ebe83a7",
   "metadata": {},
   "source": [
    "#### Mean squared error , cost = [(y-f(x)^2)]*2n\n",
    "where y is the actual or value and f(x) are the predicted values"
   ]
  },
  {
   "cell_type": "code",
   "execution_count": 73,
   "id": "e60c9b5f",
   "metadata": {},
   "outputs": [],
   "source": [
    "def cost_fun(predictions, train_output):\n",
    "    cost = np.mean((predictions - train_output)**2)*0.5\n",
    "    return cost"
   ]
  },
  {
   "cell_type": "code",
   "execution_count": null,
   "id": "9adc7396",
   "metadata": {},
   "outputs": [],
   "source": []
  },
  {
   "cell_type": "markdown",
   "id": "85216443",
   "metadata": {},
   "source": [
    "## Forward Propogation"
   ]
  },
  {
   "cell_type": "markdown",
   "id": "f0309d9d",
   "metadata": {},
   "source": [
    "##### f(x) = m*x+c where m and c are the parameters that or model will learn through training"
   ]
  },
  {
   "cell_type": "code",
   "execution_count": 74,
   "id": "5c16cc57",
   "metadata": {},
   "outputs": [],
   "source": [
    "def forward_prop(train_input,parameters):\n",
    "    m = parameters['m']\n",
    "    c = parameters['c']\n",
    "    \n",
    "    predictions = np.multiply(m,train_input)+c\n",
    "    return predictions"
   ]
  },
  {
   "cell_type": "markdown",
   "id": "ceed5121",
   "metadata": {},
   "source": [
    "## Gradient descent for backpropagation"
   ]
  },
  {
   "cell_type": "markdown",
   "id": "40c7fd84",
   "metadata": {},
   "source": [
    "#### using chain rule\n",
    "1. cost\n",
    "2. f = f(x)\n",
    "\n",
    "Partial Dervataive of cost function w.r.t m \n",
    "#### dcost/dm = dcost/df * df/dm\n",
    "Partial Dervataive of cost function w.r.t c \n",
    "#### dcost/dc = dcost/df * df/dc\n",
    "\n",
    "Partial Derivatives\n",
    "1. dcost/df = (f-y)\n",
    "2. df/dm = x\n",
    "3. df/dc = 1\n"
   ]
  },
  {
   "cell_type": "code",
   "execution_count": 75,
   "id": "19901b67",
   "metadata": {},
   "outputs": [],
   "source": [
    "def backward_prop(train_input, train_output, predictions):\n",
    "    derivatives = dict()\n",
    "    df = predictions - test_output\n",
    "    dm = np.mean(np.multiply(df, train_input))\n",
    "    dc = np.mean(df)\n",
    "    \n",
    "    derivatives['dm'] = dm\n",
    "    derivatives['dc'] = dc\n",
    "    \n",
    "    return derivatives\n",
    "    "
   ]
  },
  {
   "cell_type": "markdown",
   "id": "3b75c03a",
   "metadata": {},
   "source": [
    "## Update parameteres"
   ]
  },
  {
   "cell_type": "markdown",
   "id": "29492af1",
   "metadata": {},
   "source": [
    "#### m = m - (learning_rate * dm)\n",
    "#### c = c - (learning_rate * dc)"
   ]
  },
  {
   "cell_type": "code",
   "execution_count": 76,
   "id": "b2d5a432",
   "metadata": {},
   "outputs": [],
   "source": [
    "def update_para(parameters,derivatives,learning_rate):\n",
    "    parameters['m'] = parameters['m'] - learning_rate * derivatives['dm']\n",
    "    parameters['c'] = parameters['c'] - learning_rate * derivatives['dc']\n",
    "    \n",
    "    return parameters"
   ]
  },
  {
   "cell_type": "code",
   "execution_count": null,
   "id": "d7539baf",
   "metadata": {},
   "outputs": [],
   "source": []
  },
  {
   "cell_type": "markdown",
   "id": "24120f87",
   "metadata": {},
   "source": [
    "### Training"
   ]
  },
  {
   "cell_type": "code",
   "execution_count": 85,
   "id": "9e1de066",
   "metadata": {},
   "outputs": [],
   "source": [
    "def train(train_input,train_output,learning_rate,iters):\n",
    "    parameters = dict()\n",
    "    parameters['m'] = np.random.uniform(0,1) * -1\n",
    "    parameters['c'] = np.random.uniform(0,1) * -1\n",
    "    \n",
    "    loss = list()\n",
    "    for i in range(iters):\n",
    "        predictions = forward_prop(train_input, parameters)\n",
    "        cost = cost_fun(predictions, train_output)\n",
    "        loss.append(cost)\n",
    "        \n",
    "        fig, ax = plt.subplots()\n",
    "        ax.plot(train_input,train_output, '+', label = \"original\")\n",
    "        ax.plot(train_input,predictions, '*', label = \"training\")\n",
    "        \n",
    "        legend = ax.legend()\n",
    "        \n",
    "        plt.plot(train_input,train_output, '+')\n",
    "        plt.plot(train_input,predictions, '*')\n",
    "        \n",
    "        plt.show()\n",
    "        \n",
    "        \n",
    "        derivatives = backward_prop(train_input, train_output, predictions)\n",
    "        \n",
    "        parameters = update_para(parameters, derivatives, learning_rate)\n",
    "        \n",
    "        print(\"Iterations: \",i+1,\"Loss: \",loss[-1])\n",
    "        \n",
    "    return parameters, loss\n",
    "    "
   ]
  },
  {
   "cell_type": "code",
   "execution_count": 86,
   "id": "3c197401",
   "metadata": {},
   "outputs": [
    {
     "data": {
      "image/png": "[encoded data removed]",
      "text/plain": [
       "<Figure size 432x288 with 1 Axes>"
      ]
     },
     "metadata": {
      "needs_background": "light"
     },
     "output_type": "display_data"
    },
    {
     "name": "stdout",
     "output_type": "stream",
     "text": [
      "Iterations:  1 Loss:  1275.2058804404037\n"
     ]
    },
    {
     "data": {
      "image/png": "[encoded data removed]",
      "text/plain": [
       "<Figure size 432x288 with 1 Axes>"
      ]
     },
     "metadata": {
      "needs_background": "light"
     },
     "output_type": "display_data"
    },
    {
     "name": "stdout",
     "output_type": "stream",
     "text": [
      "Iterations:  2 Loss:  972.3533085586656\n"
     ]
    },
    {
     "data": {
      "image/png": "[encoded data removed]",
      "text/plain": [
       "<Figure size 432x288 with 1 Axes>"
      ]
     },
     "metadata": {
      "needs_background": "light"
     },
     "output_type": "display_data"
    },
    {
     "name": "stdout",
     "output_type": "stream",
     "text": [
      "Iterations:  3 Loss:  743.0753787630297\n"
     ]
    },
    {
     "data": {
      "image/png": "[encoded data removed]",
      "text/plain": [
       "<Figure size 432x288 with 1 Axes>"
      ]
     },
     "metadata": {
      "needs_background": "light"
     },
     "output_type": "display_data"
    },
    {
     "name": "stdout",
     "output_type": "stream",
     "text": [
      "Iterations:  4 Loss:  569.2929556402524\n"
     ]
    },
    {
     "data": {
      "image/png": "[encoded data removed]",
      "text/plain": [
       "<Figure size 432x288 with 1 Axes>"
      ]
     },
     "metadata": {
      "needs_background": "light"
     },
     "output_type": "display_data"
    },
    {
     "name": "stdout",
     "output_type": "stream",
     "text": [
      "Iterations:  5 Loss:  437.39745790500257\n"
     ]
    },
    {
     "data": {
      "image/png": "[encoded data removed]",
      "text/plain": [
       "<Figure size 432x288 with 1 Axes>"
      ]
     },
     "metadata": {
      "needs_background": "light"
     },
     "output_type": "display_data"
    },
    {
     "name": "stdout",
     "output_type": "stream",
     "text": [
      "Iterations:  6 Loss:  337.14159677127753\n"
     ]
    },
    {
     "data": {
      "image/png": "[encoded data removed]",
      "text/plain": [
       "<Figure size 432x288 with 1 Axes>"
      ]
     },
     "metadata": {
      "needs_background": "light"
     },
     "output_type": "display_data"
    },
    {
     "name": "stdout",
     "output_type": "stream",
     "text": [
      "Iterations:  7 Loss:  260.80586169015294\n"
     ]
    },
    {
     "data": {
      "image/png": "[encoded data removed]",
      "text/plain": [
       "<Figure size 432x288 with 1 Axes>"
      ]
     },
     "metadata": {
      "needs_background": "light"
     },
     "output_type": "display_data"
    },
    {
     "name": "stdout",
     "output_type": "stream",
     "text": [
      "Iterations:  8 Loss:  202.57213799863504\n"
     ]
    },
    {
     "data": {
      "image/png": "[encoded data removed]",
      "text/plain": [
       "<Figure size 432x288 with 1 Axes>"
      ]
     },
     "metadata": {
      "needs_background": "light"
     },
     "output_type": "display_data"
    },
    {
     "name": "stdout",
     "output_type": "stream",
     "text": [
      "Iterations:  9 Loss:  158.0529240660314\n"
     ]
    },
    {
     "data": {
      "image/png": "[encoded data removed]",
      "text/plain": [
       "<Figure size 432x288 with 1 Axes>"
      ]
     },
     "metadata": {
      "needs_background": "light"
     },
     "output_type": "display_data"
    },
    {
     "name": "stdout",
     "output_type": "stream",
     "text": [
      "Iterations:  10 Loss:  123.93744421531395\n"
     ]
    },
    {
     "data": {
      "image/png": "[encoded data removed]",
      "text/plain": [
       "<Figure size 432x288 with 1 Axes>"
      ]
     },
     "metadata": {
      "needs_background": "light"
     },
     "output_type": "display_data"
    },
    {
     "name": "stdout",
     "output_type": "stream",
     "text": [
      "Iterations:  11 Loss:  97.72558770164736\n"
     ]
    },
    {
     "data": {
      "image/png": "[encoded data removed]",
      "text/plain": [
       "<Figure size 432x288 with 1 Axes>"
      ]
     },
     "metadata": {
      "needs_background": "light"
     },
     "output_type": "display_data"
    },
    {
     "name": "stdout",
     "output_type": "stream",
     "text": [
      "Iterations:  12 Loss:  77.52783905221008\n"
     ]
    },
    {
     "data": {
      "image/png": "[encoded data removed]",
      "text/plain": [
       "<Figure size 432x288 with 1 Axes>"
      ]
     },
     "metadata": {
      "needs_background": "light"
     },
     "output_type": "display_data"
    },
    {
     "name": "stdout",
     "output_type": "stream",
     "text": [
      "Iterations:  13 Loss:  61.91479860870974\n"
     ]
    },
    {
     "data": {
      "image/png": "[encoded data removed]",
      "text/plain": [
       "<Figure size 432x288 with 1 Axes>"
      ]
     },
     "metadata": {
      "needs_background": "light"
     },
     "output_type": "display_data"
    },
    {
     "name": "stdout",
     "output_type": "stream",
     "text": [
      "Iterations:  14 Loss:  49.80397283355563\n"
     ]
    },
    {
     "data": {
      "image/png": "[encoded data removed]",
      "text/plain": [
       "<Figure size 432x288 with 1 Axes>"
      ]
     },
     "metadata": {
      "needs_background": "light"
     },
     "output_type": "display_data"
    },
    {
     "name": "stdout",
     "output_type": "stream",
     "text": [
      "Iterations:  15 Loss:  40.3745787529975\n"
     ]
    },
    {
     "data": {
      "image/png": "[encoded data removed]",
      "text/plain": [
       "<Figure size 432x288 with 1 Axes>"
      ]
     },
     "metadata": {
      "needs_background": "light"
     },
     "output_type": "display_data"
    },
    {
     "name": "stdout",
     "output_type": "stream",
     "text": [
      "Iterations:  16 Loss:  33.003408808487485\n"
     ]
    },
    {
     "data": {
      "image/png": "[encoded data removed]",
      "text/plain": [
       "<Figure size 432x288 with 1 Axes>"
      ]
     },
     "metadata": {
      "needs_background": "light"
     },
     "output_type": "display_data"
    },
    {
     "name": "stdout",
     "output_type": "stream",
     "text": [
      "Iterations:  17 Loss:  27.21653135009085\n"
     ]
    },
    {
     "data": {
      "image/png": "[encoded data removed]",
      "text/plain": [
       "<Figure size 432x288 with 1 Axes>"
      ]
     },
     "metadata": {
      "needs_background": "light"
     },
     "output_type": "display_data"
    },
    {
     "name": "stdout",
     "output_type": "stream",
     "text": [
      "Iterations:  18 Loss:  22.652900694657042\n"
     ]
    },
    {
     "data": {
      "image/png": "[encoded data removed]",
      "text/plain": [
       "<Figure size 432x288 with 1 Axes>"
      ]
     },
     "metadata": {
      "needs_background": "light"
     },
     "output_type": "display_data"
    },
    {
     "name": "stdout",
     "output_type": "stream",
     "text": [
      "Iterations:  19 Loss:  19.036926217406236\n"
     ]
    },
    {
     "data": {
      "image/png": "[encoded data removed]",
      "text/plain": [
       "<Figure size 432x288 with 1 Axes>"
      ]
     },
     "metadata": {
      "needs_background": "light"
     },
     "output_type": "display_data"
    },
    {
     "name": "stdout",
     "output_type": "stream",
     "text": [
      "Iterations:  20 Loss:  16.15778279870275\n"
     ]
    }
   ],
   "source": [
    "parameters, loss = train(train_input,train_output,0.0001,20)"
   ]
  },
  {
   "cell_type": "code",
   "execution_count": 87,
   "id": "e464b20b",
   "metadata": {},
   "outputs": [
    {
     "data": {
      "text/plain": [
       "{'m': 0.8640291969603878, 'c': -0.32530943894927766}"
      ]
     },
     "execution_count": 87,
     "metadata": {},
     "output_type": "execute_result"
    }
   ],
   "source": [
    "parameters"
   ]
  },
  {
   "cell_type": "code",
   "execution_count": 88,
   "id": "44d03188",
   "metadata": {},
   "outputs": [
    {
     "data": {
      "text/plain": [
       "[1275.2058804404037,\n",
       " 972.3533085586656,\n",
       " 743.0753787630297,\n",
       " 569.2929556402524,\n",
       " 437.39745790500257,\n",
       " 337.14159677127753,\n",
       " 260.80586169015294,\n",
       " 202.57213799863504,\n",
       " 158.0529240660314,\n",
       " 123.93744421531395,\n",
       " 97.72558770164736,\n",
       " 77.52783905221008,\n",
       " 61.91479860870974,\n",
       " 49.80397283355563,\n",
       " 40.3745787529975,\n",
       " 33.003408808487485,\n",
       " 27.21653135009085,\n",
       " 22.652900694657042,\n",
       " 19.036926217406236,\n",
       " 16.15778279870275]"
      ]
     },
     "execution_count": 88,
     "metadata": {},
     "output_type": "execute_result"
    }
   ],
   "source": [
    "loss"
   ]
  },
  {
   "cell_type": "markdown",
   "id": "704cc0ee",
   "metadata": {},
   "source": [
    "### Lets predict"
   ]
  },
  {
   "cell_type": "code",
   "execution_count": 89,
   "id": "6c58f5d0",
   "metadata": {},
   "outputs": [
    {
     "data": {
      "image/png": "[encoded data removed]",
      "text/plain": [
       "<Figure size 432x288 with 1 Axes>"
      ]
     },
     "metadata": {
      "needs_background": "light"
     },
     "output_type": "display_data"
    }
   ],
   "source": [
    "test_predictions = test_input * parameters[\"m\"] + parameters[\"c\"]\n",
    "plt.figure()\n",
    "plt.plot(test_input,test_output, '+')\n",
    "plt.plot(test_input,test_predictions, '*')\n",
    "\n",
    "plt.show()"
   ]
  },
  {
   "cell_type": "markdown",
   "id": "4cff9ae8",
   "metadata": {},
   "source": [
    "### Cost for the data"
   ]
  },
  {
   "cell_type": "code",
   "execution_count": 92,
   "id": "88a27bb6",
   "metadata": {},
   "outputs": [
    {
     "data": {
      "text/plain": [
       "83.27727019902056"
      ]
     },
     "execution_count": 92,
     "metadata": {},
     "output_type": "execute_result"
    }
   ],
   "source": [
    "a = 100.00 - cost_fun(test_predictions, test_output)\n",
    "a"
   ]
  },
  {
   "cell_type": "code",
   "execution_count": null,
   "id": "7f90ebcb",
   "metadata": {},
   "outputs": [],
   "source": []
  },
  {
   "cell_type": "code",
   "execution_count": null,
   "id": "0ae81520",
   "metadata": {},
   "outputs": [],
   "source": []
  },
  {
   "cell_type": "code",
   "execution_count": null,
   "id": "7df4867b",
   "metadata": {},
   "outputs": [],
   "source": []
  },
  {
   "cell_type": "code",
   "execution_count": null,
   "id": "39b8754c",
   "metadata": {},
   "outputs": [],
   "source": []
  },
  {
   "cell_type": "code",
   "execution_count": null,
   "id": "f27bdad5",
   "metadata": {},
   "outputs": [],
   "source": []
  },
  {
   "cell_type": "code",
   "execution_count": null,
   "id": "99829c05",
   "metadata": {},
   "outputs": [],
   "source": []
  },
  {
   "cell_type": "code",
   "execution_count": null,
   "id": "6a9443d6",
   "metadata": {},
   "outputs": [],
   "source": []
  }
 ],
 "metadata": {
  "kernelspec": {
   "display_name": "Python 3 (ipykernel)",
   "language": "python",
   "name": "python3"
  },
  "language_info": {
   "codemirror_mode": {
    "name": "ipython",
    "version": 3
   },
   "file_extension": ".py",
   "mimetype": "text/x-python",
   "name": "python",
   "nbconvert_exporter": "python",
   "pygments_lexer": "ipython3",
   "version": "3.9.6"
  }
 },
 "nbformat": 4,
 "nbformat_minor": 5
}
